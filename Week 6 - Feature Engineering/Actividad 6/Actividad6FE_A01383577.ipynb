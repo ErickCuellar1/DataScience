{
 "cells": [
  {
   "cell_type": "markdown",
   "metadata": {
    "id": "0v5lZjzQZTms"
   },
   "source": [
    "**MAESTRÍA EN INTELIGENCIA ARTIFICIAL APLICADA**\n",
    "\n",
    "**Curso: TC4029 - Ciencia y analítica de datos**\n",
    "\n",
    "Tecnológico de Monterrey\n",
    "\n",
    "Prof Grettel Barceló Alonso\n",
    "\n",
    "**Semana 6**\n",
    "Ingeniería de características (FE)\n",
    "\n",
    "---"
   ]
  },
  {
   "cell_type": "markdown",
   "metadata": {
    "id": "HfLoXtuKuCug"
   },
   "source": [
    "*   NOMBRE: ERICK ALAN CUELLAR QUINTANILLA\n",
    "*   MATRÍCULA: A01383577\n",
    "\n",
    "*   NOMBRE: Fernando Alfonso Garcia\n",
    "*   MATRÍCULA: A01630011\n",
    "\n",
    "*   NOMBRE: Luis Pablo Perez Perez\n",
    "*   MATRÍCULA: A01420939\n",
    "\n",
    "*   NOMBRE: Rodolfo Antonio Vargas Díaz\n",
    "*   MATRÍCULA: A01411361"
   ]
  },
  {
   "cell_type": "code",
   "execution_count": null,
   "metadata": {
    "colab": {
     "base_uri": "https://localhost:8080/",
     "height": 201
    },
    "executionInfo": {
     "elapsed": 23245,
     "status": "error",
     "timestamp": 1748220002097,
     "user": {
      "displayName": "Rodolfo Antonio Vargas Díaz",
      "userId": "18369909718202854763"
     },
     "user_tz": 240
    },
    "id": "nboaPqUVuHQc",
    "outputId": "4a7c5668-d638-447e-bc4b-a04609782c91"
   },
   "outputs": [
    {
     "name": "stdout",
     "output_type": "stream",
     "text": [
      "Mounted at /content/drive\n"
     ]
    },
    {
     "ename": "FileNotFoundError",
     "evalue": "[Errno 2] No such file or directory: '/content/drive/MyDrive/ColabNotebooks/DataScience/Semana 6'",
     "output_type": "error",
     "traceback": [
      "\u001b[0;31m---------------------------------------------------------------------------\u001b[0m",
      "\u001b[0;31mFileNotFoundError\u001b[0m                         Traceback (most recent call last)",
      "\u001b[0;32m<ipython-input-1-271ed5ce50b6>\u001b[0m in \u001b[0;36m<cell line: 0>\u001b[0;34m()\u001b[0m\n\u001b[1;32m      4\u001b[0m \u001b[0;32mimport\u001b[0m \u001b[0mos\u001b[0m\u001b[0;34m\u001b[0m\u001b[0;34m\u001b[0m\u001b[0m\n\u001b[1;32m      5\u001b[0m \u001b[0mDIR\u001b[0m \u001b[0;34m=\u001b[0m \u001b[0;34m\"/content/drive/MyDrive/ColabNotebooks/DataScience/Semana 6\"\u001b[0m\u001b[0;34m\u001b[0m\u001b[0;34m\u001b[0m\u001b[0m\n\u001b[0;32m----> 6\u001b[0;31m \u001b[0mos\u001b[0m\u001b[0;34m.\u001b[0m\u001b[0mchdir\u001b[0m\u001b[0;34m(\u001b[0m\u001b[0mDIR\u001b[0m\u001b[0;34m)\u001b[0m\u001b[0;34m\u001b[0m\u001b[0;34m\u001b[0m\u001b[0m\n\u001b[0m",
      "\u001b[0;31mFileNotFoundError\u001b[0m: [Errno 2] No such file or directory: '/content/drive/MyDrive/ColabNotebooks/DataScience/Semana 6'"
     ]
    }
   ],
   "source": [
    "# from google.colab import drive\n",
    "# drive.mount('/content/drive')\n",
    "\n",
    "# import os\n",
    "# DIR = \"/content/drive/MyDrive/ColabNotebooks/DataScience/Semana 6\"\n",
    "# os.chdir(DIR)"
   ]
  },
  {
   "cell_type": "code",
   "execution_count": null,
   "metadata": {
    "executionInfo": {
     "elapsed": 1,
     "status": "aborted",
     "timestamp": 1748220002180,
     "user": {
      "displayName": "Rodolfo Antonio Vargas Díaz",
      "userId": "18369909718202854763"
     },
     "user_tz": 240
    },
    "id": "nKdwi4dUuJQG"
   },
   "outputs": [],
   "source": [
    "import os\n",
    "DIR = r\"C:\\Coding\\Masters\\DataScience\\Semana 6\\Actividad 6\"\n",
    "os.chdir(DIR)"
   ]
  },
  {
   "cell_type": "code",
   "execution_count": null,
   "metadata": {
    "executionInfo": {
     "elapsed": 23416,
     "status": "aborted",
     "timestamp": 1748220002182,
     "user": {
      "displayName": "Rodolfo Antonio Vargas Díaz",
      "userId": "18369909718202854763"
     },
     "user_tz": 240
    },
    "id": "7Qc1oYLeZTmu"
   },
   "outputs": [],
   "source": [
    "import pandas as pd\n",
    "import numpy as np\n",
    "import matplotlib.pyplot as plt\n",
    "import seaborn as sns\n",
    "import scipy.stats as stats"
   ]
  },
  {
   "cell_type": "code",
   "execution_count": null,
   "metadata": {
    "executionInfo": {
     "elapsed": 23416,
     "status": "aborted",
     "timestamp": 1748220002183,
     "user": {
      "displayName": "Rodolfo Antonio Vargas Díaz",
      "userId": "18369909718202854763"
     },
     "user_tz": 240
    },
    "id": "8Z_KZl5LZTmz"
   },
   "outputs": [],
   "source": [
    "# https://www.kaggle.com/datasets/austinreese/craigslist-carstrucks-dataLinks to an external site.\n",
    "cars_df = pd.read_csv('vehicles.csv')\n",
    "cars_df"
   ]
  },
  {
   "cell_type": "code",
   "execution_count": null,
   "metadata": {
    "executionInfo": {
     "elapsed": 23418,
     "status": "aborted",
     "timestamp": 1748220002185,
     "user": {
      "displayName": "Rodolfo Antonio Vargas Díaz",
      "userId": "18369909718202854763"
     },
     "user_tz": 240
    },
    "id": "3qh5mTR11Gea"
   },
   "outputs": [],
   "source": [
    "cars_df.info()"
   ]
  },
  {
   "cell_type": "markdown",
   "metadata": {
    "id": "NCkp_IyzsN4r"
   },
   "source": [
    "# **Parte 1**. Preprocesamiento"
   ]
  },
  {
   "cell_type": "markdown",
   "metadata": {
    "id": "OegZ-_zmsjLf"
   },
   "source": [
    "1a)    Elimina las columnas que no serán relevantes para esta actividad: `id`, `VIN`, `url`, `image_url`, `description`, `posting_date`, `lat`, `long`.\n"
   ]
  },
  {
   "cell_type": "code",
   "execution_count": null,
   "metadata": {
    "executionInfo": {
     "elapsed": 23430,
     "status": "aborted",
     "timestamp": 1748220002198,
     "user": {
      "displayName": "Rodolfo Antonio Vargas Díaz",
      "userId": "18369909718202854763"
     },
     "user_tz": 240
    },
    "id": "RC5jdEpJ7fYk"
   },
   "outputs": [],
   "source": [
    "filtered_cars_df = cars_df.drop(columns=['id', 'VIN', 'url','image_url', 'description', 'posting_date', 'lat', 'long'])\n",
    "print(filtered_cars_df.columns)"
   ]
  },
  {
   "cell_type": "markdown",
   "metadata": {
    "id": "SKlWlKM3sa0o"
   },
   "source": [
    "1b) Almacena en una variable la cantidad de observaciones o registros del dataframe y en otra el número de columnas (después del borrado) para análisis posteriores."
   ]
  },
  {
   "cell_type": "code",
   "execution_count": null,
   "metadata": {
    "executionInfo": {
     "elapsed": 0,
     "status": "aborted",
     "timestamp": 1748220002214,
     "user": {
      "displayName": "Rodolfo Antonio Vargas Díaz",
      "userId": "18369909718202854763"
     },
     "user_tz": 240
    },
    "id": "cqo7IbVAVGJk"
   },
   "outputs": [],
   "source": [
    "df_lenght = filtered_cars_df.shape[0]\n",
    "df_column_num = filtered_cars_df.shape[1]\n",
    "print(f\"Cantidad de observaciones: {df_lenght}\")\n",
    "print(f\"Número de columnas en el dataframe: {df_column_num}\")\n"
   ]
  },
  {
   "cell_type": "markdown",
   "metadata": {
    "id": "Oy9NansLCKIC"
   },
   "source": [
    "## Valores faltantes"
   ]
  },
  {
   "cell_type": "markdown",
   "metadata": {
    "id": "Lxx7KHBZtJPV"
   },
   "source": [
    "Cuando la cantidad de valores faltantes en una columna es lo suficientemente grande (aproximadamente más del 25%), estimar e ingresar los valores faltantes no tiene sentido, y eliminar el atributo es mejor que estimar los valores faltantes. https://learning.oreilly.com/library/view/hands-on-data-preprocessing/9781801072137/B17397_11_Final_NM_ePub.xhtml#_idParaDest-188\n",
    "\n",
    "Sin embargo, esto no es una regla aplicable a todos los escenarios y hay muchas discusiones en torno a ello. https://www.quora.com/How-much-missing-data-is-too-much-1\n",
    "\n",
    "Para esta actividad  utilizaremos un umbral de 0.70 de la cantidad de registros (aquellas columnas que tengan 70% de valores no nulos). Considera además que estamos asumiendo que dichas variables son MCAR o MAR sin ninguna método gráfico o estadístico."
   ]
  },
  {
   "cell_type": "markdown",
   "metadata": {
    "id": "SI-uWA9cs0TZ"
   },
   "source": [
    "2a) Determina el porcentaje de valores faltantes por columna y elimina aquellas que posean el 30% o más de valores perdidos. Para ello utiliza el parámetro `thresh` de la función `dropna()` ¿Cuántas columnas se eliminaron?\n"
   ]
  },
  {
   "cell_type": "code",
   "execution_count": null,
   "metadata": {
    "executionInfo": {
     "elapsed": 23448,
     "status": "aborted",
     "timestamp": 1748220002217,
     "user": {
      "displayName": "Rodolfo Antonio Vargas Díaz",
      "userId": "18369909718202854763"
     },
     "user_tz": 240
    },
    "id": "pNiSZv9dCjr0"
   },
   "outputs": [],
   "source": [
    "print('-'*10, 'Porcentaje de valores faltantes por columna','-'*10)\n",
    "print(filtered_cars_df.isna().sum() * 100 / df_lenght)\n",
    "\n",
    "#Dropping columns which have more than 70% of observations missing\n",
    "filtered_cars_df.dropna(axis=1, thresh=cars_df.shape[0]*0.7, inplace=True)\n",
    "print('-'*10, 'Columnas restantes','-'*10)\n",
    "print(filtered_cars_df.columns)\n",
    "print(f'Se eliminaron {df_column_num - filtered_cars_df.shape[1]} columnas')"
   ]
  },
  {
   "cell_type": "markdown",
   "metadata": {
    "id": "TP9PRQdu92td"
   },
   "source": [
    "Además, cuando tenemos grandes conjuntos de datos, podemos eliminar filas que contienen valores nulos. Aunque, no se recomienda si el porcentaje de valores faltantes en el conjunto de datos es superior al 30%\n",
    "https://medium.com/analytics-vidhya/how-to-deal-with-missing-values-in-data-set-8e8f70ecf155"
   ]
  },
  {
   "cell_type": "markdown",
   "metadata": {
    "id": "R7lZuQncu4F6"
   },
   "source": [
    "2b) Borra los registros que contengan `NaN` en las columnas con menos del 5% de valores faltantes empleando el parámetro subset ¿Qué porcentaje de los registros iniciales se eliminaron?\n"
   ]
  },
  {
   "cell_type": "code",
   "execution_count": null,
   "metadata": {
    "executionInfo": {
     "elapsed": 23451,
     "status": "aborted",
     "timestamp": 1748220002220,
     "user": {
      "displayName": "Rodolfo Antonio Vargas Díaz",
      "userId": "18369909718202854763"
     },
     "user_tz": 240
    },
    "id": "9OWIHf2xzKMO"
   },
   "outputs": [],
   "source": [
    "\n",
    "filtered_cars_df.dropna(subset=['year', 'manufacturer', 'model', 'fuel', 'odometer', 'title_status', 'transmission'], inplace=True)\n",
    "perc_of_deleted_values = (df_lenght - filtered_cars_df.shape[0]) * 100 / df_lenght\n",
    "print(f\"Porcentaje de registros eliminados: {perc_of_deleted_values:.2f}%\")"
   ]
  },
  {
   "cell_type": "markdown",
   "metadata": {
    "id": "nLkHFRaM0J3m"
   },
   "source": [
    "2c) Si hay variables que aún poseen valores faltantes, utiliza el método de imputación apropiado (`mean, median, mode`)"
   ]
  },
  {
   "cell_type": "code",
   "execution_count": null,
   "metadata": {
    "executionInfo": {
     "elapsed": 23458,
     "status": "aborted",
     "timestamp": 1748220002228,
     "user": {
      "displayName": "Rodolfo Antonio Vargas Díaz",
      "userId": "18369909718202854763"
     },
     "user_tz": 240
    },
    "id": "QXNQv4VhO6sq"
   },
   "outputs": [],
   "source": [
    "print('-'*10, 'Porcentaje de valores faltantes por columna','-'*10)\n",
    "print(filtered_cars_df.isna().sum() * 100 / df_lenght)"
   ]
  },
  {
   "cell_type": "code",
   "execution_count": null,
   "metadata": {
    "executionInfo": {
     "elapsed": 23460,
     "status": "aborted",
     "timestamp": 1748220002230,
     "user": {
      "displayName": "Rodolfo Antonio Vargas Díaz",
      "userId": "18369909718202854763"
     },
     "user_tz": 240
    },
    "id": "nWfuXpNNH1q7"
   },
   "outputs": [],
   "source": [
    "inputed_cars_df = filtered_cars_df.copy()\n",
    "inputed_cars_df.fillna({'type': inputed_cars_df['type'].mode()[0]}, inplace=True) #Pandas 3.0 warning, had to change the command\n",
    "print('-'*10, 'Porcentaje de valores faltantes por columna','-'*10)\n",
    "print(inputed_cars_df.isna().sum() * 100 / df_lenght)"
   ]
  },
  {
   "cell_type": "markdown",
   "metadata": {
    "id": "JUnSpPktCqZy"
   },
   "source": [
    "## Valores atípicos"
   ]
  },
  {
   "cell_type": "markdown",
   "metadata": {
    "id": "JzbnXqgG0k6-"
   },
   "source": [
    "3a) Obtén el histograma de las variables `price`, `year` y `odometer` para observar su distribución."
   ]
  },
  {
   "cell_type": "code",
   "execution_count": null,
   "metadata": {
    "executionInfo": {
     "elapsed": 23460,
     "status": "aborted",
     "timestamp": 1748220002231,
     "user": {
      "displayName": "Rodolfo Antonio Vargas Díaz",
      "userId": "18369909718202854763"
     },
     "user_tz": 240
    },
    "id": "PMmRujGu8aQS"
   },
   "outputs": [],
   "source": [
    "selected_columns = ['price', 'year', 'odometer']\n",
    "\n",
    "# Seaborn\n",
    "fig, axes = plt.subplots(3,1, figsize=(10,15))\n",
    "plt.subplots_adjust(wspace=0.3)\n",
    "axes = axes.ravel()\n",
    "\n",
    "for col, ax in zip(inputed_cars_df[selected_columns], axes):\n",
    "  sns.histplot(x=inputed_cars_df[col], ax=ax, bins=20)\n",
    "  ax.set(title=f'{col}', xlabel=None)\n",
    "\n"
   ]
  },
  {
   "cell_type": "markdown",
   "metadata": {
    "id": "kP24u7B00qhW"
   },
   "source": [
    "3b) Añade la columna `age`, calculada a partir de `year`, para determinar los años del vehículo y una vez obtenida, elimina la columna `year`. Genera el histograma de la nueva variable."
   ]
  },
  {
   "cell_type": "code",
   "execution_count": null,
   "metadata": {
    "executionInfo": {
     "elapsed": 23461,
     "status": "aborted",
     "timestamp": 1748220002232,
     "user": {
      "displayName": "Rodolfo Antonio Vargas Díaz",
      "userId": "18369909718202854763"
     },
     "user_tz": 240
    },
    "id": "KNBYVkBu7AjE"
   },
   "outputs": [],
   "source": [
    "inputed_cars_df['age'] = 2025 - inputed_cars_df['year']\n",
    "inputed_cars_df.drop('year', axis=1, inplace=True)\n",
    "inputed_cars_df.columns"
   ]
  },
  {
   "cell_type": "code",
   "execution_count": null,
   "metadata": {
    "executionInfo": {
     "elapsed": 23461,
     "status": "aborted",
     "timestamp": 1748220002233,
     "user": {
      "displayName": "Rodolfo Antonio Vargas Díaz",
      "userId": "18369909718202854763"
     },
     "user_tz": 240
    },
    "id": "fa6jdKHZH1q8"
   },
   "outputs": [],
   "source": [
    "plt.figure(figsize=(12,8))\n",
    "sns.histplot(x=inputed_cars_df['age'], bins=10)\n",
    "plt.show()"
   ]
  },
  {
   "cell_type": "markdown",
   "metadata": {
    "id": "CnpwE1Fd03gE"
   },
   "source": [
    "4a) Para visualizar si hay valores atípicos, genera gráficos de box plot para las tres variables (`price, age, odometer`)"
   ]
  },
  {
   "cell_type": "code",
   "execution_count": null,
   "metadata": {
    "executionInfo": {
     "elapsed": 23463,
     "status": "aborted",
     "timestamp": 1748220002235,
     "user": {
      "displayName": "Rodolfo Antonio Vargas Díaz",
      "userId": "18369909718202854763"
     },
     "user_tz": 240
    },
    "id": "N191NSSnH1q9"
   },
   "outputs": [],
   "source": [
    "selected_columns = ['price', 'age', 'odometer']\n",
    "\n",
    "fig, axes = plt.subplots(3,1, figsize=(10,15))\n",
    "axes = axes.ravel()\n",
    "for col, ax in zip(inputed_cars_df[selected_columns], axes):\n",
    "  sns.boxplot(x=inputed_cars_df[col], ax=ax, showmeans=True)\n",
    "  ax.set(xlabel=f'{col}')\n"
   ]
  },
  {
   "cell_type": "markdown",
   "metadata": {
    "id": "cSLCXXoFDmJz"
   },
   "source": [
    "Si el conjunto de outliers es “relativamente grande” (aunque sabemos que deben andar alrededor de un 5% del conjunto total de datos), realizar una investigación particular sobre ellos que permita tomar mejores decisiones."
   ]
  },
  {
   "cell_type": "markdown",
   "metadata": {
    "id": "JFiE-daA1Ist"
   },
   "source": [
    "4b) Calcula, para cada variable, el porcentaje de sus valores atípicos y elimínalos del dataframe ¿Qué porcentaje de los registros iniciales se han eliminado en total hasta ahora?"
   ]
  },
  {
   "cell_type": "code",
   "execution_count": null,
   "metadata": {
    "executionInfo": {
     "elapsed": 23464,
     "status": "aborted",
     "timestamp": 1748220002236,
     "user": {
      "displayName": "Rodolfo Antonio Vargas Díaz",
      "userId": "18369909718202854763"
     },
     "user_tz": 240
    },
    "id": "S3K14OyIH1q9"
   },
   "outputs": [],
   "source": [
    "# inputed_df_lenght = inputed_cars_df.shape[0]\n",
    "outliers_filtered_df = inputed_cars_df.copy()"
   ]
  },
  {
   "cell_type": "code",
   "execution_count": null,
   "metadata": {
    "executionInfo": {
     "elapsed": 23494,
     "status": "aborted",
     "timestamp": 1748220002268,
     "user": {
      "displayName": "Rodolfo Antonio Vargas Díaz",
      "userId": "18369909718202854763"
     },
     "user_tz": 240
    },
    "id": "geyJ_XpUsJbx"
   },
   "outputs": [],
   "source": [
    "def eliminar_outliers(df, col):\n",
    "    q1 = df[col].quantile(0.25)\n",
    "    q3 = df[col].quantile(0.75)\n",
    "    iqr = q3 - q1\n",
    "    lower = q1 - 1.5 * iqr\n",
    "    upper = q3 + 1.5 * iqr\n",
    "    initial = df.shape[0]\n",
    "    df = df[(df[col] >= lower) & (df[col] <= upper)]\n",
    "    final = df.shape[0]\n",
    "    print(f\"{col} - Registros eliminados: {round((initial - final)/initial * 100, 2)}%\")\n",
    "    return df\n",
    "\n",
    "for col in selected_columns:\n",
    "    outliers_filtered_df = eliminar_outliers(outliers_filtered_df, col)"
   ]
  },
  {
   "cell_type": "code",
   "execution_count": null,
   "metadata": {
    "executionInfo": {
     "elapsed": 23502,
     "status": "aborted",
     "timestamp": 1748220002276,
     "user": {
      "displayName": "Rodolfo Antonio Vargas Díaz",
      "userId": "18369909718202854763"
     },
     "user_tz": 240
    },
    "id": "f41sFTmsH1q-"
   },
   "outputs": [],
   "source": [
    "# percentile_25 = outliers_filtered_df[\"odometer\"].quantile(0.25)\n",
    "# percentile_75 = outliers_filtered_df[\"odometer\"].quantile(0.75)\n",
    "# iqr = percentile_75 - percentile_25\n",
    "# upper_limit = percentile_75 + 1.5 * iqr\n",
    "# lower_limit = percentile_25 - 1.5 * iqr\n",
    "# IQR_outliers_odometer = outliers_filtered_df[(outliers_filtered_df[\"odometer\"] < lower_limit) | (outliers_filtered_df[\"odometer\"] > upper_limit)]\n",
    "\n",
    "# print(f\"Longitud del dataframe antes de descartar outliers de odometro: {outliers_filtered_df.shape[0]}\")\n",
    "\n",
    "# outliers_filtered_df.drop(IQR_outliers_odometer.index, inplace=True)\n",
    "\n",
    "# print(f\"Longitud del dataframe despues de descartar outliers de odometro: {outliers_filtered_df.shape[0]}\")"
   ]
  },
  {
   "cell_type": "code",
   "execution_count": null,
   "metadata": {
    "executionInfo": {
     "elapsed": 23505,
     "status": "aborted",
     "timestamp": 1748220002279,
     "user": {
      "displayName": "Rodolfo Antonio Vargas Díaz",
      "userId": "18369909718202854763"
     },
     "user_tz": 240
    },
    "id": "tPi6oaMcCzPC"
   },
   "outputs": [],
   "source": [
    "\n",
    "# percentile_25 = outliers_filtered_df[\"price\"].quantile(0.25)\n",
    "# percentile_75 = outliers_filtered_df[\"price\"].quantile(0.75)\n",
    "# iqr = percentile_75 - percentile_25\n",
    "# upper_limit = percentile_75 + 1.5 * iqr\n",
    "# lower_limit = percentile_25 - 1.5 * iqr\n",
    "# IQR_outliers_price = outliers_filtered_df[(outliers_filtered_df[\"price\"] < lower_limit) | (outliers_filtered_df[\"price\"] > upper_limit)]\n",
    "\n",
    "# print(f\"Longitud del dataframe antes de descartar outliers de precio: {outliers_filtered_df.shape[0]}\")\n",
    "\n",
    "# outliers_filtered_df.drop(IQR_outliers_price.index, inplace=True)\n",
    "\n",
    "# print(f\"Longitud del dataframe despues de descartar outliers de precio: {outliers_filtered_df.shape[0]}\")"
   ]
  },
  {
   "cell_type": "code",
   "execution_count": null,
   "metadata": {
    "executionInfo": {
     "elapsed": 23506,
     "status": "aborted",
     "timestamp": 1748220002280,
     "user": {
      "displayName": "Rodolfo Antonio Vargas Díaz",
      "userId": "18369909718202854763"
     },
     "user_tz": 240
    },
    "id": "K2KJF6JJH1q-"
   },
   "outputs": [],
   "source": [
    "# percentile_25 = outliers_filtered_df[\"age\"].quantile(0.25)\n",
    "# percentile_75 = outliers_filtered_df[\"age\"].quantile(0.75)\n",
    "# iqr = percentile_75 - percentile_25\n",
    "# upper_limit = percentile_75 + 1.5 * iqr\n",
    "# lower_limit = percentile_25 - 1.5 * iqr\n",
    "# IQR_outliers_age = outliers_filtered_df[(outliers_filtered_df[\"age\"] < lower_limit) | (outliers_filtered_df[\"age\"] > upper_limit)]\n",
    "\n",
    "# print(f\"Longitud del dataframe antes de descartar outliers de edad: {outliers_filtered_df.shape[0]}\")\n",
    "\n",
    "# outliers_filtered_df.drop(IQR_outliers_age.index, inplace=True)\n",
    "\n",
    "# print(f\"Longitud del dataframe despues de descartar outliers de edad: {outliers_filtered_df.shape[0]}\")"
   ]
  },
  {
   "cell_type": "code",
   "execution_count": null,
   "metadata": {
    "executionInfo": {
     "elapsed": 23505,
     "status": "aborted",
     "timestamp": 1748220002280,
     "user": {
      "displayName": "Rodolfo Antonio Vargas Díaz",
      "userId": "18369909718202854763"
     },
     "user_tz": 240
    },
    "id": "XdFxOHgMH1q-"
   },
   "outputs": [],
   "source": [
    "# inputed_cars_df.drop(IQR_outliers_price.index, inplace=True)\n",
    "# inputed_cars_df.drop(IQR_outliers_age.index, inplace=True)\n",
    "# inputed_cars_df.drop(IQR_outliers_odometer.index, inplace=True)\n",
    "print(f\"Porcentaje de valores atípicos filtrados: {(df_lenght - outliers_filtered_df.shape[0])* 100 / df_lenght}\")"
   ]
  },
  {
   "cell_type": "markdown",
   "metadata": {
    "id": "dwCOyowi1XdX"
   },
   "source": [
    "4c) Dibuja nuevamente los histogramas para observar claramente el sesgo de las variables tras la eliminación de los outliers."
   ]
  },
  {
   "cell_type": "code",
   "execution_count": null,
   "metadata": {
    "executionInfo": {
     "elapsed": 23506,
     "status": "aborted",
     "timestamp": 1748220002281,
     "user": {
      "displayName": "Rodolfo Antonio Vargas Díaz",
      "userId": "18369909718202854763"
     },
     "user_tz": 240
    },
    "id": "0qcrUjHpUJyZ"
   },
   "outputs": [],
   "source": [
    "# selected_columns = ['price', 'age', 'odometer']\n",
    "\n",
    "# Seaborn\n",
    "fig, axes = plt.subplots(3,1, figsize=(10,15))\n",
    "plt.subplots_adjust(wspace=0.3)\n",
    "axes = axes.ravel()\n",
    "\n",
    "for col, ax in zip(outliers_filtered_df[selected_columns], axes):\n",
    "  sns.histplot(x=outliers_filtered_df[col], ax=ax, bins=20, kde = True)\n",
    "  ax.set(title=f'{col}', xlabel=None)"
   ]
  },
  {
   "cell_type": "markdown",
   "metadata": {
    "id": "hzzT7f53oBE3"
   },
   "source": [
    "# **Parte 2**. Ingeniería de características"
   ]
  },
  {
   "cell_type": "markdown",
   "metadata": {
    "id": "qq6Y5lvS1lNA"
   },
   "source": [
    "## Transformando variables numéricas"
   ]
  },
  {
   "cell_type": "markdown",
   "metadata": {
    "id": "EryjdcZZebJQ"
   },
   "source": [
    "La distribución de las variables determinará que método usar y en qué orden. Por ejemplo, en variables sesgadas se debe realizar primero la transformación  y luego el escalamiento, ya que el efecto deseado es \"desinclinar\" las distribuciones del eje y ese efecto se maximiza cuando aplica en el rango completo en comparación con aplicarlo en variables con una desviación estándar unitaria (por z-score) o variables en el rango [0,1] (por Min-Max).\n",
    "\n",
    "Aplicar es escalamiento antes comprimiría la mayoría de los datos en un rango estrecho. Entonces se debe iniciar con transformar la característica en Gaussiana y luego escalarla."
   ]
  },
  {
   "cell_type": "markdown",
   "metadata": {
    "id": "KWiPJ9Mr37pE"
   },
   "source": [
    "5a) Genera gráficos Q-Q de las variables `price, age, odometer` para observar las diferencias entre sus distribuciones y la normal.\n"
   ]
  },
  {
   "cell_type": "code",
   "execution_count": null,
   "metadata": {
    "executionInfo": {
     "elapsed": 23506,
     "status": "aborted",
     "timestamp": 1748220002282,
     "user": {
      "displayName": "Rodolfo Antonio Vargas Díaz",
      "userId": "18369909718202854763"
     },
     "user_tz": 240
    },
    "id": "JK6fCovqi_8b"
   },
   "outputs": [],
   "source": [
    "plt.figure(figsize=(15, 6))\n",
    "\n",
    "# plt.subplot(1, 3, 1)\n",
    "# stats.probplot(outliers_filtered_df['price'], dist=\"norm\", plot=plt)\n",
    "# plt.title(f\"Q-Q plot of price\")\n",
    "\n",
    "# plt.subplot(1, 3, 2)\n",
    "# stats.probplot(outliers_filtered_df['age'], dist=\"norm\", plot=plt)\n",
    "# plt.title(f\"Q-Q plot of age\")\n",
    "\n",
    "# plt.subplot(1, 3, 3)\n",
    "# stats.probplot(outliers_filtered_df['odometer'], dist=\"norm\", plot=plt)\n",
    "# plt.title(f\"Q-Q plot of odometer\")\n",
    "\n",
    "for col in selected_columns:\n",
    "    stats.probplot(outliers_filtered_df[col], dist=\"norm\", plot=plt)\n",
    "    plt.title(f'Q-Q Plot de {col}')\n",
    "    plt.show()"
   ]
  },
  {
   "cell_type": "markdown",
   "metadata": {
    "id": "0iFAddRP9d3L"
   },
   "source": [
    "Las transformaciones *Box-Cox* y *Yeo-Johnson* son generalizaciones, pues incluyen casos especiales de transformaciones: logarítmica (`λ = 0`), recíproca (`λ = -1`),  raíz cuadrada (`λ = 0.5`) y más exponentes. En *Box-Cox* se evalúan varios valores de `λ` y se selecciona aquel que arroja la mejor transformación\n",
    "\n",
    "La transformación de *Yeo-Johnson* es una extensión de la transformación de *Box-Cox* que ya no está restringida a valores positivos. En otras palabras, la transformación de *Yeo-Johnson* se puede utilizar en variables con valores cero y negativos, así como valores positivos. Cuando la variable solo tiene valores positivos, la transformación de *Yeo-Johnson* es como la transformación de *Box-Cox* de la variable más uno.\n",
    "\n",
    "En este caso, como las variables `price` y `odometer` tienen valores de 0, utilizaremos *Yeo-Johnson*.\n",
    "\n",
    "Recuerda que en `PowerTransformer()` el parámetro `standardize` por defecto es `True`. Con esto, después de hacer la transformación, el resultado se escala con *Z-score*, haciendo que la media sea 0 y la desviación estándar 1. Como en el ejercicio 6 ocuparás Min-Max para escalar, haz `standardize=False` para omitir el escalamiento en esta fase."
   ]
  },
  {
   "cell_type": "markdown",
   "metadata": {
    "id": "c2Ku4FXx4JRB"
   },
   "source": [
    "5b) Aplica la transformación Yeo-Johnson para reducir el sesgo en estas variables. Coloca el resultado en un dataframe denominado `transf_df` que contenga sólo las variables transformadas."
   ]
  },
  {
   "cell_type": "code",
   "execution_count": null,
   "metadata": {
    "executionInfo": {
     "elapsed": 23507,
     "status": "aborted",
     "timestamp": 1748220002283,
     "user": {
      "displayName": "Rodolfo Antonio Vargas Díaz",
      "userId": "18369909718202854763"
     },
     "user_tz": 240
    },
    "id": "h3lerMMowNwp"
   },
   "outputs": [],
   "source": [
    "from sklearn.preprocessing import PowerTransformer\n",
    "\n",
    "transformer = PowerTransformer(method=\"yeo-johnson\", standardize=False)\n",
    "transformer.fit(outliers_filtered_df[selected_columns])\n",
    "\n",
    "transformed = transformer.transform(outliers_filtered_df[selected_columns])\n",
    "\n",
    "transf_df = pd.DataFrame(transformed, columns=selected_columns)\n"
   ]
  },
  {
   "cell_type": "markdown",
   "metadata": {
    "id": "sWTYPdle6b0y"
   },
   "source": [
    "5c) Dibuja nuevamente los gráficos Q-Q y los histogramas para observar el efecto de la transformación."
   ]
  },
  {
   "cell_type": "code",
   "execution_count": null,
   "metadata": {
    "executionInfo": {
     "elapsed": 23508,
     "status": "aborted",
     "timestamp": 1748220002284,
     "user": {
      "displayName": "Rodolfo Antonio Vargas Díaz",
      "userId": "18369909718202854763"
     },
     "user_tz": 240
    },
    "id": "joI93I1Jmuo5"
   },
   "outputs": [],
   "source": [
    "# plt.figure(figsize=(15, 6))\n",
    "\n",
    "# plt.subplot(1, 3, 1)\n",
    "# stats.probplot(transf_df['price'], dist=\"norm\", plot=plt)\n",
    "# plt.title(f\"Q-Q plot of price\")\n",
    "\n",
    "# plt.subplot(1, 3, 2)\n",
    "# stats.probplot(transf_df['age'], dist=\"norm\", plot=plt)\n",
    "# plt.title(f\"Q-Q plot of age\")\n",
    "\n",
    "# plt.subplot(1, 3, 3)\n",
    "# stats.probplot(transf_df['odometer'], dist=\"norm\", plot=plt)\n",
    "# plt.title(f\"Q-Q plot of odometer\")\n",
    "\n",
    "\n",
    "for col in selected_columns:\n",
    "\n",
    "    stats.probplot(transf_df[col], dist=\"norm\", plot=plt)\n",
    "    plt.title(f'Q-Q Plot de {col}')\n",
    "    plt.show()\n",
    "\n",
    "    sns.histplot(transf_df[col], bins=20, kde=True)\n",
    "    plt.title(f'Histograma (Transformado) de {col}')\n",
    "    plt.show()"
   ]
  },
  {
   "cell_type": "markdown",
   "metadata": {
    "id": "ZCZTx1EJ6hYY"
   },
   "source": [
    "## Escalando variables numéricas"
   ]
  },
  {
   "cell_type": "markdown",
   "metadata": {
    "id": "9uCmCSTs6t88"
   },
   "source": [
    "6a) Como las tres variables poseen diferentes escalas, aplica el método Min-Max (al dataframe obtenido: `transf_df`) para que queden en el rango fijo [0 a 1]. Coloca el resultado en un dataframe denominado `minmax_df`.\n"
   ]
  },
  {
   "cell_type": "code",
   "execution_count": null,
   "metadata": {
    "executionInfo": {
     "elapsed": 23510,
     "status": "aborted",
     "timestamp": 1748220002286,
     "user": {
      "displayName": "Rodolfo Antonio Vargas Díaz",
      "userId": "18369909718202854763"
     },
     "user_tz": 240
    },
    "id": "0wiPtlcaYaCd"
   },
   "outputs": [],
   "source": [
    "from sklearn import preprocessing\n",
    "\n",
    "minmax_scale = preprocessing.MinMaxScaler().fit(transf_df[selected_columns])\n",
    "minmax = minmax_scale.transform(transf_df[selected_columns])\n",
    "\n",
    "minmax_df = pd.DataFrame(minmax, columns=selected_columns)"
   ]
  },
  {
   "cell_type": "markdown",
   "metadata": {
    "id": "-qnZqBV97GWY"
   },
   "source": [
    "6b) Dibuja nuevamente los histogramas para verificar que el escalamiento no cambia la distribución."
   ]
  },
  {
   "cell_type": "code",
   "execution_count": null,
   "metadata": {
    "executionInfo": {
     "elapsed": 23517,
     "status": "aborted",
     "timestamp": 1748220002294,
     "user": {
      "displayName": "Rodolfo Antonio Vargas Díaz",
      "userId": "18369909718202854763"
     },
     "user_tz": 240
    },
    "id": "0GV-HuS4XawC"
   },
   "outputs": [],
   "source": [
    "# selected_columns = ['price', 'age', 'odometer']\n",
    "\n",
    "# Seaborn\n",
    "fig, axes = plt.subplots(3,1, figsize=(10,15))\n",
    "plt.subplots_adjust(wspace=0.3)\n",
    "axes = axes.ravel()\n",
    "\n",
    "for col, ax in zip(minmax_df[selected_columns], axes):\n",
    "  sns.histplot(x=minmax_df[col], ax=ax, bins=20, kde = True)\n",
    "  ax.set(title=f'{col}', xlabel=None)"
   ]
  },
  {
   "cell_type": "markdown",
   "metadata": {
    "id": "F7fnBt2EpH8f"
   },
   "source": [
    "## Codificando variables categóricas"
   ]
  },
  {
   "cell_type": "markdown",
   "metadata": {
    "id": "L65WLdE67P2g"
   },
   "source": [
    "\n",
    "7a) Utiliza el método `describe()` para obtener el resumen de las estadísticas descriptivas en las variables categóricas."
   ]
  },
  {
   "cell_type": "code",
   "execution_count": null,
   "metadata": {
    "executionInfo": {
     "elapsed": 23518,
     "status": "aborted",
     "timestamp": 1748220002295,
     "user": {
      "displayName": "Rodolfo Antonio Vargas Díaz",
      "userId": "18369909718202854763"
     },
     "user_tz": 240
    },
    "id": "Brq9wSlkC0wA"
   },
   "outputs": [],
   "source": [
    "outliers_filtered_df.describe(include = \"object\").T\n",
    "cars_cat = outliers_filtered_df.select_dtypes(include='object')\n"
   ]
  },
  {
   "cell_type": "markdown",
   "metadata": {
    "id": "xFos2wk37ZPN"
   },
   "source": [
    "7b) Según la cardinalidad observada, separa en dos listas (`highly_cardinal_variables` y `few_cardinal_variables`) los nombres de las variables con alta cardinalidad y baja cardinalidad respectivamente. Una variable es considerada de alta cardinalidad cuando tiene cientos de valores únicos."
   ]
  },
  {
   "cell_type": "code",
   "execution_count": null,
   "metadata": {
    "executionInfo": {
     "elapsed": 23519,
     "status": "aborted",
     "timestamp": 1748220002296,
     "user": {
      "displayName": "Rodolfo Antonio Vargas Díaz",
      "userId": "18369909718202854763"
     },
     "user_tz": 240
    },
    "id": "KQrvdvce7sM7"
   },
   "outputs": [],
   "source": [
    "highly_cardinal_variables = []\n",
    "few_cardinal_variables = []\n",
    "\n",
    "print(outliers_filtered_df.nunique())\n",
    "for variable in cars_cat:\n",
    "\n",
    "    if outliers_filtered_df[variable].nunique() >= 100:\n",
    "        highly_cardinal_variables.append(variable)\n",
    "    else:\n",
    "        few_cardinal_variables.append(variable)\n",
    "\n",
    "print(f\"Highly cardinal variables: {highly_cardinal_variables}\")\n",
    "print(f\"Few cardinal variables: {few_cardinal_variables}\")"
   ]
  },
  {
   "cell_type": "markdown",
   "metadata": {
    "id": "lpvDGeOe7l0l"
   },
   "source": [
    "7c) Visualiza en gráficos de barras la frecuencias de las categorías para las variables con baja cardinalidad (en `few_cardinal_variables`)"
   ]
  },
  {
   "cell_type": "code",
   "execution_count": null,
   "metadata": {
    "executionInfo": {
     "elapsed": 23520,
     "status": "aborted",
     "timestamp": 1748220002297,
     "user": {
      "displayName": "Rodolfo Antonio Vargas Díaz",
      "userId": "18369909718202854763"
     },
     "user_tz": 240
    },
    "id": "xsvq3cIO8nwL"
   },
   "outputs": [],
   "source": [
    "fig, axes = plt.subplots(2,4, figsize=(30,10))\n",
    "plt.subplots_adjust(hspace=0.75)\n",
    "axes = axes.ravel()\n",
    "for col, ax in zip(outliers_filtered_df[few_cardinal_variables], axes):\n",
    "  sns.countplot(x=col, data=outliers_filtered_df, ax=ax)\n",
    "  ax.set(title=f'{col}', xlabel=None)\n",
    "  ax.tick_params(axis='x',rotation=90)"
   ]
  },
  {
   "cell_type": "markdown",
   "metadata": {
    "id": "Oh_NXLM57xm3"
   },
   "source": [
    "8. Aplica codificación *one-hot* a las variables en `few_cardinal_variables`, borrando la primera categoría (`drop='first'`). Coloca el resultado en un dataframe denominado `onehot_df`."
   ]
  },
  {
   "cell_type": "code",
   "execution_count": null,
   "metadata": {
    "executionInfo": {
     "elapsed": 23521,
     "status": "aborted",
     "timestamp": 1748220002298,
     "user": {
      "displayName": "Rodolfo Antonio Vargas Díaz",
      "userId": "18369909718202854763"
     },
     "user_tz": 240
    },
    "id": "RI_Lu8hZp783"
   },
   "outputs": [],
   "source": [
    "from sklearn.preprocessing import OneHotEncoder\n",
    "\n",
    "# onehot_df = outliers_filtered_df[few_cardinal_variables].copy()\n",
    "\n",
    "onehot_encoder = OneHotEncoder(drop='first', sparse_output=False)\n",
    "onehot_ar = onehot_encoder.fit_transform(outliers_filtered_df[few_cardinal_variables])\n",
    "# The returned ndarray is converted to a dataframe\n",
    "onehot_df = pd.DataFrame(onehot_ar)\n",
    "onehot_df.columns = onehot_encoder.get_feature_names_out()\n",
    "onehot_df\n"
   ]
  },
  {
   "cell_type": "markdown",
   "metadata": {
    "id": "191XmIQr7_Jj"
   },
   "source": [
    "9. Aplica codificación binaria a las variables en `highly_cardinal_variables`. Coloca el resultado en un dataframe denominado `binary_df`."
   ]
  },
  {
   "cell_type": "code",
   "execution_count": null,
   "metadata": {
    "executionInfo": {
     "elapsed": 23521,
     "status": "aborted",
     "timestamp": 1748220002299,
     "user": {
      "displayName": "Rodolfo Antonio Vargas Díaz",
      "userId": "18369909718202854763"
     },
     "user_tz": 240
    },
    "id": "xkOXvhPXLJwn"
   },
   "outputs": [],
   "source": [
    "# !pip install category_encoders"
   ]
  },
  {
   "cell_type": "code",
   "execution_count": null,
   "metadata": {
    "executionInfo": {
     "elapsed": 23522,
     "status": "aborted",
     "timestamp": 1748220002300,
     "user": {
      "displayName": "Rodolfo Antonio Vargas Díaz",
      "userId": "18369909718202854763"
     },
     "user_tz": 240
    },
    "id": "SiNttZ-6-03x"
   },
   "outputs": [],
   "source": [
    "\n",
    "from category_encoders.binary import BinaryEncoder\n",
    "\n",
    "# binary_df = outliers_filtered_df[highly_cardinal_variables].copy()\n",
    "\n",
    "binary_encoder = BinaryEncoder()\n",
    "binary_df = binary_encoder.fit_transform(outliers_filtered_df[highly_cardinal_variables])\n",
    "# Returns directly a dataframe with the names in the columns\n",
    "binary_df"
   ]
  },
  {
   "cell_type": "markdown",
   "metadata": {
    "id": "QRu3tbKA8HbQ"
   },
   "source": [
    "10. Concatena los dataframes obtenidos: `minmax_df` (cuyas variables numéricas ya están transformadas y escaladas) y las codificaciones anteriores (`onehot_df` y `binary_df`). Toma en cuenta que si los índices de los dataframes no coinciden, la concatenación no se realizará correctamente. Utiliza `reset_index(drop=True, inplace=True)` para restablecer los índices."
   ]
  },
  {
   "cell_type": "code",
   "execution_count": null,
   "metadata": {
    "executionInfo": {
     "elapsed": 23521,
     "status": "aborted",
     "timestamp": 1748220002300,
     "user": {
      "displayName": "Rodolfo Antonio Vargas Díaz",
      "userId": "18369909718202854763"
     },
     "user_tz": 240
    },
    "id": "svK6DO298cCf"
   },
   "outputs": [],
   "source": [
    "minmax_df.reset_index(drop=True, inplace=True)\n",
    "onehot_df.reset_index(drop=True, inplace=True)\n",
    "binary_df.reset_index(drop=True, inplace=True)\n",
    "final_df = pd.concat([minmax_df, onehot_df, binary_df], axis=1)\n",
    "final_df"
   ]
  }
 ],
 "metadata": {
  "colab": {
   "provenance": []
  },
  "kernelspec": {
   "display_name": ".venv",
   "language": "python",
   "name": "python3"
  },
  "language_info": {
   "codemirror_mode": {
    "name": "ipython",
    "version": 3
   },
   "file_extension": ".py",
   "mimetype": "text/x-python",
   "name": "python",
   "nbconvert_exporter": "python",
   "pygments_lexer": "ipython3",
   "version": "3.11.9"
  }
 },
 "nbformat": 4,
 "nbformat_minor": 0
}
