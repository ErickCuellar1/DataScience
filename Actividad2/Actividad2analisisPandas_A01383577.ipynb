{
  "cells": [
    {
      "cell_type": "markdown",
      "metadata": {
        "id": "SML-04QQLd9l"
      },
      "source": [
        "**MAESTRÍA EN INTELIGENCIA ARTIFICIAL APLICADA**\n",
        "\n",
        "**Curso: TC4029 - Ciencia y analítica de datos**\n",
        "\n",
        "Tecnológico de Monterrey\n",
        "\n",
        "Prof Grettel Barceló Alonso\n",
        "\n",
        "**Semana 2**\n",
        "Pandas para el análisis de datos en Python\n",
        "\n",
        "---"
      ]
    },
    {
      "cell_type": "markdown",
      "metadata": {
        "id": "6q35__bSBB3G"
      },
      "source": [
        "*   NOMBRE: ERICK ALAN CUELLAR QUINTANILLA\n",
        "*   MATRÍCULA: A01383577\n"
      ]
    },
    {
      "cell_type": "markdown",
      "metadata": {
        "id": "AepY3wwtDXkc"
      },
      "source": [
        "---"
      ]
    },
    {
      "cell_type": "markdown",
      "metadata": {
        "id": "BumCtObqBqGr"
      },
      "source": [
        "En esta actividad usarás el archivo de datos `LaqnData.csv`. Cada fila de este conjunto de datos muestra un registro de medición, por hora, de uno de los siguientes cinco contaminantes del aire:\n",
        "\n",
        "*   `NO` (óxido nítrico)\n",
        "*   `NO2` (dióxido de nitrógeno)\n",
        "*   `NOX` (óxidos nitrosos)\n",
        "*   `PM10` (partículas suspendidas con un diámetro aerodinámico igual o menor a 10 micrómetros)\n",
        "*   `PM2.5` (partículas suspendidas con un diámetro aerodinámico igual o menor a 2.5 micrómetros)\n",
        "\n",
        "Los datos se recopilaron en una ubicación de Londres durante todo el año 2017.\n",
        "\n",
        "**NOTA IMPORTANTE:** Asegúrate de responder *explícitamente* todos los cuestionamientos.\n"
      ]
    },
    {
      "cell_type": "markdown",
      "metadata": {
        "id": "mqtTwAL3Mr44"
      },
      "source": [
        "1.\tDescarga el archivo: `LaqnData.csv` y guarda, en un dataframe (`air_df`), todos sus registros.\n",
        "*   Observa la estructura y contenido del dataframe con los atributos y métodos estudiados (`shape`, `columns`, `head()`, `tail()`, `dtypes`)\n",
        "*   Calcula el porcentaje de valores faltantes por columna."
      ]
    },
    {
      "cell_type": "code",
      "execution_count": 1,
      "metadata": {
        "colab": {
          "base_uri": "https://localhost:8080/"
        },
        "id": "F5JognteLaJV",
        "outputId": "a2340e60-a3fc-4081-cb15-ab9c970cdeb6"
      },
      "outputs": [
        {
          "name": "stdout",
          "output_type": "stream",
          "text": [
            "---------- SHAPE ----------\n",
            "(43800, 6)\n",
            "---------- COLUMNS ----------\n",
            "Index(['Site', 'Species', 'ReadingDateTime', 'Value', 'Units',\n",
            "       'Provisional or Ratified'],\n",
            "      dtype='object')\n",
            "---------- HEAD ----------\n",
            "  Site Species   ReadingDateTime  Value   Units Provisional or Ratified\n",
            "0  CT3      NO  01/01/2017 00:00    3.5  ug m-3                       R\n",
            "1  CT3      NO  01/01/2017 01:00    3.6  ug m-3                       R\n",
            "2  CT3      NO  01/01/2017 02:00    2.2  ug m-3                       R\n",
            "3  CT3      NO  01/01/2017 03:00    2.1  ug m-3                       R\n",
            "4  CT3      NO  01/01/2017 04:00    3.3  ug m-3                       R\n",
            "---------- TAIL ----------\n",
            "      Site Species   ReadingDateTime  Value   Units Provisional or Ratified\n",
            "43795  CT3   PM2.5  31/12/2017 19:00   -2.0  ug m-3                       R\n",
            "43796  CT3   PM2.5  31/12/2017 20:00    6.0  ug m-3                       R\n",
            "43797  CT3   PM2.5  31/12/2017 21:00    5.0  ug m-3                       R\n",
            "43798  CT3   PM2.5  31/12/2017 22:00    5.0  ug m-3                       R\n",
            "43799  CT3   PM2.5  31/12/2017 23:00    6.0  ug m-3                       R\n",
            "---------- DTYPES ----------\n",
            "Site                        object\n",
            "Species                     object\n",
            "ReadingDateTime             object\n",
            "Value                      float64\n",
            "Units                       object\n",
            "Provisional or Ratified     object\n",
            "dtype: object\n"
          ]
        }
      ],
      "source": [
        "import pandas as pd\n",
        "air_df = pd.read_csv('C:\\Coding\\Masters\\DataScience\\Actividad2\\LaqnData.csv')\n",
        "\n",
        "print('-'*10, 'SHAPE','-'*10)\n",
        "print(air_df.shape)\n",
        "\n",
        "print('-'*10, 'COLUMNS','-'*10)\n",
        "print(air_df.columns)\n",
        "\n",
        "print('-'*10, 'HEAD','-'*10)\n",
        "print(air_df.head())\n",
        "\n",
        "print('-'*10, 'TAIL','-'*10)\n",
        "print(air_df.tail())\n",
        "\n",
        "print('-'*10, 'DTYPES','-'*10)\n",
        "print(air_df.dtypes)\n"
      ]
    },
    {
      "cell_type": "code",
      "execution_count": 2,
      "metadata": {},
      "outputs": [
        {
          "name": "stdout",
          "output_type": "stream",
          "text": [
            "---------- % DE VALORES FALTANTES ----------\n",
            "Site                       0.000000\n",
            "Species                    0.000000\n",
            "ReadingDateTime            0.000000\n",
            "Value                      7.374429\n",
            "Units                      0.000000\n",
            "Provisional or Ratified    0.000000\n",
            "dtype: float64\n"
          ]
        }
      ],
      "source": [
        "\n",
        "print('-'*10, '% DE VALORES FALTANTES','-'*10)\n",
        "print(air_df.isna().sum() * 100 / len(air_df))"
      ]
    },
    {
      "cell_type": "markdown",
      "metadata": {
        "id": "APrlS185Cw-K"
      },
      "source": [
        "2.\tObtén la cantidad de valores únicos por columna (`nunique()`) para responder:\n",
        "\n",
        "\n",
        "*   ¿Cuántas mediciones se hicieron?\n",
        "*   ¿Cuántos contaminantes del aire (`Species`) se analizaron?\n",
        "*   ¿Qué columnas no agregan ningún valor informativo porque el mismo valor en todo el conjunto de datos? Elimínalas del dataframe.\n",
        "*   La columna `Units` tampoco posee valor informativo. Verifícalo con la función `unique()` y elimínala del dataframe."
      ]
    },
    {
      "cell_type": "code",
      "execution_count": 3,
      "metadata": {
        "colab": {
          "base_uri": "https://localhost:8080/",
          "height": 272
        },
        "id": "Ke0EGLVaCwm6",
        "outputId": "c777777e-c411-4db3-ddbc-2549ec174c3d"
      },
      "outputs": [
        {
          "name": "stdout",
          "output_type": "stream",
          "text": [
            "---------- CANTIDAD DE VALORES ÚNICOS POR COLUMNA ----------\n",
            "Site                          1\n",
            "Species                       5\n",
            "ReadingDateTime            8760\n",
            "Value                      1847\n",
            "Units                         3\n",
            "Provisional or Ratified       1\n",
            "dtype: int64\n"
          ]
        }
      ],
      "source": [
        "print('-'*10, 'CANTIDAD DE VALORES ÚNICOS POR COLUMNA', '-'*10)\n",
        "print(air_df.nunique())"
      ]
    },
    {
      "cell_type": "code",
      "execution_count": 4,
      "metadata": {},
      "outputs": [
        {
          "name": "stdout",
          "output_type": "stream",
          "text": [
            "---------- ¿CUANTAS MEDICIONES SE HICIERON? ----------\n",
            "Se hicieron 8760 mediciones.\n"
          ]
        }
      ],
      "source": [
        "print('-'*10, '¿CUANTAS MEDICIONES SE HICIERON?', '-'*10)\n",
        "mediciones = air_df['ReadingDateTime'].unique()\n",
        "print(f'Se hicieron {len(mediciones)} mediciones.')\n",
        "\n"
      ]
    },
    {
      "cell_type": "code",
      "execution_count": 5,
      "metadata": {},
      "outputs": [
        {
          "name": "stdout",
          "output_type": "stream",
          "text": [
            "---------- NUMERO DE VALORES UNICOS EN LA COLUMNA SPECIES (CONTAMINANTES DEL AIRE) ----------\n",
            "Se analizaron 5 contaminantes: ['NO' 'NO2' 'NOX' 'PM10' 'PM2.5'].\n"
          ]
        }
      ],
      "source": [
        "print('-'*10, 'NUMERO DE VALORES UNICOS EN LA COLUMNA SPECIES (CONTAMINANTES DEL AIRE)', '-'*10)\n",
        "contaminantes = air_df['Species'].unique()\n",
        "print(f'Se analizaron {len(contaminantes)} contaminantes: {contaminantes}.')\n",
        "\n"
      ]
    },
    {
      "cell_type": "code",
      "execution_count": 6,
      "metadata": {},
      "outputs": [
        {
          "name": "stdout",
          "output_type": "stream",
          "text": [
            "---------- COLUMNAS QUE NO AGREGARON VALOR INFORMATIVO ----------\n",
            "Site\n",
            "Provisional or Ratified\n"
          ]
        }
      ],
      "source": [
        "print('-'*10, 'COLUMNAS QUE NO AGREGARON VALOR INFORMATIVO', '-'*10)\n",
        "drop_columns = []\n",
        "for column in air_df.columns:\n",
        "    if air_df[column].nunique() == 1:\n",
        "        print(column)\n",
        "        drop_columns.append(column)\n",
        "\n",
        "air_df.drop(columns=drop_columns, inplace=True)\n",
        "\n"
      ]
    },
    {
      "cell_type": "code",
      "execution_count": 7,
      "metadata": {},
      "outputs": [
        {
          "name": "stdout",
          "output_type": "stream",
          "text": [
            "---------- VALORES ÚNICOS DE LA COLUMNA UNITS ----------\n",
            "['ug m-3' 'ug m-3 as NO2' 'ug/m3']\n"
          ]
        }
      ],
      "source": [
        "print('-'*10, 'VALORES ÚNICOS DE LA COLUMNA UNITS', '-'*10)\n",
        "print(air_df['Units'].unique())\n",
        "air_df.drop(columns='Units', inplace=True)\n",
        "\n"
      ]
    },
    {
      "cell_type": "code",
      "execution_count": 8,
      "metadata": {},
      "outputs": [
        {
          "name": "stdout",
          "output_type": "stream",
          "text": [
            "---------- COLUMNAS DESPUES DE LIMPIAR DATOS SIN VALOR ----------\n",
            "Index(['Species', 'ReadingDateTime', 'Value'], dtype='object')\n"
          ]
        }
      ],
      "source": [
        "print('-'*10, 'COLUMNAS DESPUES DE LIMPIAR DATOS SIN VALOR', '-'*10)\n",
        "print(air_df.columns)"
      ]
    },
    {
      "cell_type": "markdown",
      "metadata": {
        "id": "kT2Qzo-2mnhB"
      },
      "source": [
        "\n",
        "*   Se hicieron 8760 mediciones\n",
        "*   Se analizaron 5 contaminantes del aire\n",
        "*   Las columnas de 'Site' y 'Provisional or Ratified' no agregan informacion al dataframe\n",
        "*   La columna 'Units' contiene los mismos valores expresados de maneras diferentes, por lo que no es relevante\n",
        "\n"
      ]
    },
    {
      "cell_type": "markdown",
      "metadata": {
        "id": "zEddCwHWEJZ7"
      },
      "source": [
        "3.\tRealiza el conteo de valores por categoría (`value_counts()`) para la columna `Species` y determina si las lecturas de cada contaminante coincide con el total de mediciones."
      ]
    },
    {
      "cell_type": "code",
      "execution_count": 9,
      "metadata": {
        "id": "inCKasmZEPsv"
      },
      "outputs": [
        {
          "name": "stdout",
          "output_type": "stream",
          "text": [
            "---------- Mediciones por contaminante ----------\n",
            "Species\n",
            "NO       8760\n",
            "NO2      8760\n",
            "NOX      8760\n",
            "PM10     8760\n",
            "PM2.5    8760\n",
            "Name: count, dtype: int64\n"
          ]
        }
      ],
      "source": [
        "print('-'*10, 'Mediciones por contaminante', '-'*10)\n",
        "print(air_df.value_counts('Species'))"
      ]
    },
    {
      "cell_type": "markdown",
      "metadata": {},
      "source": [
        "El número de mediciones por contaminante coincide con el total de mediciones."
      ]
    },
    {
      "cell_type": "markdown",
      "metadata": {
        "id": "zhJM6l1vETfI"
      },
      "source": [
        "4.\tUtiliza la función `groupby()` para determinar el promedio del valor por contaminante."
      ]
    },
    {
      "cell_type": "code",
      "execution_count": 10,
      "metadata": {
        "id": "zstyHahSETJK"
      },
      "outputs": [
        {
          "name": "stdout",
          "output_type": "stream",
          "text": [
            "---------- PROMEDIO DE VALOR POR CONTAMINANTE ----------\n",
            "             Value\n",
            "Species           \n",
            "NO       15.045115\n",
            "NO2      38.010185\n",
            "NOX      61.078661\n",
            "PM10     22.551704\n",
            "PM2.5    14.999831\n"
          ]
        }
      ],
      "source": [
        "print('-'*10, 'PROMEDIO DE VALOR POR CONTAMINANTE', '-'*10)\n",
        "print(air_df.groupby('Species').mean('Value'))"
      ]
    },
    {
      "cell_type": "markdown",
      "metadata": {
        "id": "GY2ux-Q_EV7J"
      },
      "source": [
        "5.\tEl conjunto de datos está en un formato largo. Aplique la función apropiada para cambiarlo al formato ancho (`ReadingDateTime` como índice y cada contaminante en una columna). Nombre el dataframe resultante como `pvt_df`."
      ]
    },
    {
      "cell_type": "code",
      "execution_count": 11,
      "metadata": {
        "id": "1IETxb9vFIF-"
      },
      "outputs": [
        {
          "name": "stdout",
          "output_type": "stream",
          "text": [
            "---------- FORMATO ANCHO DE DF ----------\n"
          ]
        },
        {
          "name": "stdout",
          "output_type": "stream",
          "text": [
            "Species            NO   NO2   NOX  PM10  PM2.5\n",
            "ReadingDateTime                               \n",
            "01/01/2017 00:00  3.5  30.8  36.2  35.7    NaN\n",
            "01/01/2017 01:00  3.6  31.5  37.0  28.5    NaN\n",
            "01/01/2017 02:00  2.2  27.3  30.7  22.7    NaN\n",
            "01/01/2017 03:00  2.1  23.5  26.8  20.5    NaN\n",
            "01/01/2017 04:00  3.3  28.0  33.0  22.1    NaN\n",
            "...               ...   ...   ...   ...    ...\n",
            "31/12/2017 19:00  0.7  17.5  18.5  16.3   -2.0\n",
            "31/12/2017 20:00  0.7  17.5  18.6  14.5    6.0\n",
            "31/12/2017 21:00  0.7  14.1  15.1   8.6    5.0\n",
            "31/12/2017 22:00  1.1  22.0  23.6  12.5    5.0\n",
            "31/12/2017 23:00  0.9  19.4  20.7  10.4    6.0\n",
            "\n",
            "[8760 rows x 5 columns]\n"
          ]
        }
      ],
      "source": [
        "print('-'*10, 'FORMATO ANCHO DE DF', '-'*10)\n",
        "pvt_df = air_df.pivot(index='ReadingDateTime', columns='Species', values='Value')\n",
        "print(pvt_df)"
      ]
    },
    {
      "cell_type": "markdown",
      "metadata": {
        "id": "JmbiBXqFFIZx"
      },
      "source": [
        "6.\tA través de la función `describe()` responde:\n",
        "\n",
        "*   ¿Cuál es el mayor valor de `NO2` registrado? ¿A qué día pertenece?\n",
        "*   ¿Cuál es el menor valor de `PM10` registrado?¿A qué día pertenece?\n",
        "*   ¿Cuál es la mediana del `NO`? ¿Cómo se interpreta?\n",
        "*   ¿Cuál es el primer cuartil de `PM2.5`? ¿Qué significa?"
      ]
    },
    {
      "cell_type": "code",
      "execution_count": 12,
      "metadata": {
        "id": "_qWYoEx3Fbod"
      },
      "outputs": [
        {
          "name": "stdout",
          "output_type": "stream",
          "text": [
            "---------- FUNCION DESCRIBE ----------\n",
            "Species           NO          NO2          NOX         PM10        PM2.5\n",
            "count    8660.000000  8660.000000  8660.000000  8657.000000  5933.000000\n",
            "mean       15.045115    38.010185    61.078661    22.551704    14.999831\n",
            "std        26.678565    18.580841    54.584805    15.344755    13.558588\n",
            "min        -2.000000     2.800000     1.000000    -5.600000    -8.000000\n",
            "25%         3.100000    23.800000    30.300000    13.900000     7.000000\n",
            "50%         7.100000    35.300000    46.900000    19.500000    11.000000\n",
            "75%        15.500000    49.900000    73.800000    27.300000    18.000000\n",
            "max       401.799990   120.200000   734.299990   633.099980   128.000000\n"
          ]
        }
      ],
      "source": [
        "print('-'*10, 'FUNCION DESCRIBE', '-'*10)\n",
        "print(pvt_df.describe())"
      ]
    },
    {
      "cell_type": "code",
      "execution_count": 13,
      "metadata": {},
      "outputs": [
        {
          "name": "stdout",
          "output_type": "stream",
          "text": [
            "---------- MAXIMOS REGISTROS DE NO2 ----------\n",
            "Species                  NO    NO2        NOX  PM10  PM2.5\n",
            "ReadingDateTime                                           \n",
            "24/01/2017 19:00  148.60001  120.2  348.10001  44.4   42.0\n"
          ]
        }
      ],
      "source": [
        "max_NO2 = 120.200000\n",
        "\n",
        "# Comprobación max_NO2\n",
        "# print('Is the value of max_NO2 correct?: ', max_NO2 == pvt_df['NO2'].max())\n",
        "\n",
        "print('-'*10, 'MAXIMOS REGISTROS DE NO2', '-'*10)\n",
        "print(pvt_df[pvt_df['NO2']  == max_NO2])"
      ]
    },
    {
      "cell_type": "code",
      "execution_count": 14,
      "metadata": {},
      "outputs": [
        {
          "name": "stdout",
          "output_type": "stream",
          "text": [
            "---------- MINIMOS REGISTROS DE PM10 ----------\n",
            "Species            NO  NO2  NOX  PM10  PM2.5\n",
            "ReadingDateTime                             \n",
            "12/09/2017 23:00  0.1  7.0  7.1  -5.6    NaN\n"
          ]
        }
      ],
      "source": [
        "print('-'*10, 'MINIMOS REGISTROS DE PM10', '-'*10)\n",
        "print(pvt_df[pvt_df['PM10']  == pvt_df['PM10'].min()])"
      ]
    },
    {
      "cell_type": "code",
      "execution_count": 15,
      "metadata": {},
      "outputs": [
        {
          "name": "stdout",
          "output_type": "stream",
          "text": [
            "---------- MEDIANA DE NO ----------\n",
            "7.1\n"
          ]
        }
      ],
      "source": [
        "print('-'*10, 'MEDIANA DE NO', '-'*10)\n",
        "print(pvt_df['NO'].median())"
      ]
    },
    {
      "cell_type": "code",
      "execution_count": 16,
      "metadata": {},
      "outputs": [
        {
          "name": "stdout",
          "output_type": "stream",
          "text": [
            "---------- PRIMER CUARTIL DE PM2.5 ----------\n",
            "7.0\n"
          ]
        }
      ],
      "source": [
        "print('-'*10, 'PRIMER CUARTIL DE PM2.5', '-'*10)\n",
        "print(pvt_df['PM2.5'].quantile(.25))"
      ]
    },
    {
      "cell_type": "markdown",
      "metadata": {},
      "source": [
        "* El máximo registro de NO2 se dió el 24/01/2017 a las 19:00\n",
        "* El mínimo registro de PM10 se dió el 12/09/2017 a las 23:00\n",
        "* La mediana de NO es 7.1, significando que la mitad de los valores de NO en el dataset se encuentran por encima de este valor, y la otra mitad se encuentra por debajo\n",
        "* El primer cuartil de PM2.5 es 7.0, que significa que el 25% de los valores de PM2.5 en el dataset se encuentran por debajo de este valor, dejando al 75% restante por encima"
      ]
    },
    {
      "cell_type": "markdown",
      "metadata": {
        "id": "Rki16hYaFd9p"
      },
      "source": [
        "7.\tDibuja un histograma para cada columna de `pvt_df`. ¿Qué contaminante tiene mayor variabilidad?"
      ]
    },
    {
      "cell_type": "code",
      "execution_count": 17,
      "metadata": {
        "id": "NaGkunSeFfn8"
      },
      "outputs": [
        {
          "name": "stdout",
          "output_type": "stream",
          "text": [
            "---------- DESVIACIONES ESTANDAR ----------\n",
            "Species\n",
            "NO       26.678565\n",
            "NO2      18.580841\n",
            "NOX      54.584805\n",
            "PM10     15.344755\n",
            "PM2.5    13.558588\n",
            "dtype: float64\n"
          ]
        },
        {
          "data": {
            "image/png": "[encoded data removed]",
            "text/plain": [
              "<Figure size 2000x1000 with 6 Axes>"
            ]
          },
          "metadata": {},
          "output_type": "display_data"
        }
      ],
      "source": [
        "import numpy as np\n",
        "pvt_df.hist(bins=np.arange(0,500,25), figsize=(20,10))\n",
        "print('-'*10, 'DESVIACIONES ESTANDAR', '-'*10)\n",
        "print(pvt_df.std())\n"
      ]
    },
    {
      "cell_type": "markdown",
      "metadata": {},
      "source": [
        "* El contaminante con mayor variabilidad (por el histograma y la desviacion estandar) es NOX"
      ]
    },
    {
      "cell_type": "markdown",
      "metadata": {
        "id": "2hJ4LzP3fgvy"
      },
      "source": [
        "8.\tEjecuta el siguiente código y comenta qué hace cada línea:"
      ]
    },
    {
      "cell_type": "code",
      "execution_count": 18,
      "metadata": {
        "id": "goQuWzNVfomA"
      },
      "outputs": [
        {
          "data": {
            "text/html": [
              "<div>\n",
              "<style scoped>\n",
              "    .dataframe tbody tr th:only-of-type {\n",
              "        vertical-align: middle;\n",
              "    }\n",
              "\n",
              "    .dataframe tbody tr th {\n",
              "        vertical-align: top;\n",
              "    }\n",
              "\n",
              "    .dataframe thead th {\n",
              "        text-align: right;\n",
              "    }\n",
              "</style>\n",
              "<table border=\"1\" class=\"dataframe\">\n",
              "  <thead>\n",
              "    <tr style=\"text-align: right;\">\n",
              "      <th></th>\n",
              "      <th></th>\n",
              "      <th></th>\n",
              "      <th></th>\n",
              "      <th>Value</th>\n",
              "    </tr>\n",
              "    <tr>\n",
              "      <th>Month</th>\n",
              "      <th>Day</th>\n",
              "      <th>Time</th>\n",
              "      <th>Species</th>\n",
              "      <th></th>\n",
              "    </tr>\n",
              "  </thead>\n",
              "  <tbody>\n",
              "    <tr>\n",
              "      <th rowspan=\"5\" valign=\"top\">01</th>\n",
              "      <th rowspan=\"5\" valign=\"top\">01</th>\n",
              "      <th>00:00</th>\n",
              "      <th>NO</th>\n",
              "      <td>3.5</td>\n",
              "    </tr>\n",
              "    <tr>\n",
              "      <th>01:00</th>\n",
              "      <th>NO</th>\n",
              "      <td>3.6</td>\n",
              "    </tr>\n",
              "    <tr>\n",
              "      <th>02:00</th>\n",
              "      <th>NO</th>\n",
              "      <td>2.2</td>\n",
              "    </tr>\n",
              "    <tr>\n",
              "      <th>03:00</th>\n",
              "      <th>NO</th>\n",
              "      <td>2.1</td>\n",
              "    </tr>\n",
              "    <tr>\n",
              "      <th>04:00</th>\n",
              "      <th>NO</th>\n",
              "      <td>3.3</td>\n",
              "    </tr>\n",
              "    <tr>\n",
              "      <th>...</th>\n",
              "      <th>...</th>\n",
              "      <th>...</th>\n",
              "      <th>...</th>\n",
              "      <td>...</td>\n",
              "    </tr>\n",
              "    <tr>\n",
              "      <th rowspan=\"5\" valign=\"top\">12</th>\n",
              "      <th rowspan=\"5\" valign=\"top\">31</th>\n",
              "      <th>19:00</th>\n",
              "      <th>PM2.5</th>\n",
              "      <td>-2.0</td>\n",
              "    </tr>\n",
              "    <tr>\n",
              "      <th>20:00</th>\n",
              "      <th>PM2.5</th>\n",
              "      <td>6.0</td>\n",
              "    </tr>\n",
              "    <tr>\n",
              "      <th>21:00</th>\n",
              "      <th>PM2.5</th>\n",
              "      <td>5.0</td>\n",
              "    </tr>\n",
              "    <tr>\n",
              "      <th>22:00</th>\n",
              "      <th>PM2.5</th>\n",
              "      <td>5.0</td>\n",
              "    </tr>\n",
              "    <tr>\n",
              "      <th>23:00</th>\n",
              "      <th>PM2.5</th>\n",
              "      <td>6.0</td>\n",
              "    </tr>\n",
              "  </tbody>\n",
              "</table>\n",
              "<p>43800 rows × 1 columns</p>\n",
              "</div>"
            ],
            "text/plain": [
              "                         Value\n",
              "Month Day Time  Species       \n",
              "01    01  00:00 NO         3.5\n",
              "          01:00 NO         3.6\n",
              "          02:00 NO         2.2\n",
              "          03:00 NO         2.1\n",
              "          04:00 NO         3.3\n",
              "...                        ...\n",
              "12    31  19:00 PM2.5     -2.0\n",
              "          20:00 PM2.5      6.0\n",
              "          21:00 PM2.5      5.0\n",
              "          22:00 PM2.5      5.0\n",
              "          23:00 PM2.5      6.0\n",
              "\n",
              "[43800 rows x 1 columns]"
            ]
          },
          "execution_count": 18,
          "metadata": {},
          "output_type": "execute_result"
        }
      ],
      "source": [
        "# Divde los valores la columna de 'ReadingDataTime' del dataframe 'air_df' en cada espacio y guarda las nuevas columnas e en 'datetime_df'.\n",
        "# En este caso, la separacion coincide con  la division entre la fecha y hora de la columna\n",
        "datetime_df = air_df.ReadingDateTime.str.split(' ',expand=True)\n",
        "# Nombra las columnas del nuevo dataframe 'datetime_df' como 'Date' y 'Time'\n",
        "datetime_df.columns = ['Date','Time']\n",
        "# Si esta fuera la ultima linea del bloque de comandos, mostraria el dataframe\n",
        "datetime_df\n",
        "# Divde los valores la columna de 'Date' del dataframe 'datetime_df' en cada slash ('/') y guarda las nuevas columnas en 'date_df'.\n",
        "# En este caso, la separacion coincide con  la division entre dia, mes y año\n",
        "date_df = datetime_df.Date.str.split('/',expand=True)\n",
        "# Nombra las columnas del nuevo dataframe 'date_df' como 'Day', 'Month' y 'Year'\n",
        "date_df.columns = ['Day','Month','Year']\n",
        "# Si esta fuera la ultima linea del bloque de comandos, mostraria el dataframe\n",
        "date_df\n",
        "# Añade el dataframe 'date_df' y la columna 'Time' del dataframe 'datetime_df' al dataframe 'air_df'\n",
        "# Tambien elimina la columna original de 'ReadingDateTime' y la columna 'Year' del dataframe agregado 'date_df'\n",
        "air_df = air_df.join(date_df).join(datetime_df.Time).drop(columns=['ReadingDateTime','Year'])\n",
        "# Sobreescribe el index del dataframe 'air_df' con las columnas 'Month', 'Day', 'Time' y'Species'\n",
        "air_df = air_df.set_index(['Month','Day','Time','Species'])\n",
        "# Muestra el dataframe 'air_df'\n",
        "air_df"
      ]
    },
    {
      "cell_type": "markdown",
      "metadata": {
        "id": "37E3dol8fpik"
      },
      "source": [
        "9. Ejecuta la siguiente instrucción y compara su salida con la del código anterior (ejercicio 8). ¿Son iguales?"
      ]
    },
    {
      "cell_type": "code",
      "execution_count": 19,
      "metadata": {
        "id": "cgbAxJrvfweW"
      },
      "outputs": [
        {
          "data": {
            "text/html": [
              "<div>\n",
              "<style scoped>\n",
              "    .dataframe tbody tr th:only-of-type {\n",
              "        vertical-align: middle;\n",
              "    }\n",
              "\n",
              "    .dataframe tbody tr th {\n",
              "        vertical-align: top;\n",
              "    }\n",
              "\n",
              "    .dataframe thead tr th {\n",
              "        text-align: left;\n",
              "    }\n",
              "\n",
              "    .dataframe thead tr:last-of-type th {\n",
              "        text-align: right;\n",
              "    }\n",
              "</style>\n",
              "<table border=\"1\" class=\"dataframe\">\n",
              "  <thead>\n",
              "    <tr>\n",
              "      <th></th>\n",
              "      <th></th>\n",
              "      <th></th>\n",
              "      <th colspan=\"5\" halign=\"left\">Value</th>\n",
              "    </tr>\n",
              "    <tr>\n",
              "      <th></th>\n",
              "      <th></th>\n",
              "      <th>Species</th>\n",
              "      <th>NO</th>\n",
              "      <th>NO2</th>\n",
              "      <th>NOX</th>\n",
              "      <th>PM10</th>\n",
              "      <th>PM2.5</th>\n",
              "    </tr>\n",
              "    <tr>\n",
              "      <th>Month</th>\n",
              "      <th>Day</th>\n",
              "      <th>Time</th>\n",
              "      <th></th>\n",
              "      <th></th>\n",
              "      <th></th>\n",
              "      <th></th>\n",
              "      <th></th>\n",
              "    </tr>\n",
              "  </thead>\n",
              "  <tbody>\n",
              "    <tr>\n",
              "      <th rowspan=\"5\" valign=\"top\">01</th>\n",
              "      <th rowspan=\"5\" valign=\"top\">01</th>\n",
              "      <th>00:00</th>\n",
              "      <td>3.5</td>\n",
              "      <td>30.8</td>\n",
              "      <td>36.2</td>\n",
              "      <td>35.7</td>\n",
              "      <td>NaN</td>\n",
              "    </tr>\n",
              "    <tr>\n",
              "      <th>01:00</th>\n",
              "      <td>3.6</td>\n",
              "      <td>31.5</td>\n",
              "      <td>37.0</td>\n",
              "      <td>28.5</td>\n",
              "      <td>NaN</td>\n",
              "    </tr>\n",
              "    <tr>\n",
              "      <th>02:00</th>\n",
              "      <td>2.2</td>\n",
              "      <td>27.3</td>\n",
              "      <td>30.7</td>\n",
              "      <td>22.7</td>\n",
              "      <td>NaN</td>\n",
              "    </tr>\n",
              "    <tr>\n",
              "      <th>03:00</th>\n",
              "      <td>2.1</td>\n",
              "      <td>23.5</td>\n",
              "      <td>26.8</td>\n",
              "      <td>20.5</td>\n",
              "      <td>NaN</td>\n",
              "    </tr>\n",
              "    <tr>\n",
              "      <th>04:00</th>\n",
              "      <td>3.3</td>\n",
              "      <td>28.0</td>\n",
              "      <td>33.0</td>\n",
              "      <td>22.1</td>\n",
              "      <td>NaN</td>\n",
              "    </tr>\n",
              "    <tr>\n",
              "      <th>...</th>\n",
              "      <th>...</th>\n",
              "      <th>...</th>\n",
              "      <td>...</td>\n",
              "      <td>...</td>\n",
              "      <td>...</td>\n",
              "      <td>...</td>\n",
              "      <td>...</td>\n",
              "    </tr>\n",
              "    <tr>\n",
              "      <th rowspan=\"5\" valign=\"top\">12</th>\n",
              "      <th rowspan=\"5\" valign=\"top\">31</th>\n",
              "      <th>19:00</th>\n",
              "      <td>0.7</td>\n",
              "      <td>17.5</td>\n",
              "      <td>18.5</td>\n",
              "      <td>16.3</td>\n",
              "      <td>-2.0</td>\n",
              "    </tr>\n",
              "    <tr>\n",
              "      <th>20:00</th>\n",
              "      <td>0.7</td>\n",
              "      <td>17.5</td>\n",
              "      <td>18.6</td>\n",
              "      <td>14.5</td>\n",
              "      <td>6.0</td>\n",
              "    </tr>\n",
              "    <tr>\n",
              "      <th>21:00</th>\n",
              "      <td>0.7</td>\n",
              "      <td>14.1</td>\n",
              "      <td>15.1</td>\n",
              "      <td>8.6</td>\n",
              "      <td>5.0</td>\n",
              "    </tr>\n",
              "    <tr>\n",
              "      <th>22:00</th>\n",
              "      <td>1.1</td>\n",
              "      <td>22.0</td>\n",
              "      <td>23.6</td>\n",
              "      <td>12.5</td>\n",
              "      <td>5.0</td>\n",
              "    </tr>\n",
              "    <tr>\n",
              "      <th>23:00</th>\n",
              "      <td>0.9</td>\n",
              "      <td>19.4</td>\n",
              "      <td>20.7</td>\n",
              "      <td>10.4</td>\n",
              "      <td>6.0</td>\n",
              "    </tr>\n",
              "  </tbody>\n",
              "</table>\n",
              "<p>8760 rows × 5 columns</p>\n",
              "</div>"
            ],
            "text/plain": [
              "                Value                        \n",
              "Species            NO   NO2   NOX  PM10 PM2.5\n",
              "Month Day Time                               \n",
              "01    01  00:00   3.5  30.8  36.2  35.7   NaN\n",
              "          01:00   3.6  31.5  37.0  28.5   NaN\n",
              "          02:00   2.2  27.3  30.7  22.7   NaN\n",
              "          03:00   2.1  23.5  26.8  20.5   NaN\n",
              "          04:00   3.3  28.0  33.0  22.1   NaN\n",
              "...               ...   ...   ...   ...   ...\n",
              "12    31  19:00   0.7  17.5  18.5  16.3  -2.0\n",
              "          20:00   0.7  17.5  18.6  14.5   6.0\n",
              "          21:00   0.7  14.1  15.1   8.6   5.0\n",
              "          22:00   1.1  22.0  23.6  12.5   5.0\n",
              "          23:00   0.9  19.4  20.7  10.4   6.0\n",
              "\n",
              "[8760 rows x 5 columns]"
            ]
          },
          "execution_count": 19,
          "metadata": {},
          "output_type": "execute_result"
        }
      ],
      "source": [
        "air_df.unstack()"
      ]
    },
    {
      "cell_type": "markdown",
      "metadata": {},
      "source": [
        "* No son iguales las salidas. En la tabla del ejercicio 8, 'Species' era parte del índice; en el ejercicio 9, cada valor de 'Species' es una columna"
      ]
    },
    {
      "cell_type": "markdown",
      "metadata": {
        "id": "K1vWLX2ffxHV"
      },
      "source": [
        "10.\tExplica cuáles son las diferencias y similitudes entre el par `melt()/pivot()` y el par `stack()/unstack()`. Si tuvieras que elegir una contraparte para `melt()` entre `stack()/unstack()`, ¿cuál elegirías? ¿Por qué?"
      ]
    },
    {
      "cell_type": "markdown",
      "metadata": {
        "id": "L0EtgOVIfzRd"
      },
      "source": [
        "* 'melt()' cambia un dataset ancho a largo, transformando nuestras variables inicialmente mostradas como columnas en filas  y 'pivot()' cambia un dataset largo a ancho, utilizando los valores únicos de una columna ya existente como nuevas columnas.\n",
        "* 'stack()' convierte las variables representadas como columnas en índices jerarquicos y 'unstack()' convierte índices en columnas jerárquicas\n",
        "* La similitud entre ambos metodos es que reestructuran el dataset de maneras similares dependiendo de que parametros queramos analizar, ya sea hacerlo más largo o ancho.\n",
        "* La diferencia se encuentra en como se manejan las columnas y filas e índices. En un stack/unstack las diferentes columnas e indices adquieren orden jerárquico, haciendo más sencilla la operación de hacer análisis utilizando más de dos parámetros.\n",
        "* La contraparte de 'melt()' sería 'stack()', pues convertir columnas a índices normalmente incrementaría el número de filas, convirtiendolo en un dataset largo."
      ]
    }
  ],
  "metadata": {
    "colab": {
      "provenance": []
    },
    "kernelspec": {
      "display_name": "Python 3",
      "name": "python3"
    },
    "language_info": {
      "codemirror_mode": {
        "name": "ipython",
        "version": 3
      },
      "file_extension": ".py",
      "mimetype": "text/x-python",
      "name": "python",
      "nbconvert_exporter": "python",
      "pygments_lexer": "ipython3",
      "version": "3.11.9"
    }
  },
  "nbformat": 4,
  "nbformat_minor": 0
}
