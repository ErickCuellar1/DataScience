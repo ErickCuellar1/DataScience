{
 "cells": [
  {
   "cell_type": "markdown",
   "metadata": {
    "id": "zZeKeQlF-0tP"
   },
   "source": [
    "**MAESTRÍA EN INTELIGENCIA ARTIFICIAL APLICADA**\n",
    "\n",
    "**Curso: TC4029 - Ciencia y analítica de datos**\n",
    "\n",
    "Tecnológico de Monterrey\n",
    "\n",
    "Prof Grettel Barceló Alonso\n",
    "\n",
    "**Semana 7**\n",
    "Análisis de Componentes Principales (PCA)\n",
    "\n",
    "---"
   ]
  },
  {
   "cell_type": "markdown",
   "metadata": {
    "id": "_jPAgA5K_Atl"
   },
   "source": [
    "*   NOMBRE: Erick Alan Cuellar Quintanilla\n",
    "*   MATRÍCULA: A01383577\n",
    "\n",
    "*   NOMBRE: Fernando Alfonso Garcia\n",
    "*   MATRÍCULA: A01630011\n",
    "\n",
    "*   NOMBRE: Luis Pablo Perez Perez\n",
    "*   MATRÍCULA: A01420939\n",
    "\n",
    "*   NOMBRE: Rodolfo Antonio Vargas Díaz\n",
    "*   MATRÍCULA: A01411361"
   ]
  },
  {
   "cell_type": "code",
   "execution_count": 62,
   "metadata": {
    "colab": {
     "base_uri": "https://localhost:8080/"
    },
    "executionInfo": {
     "elapsed": 18785,
     "status": "ok",
     "timestamp": 1672883661567,
     "user": {
      "displayName": "Grettel Barceló Alonso",
      "userId": "01577411478517144249"
     },
     "user_tz": 360
    },
    "id": "QElz-qw8_Aa7",
    "outputId": "8412b1dd-ac43-4452-bbb7-f4dc0d75790a"
   },
   "outputs": [],
   "source": [
    "# from google.colab import drive\n",
    "# drive.mount('/content/drive')"
   ]
  },
  {
   "cell_type": "code",
   "execution_count": 63,
   "metadata": {
    "id": "KYozDMGz_EzL"
   },
   "outputs": [],
   "source": [
    "import os\n",
    "DIR = r\"C:\\Coding\\Masters\\DataScience\\Week 7 - Principal Component Analysis (PCA)\"\n",
    "os.chdir(DIR)\n"
   ]
  },
  {
   "cell_type": "code",
   "execution_count": 64,
   "metadata": {
    "id": "wMArpaFx_Mbd"
   },
   "outputs": [],
   "source": [
    "import pandas as pd\n",
    "import numpy as np\n",
    "import matplotlib.pyplot as plt\n",
    "import seaborn as sns\n",
    "import scipy.stats as stats"
   ]
  },
  {
   "cell_type": "code",
   "execution_count": 65,
   "metadata": {
    "colab": {
     "base_uri": "https://localhost:8080/",
     "height": 424
    },
    "executionInfo": {
     "elapsed": 211,
     "status": "ok",
     "timestamp": 1672883664265,
     "user": {
      "displayName": "Grettel Barceló Alonso",
      "userId": "01577411478517144249"
     },
     "user_tz": 360
    },
    "id": "jenoVKNN_OhH",
    "outputId": "512454e4-b65d-4dd1-e812-5da603e7dd6b"
   },
   "outputs": [
    {
     "data": {
      "text/html": [
       "<div>\n",
       "<style scoped>\n",
       "    .dataframe tbody tr th:only-of-type {\n",
       "        vertical-align: middle;\n",
       "    }\n",
       "\n",
       "    .dataframe tbody tr th {\n",
       "        vertical-align: top;\n",
       "    }\n",
       "\n",
       "    .dataframe thead th {\n",
       "        text-align: right;\n",
       "    }\n",
       "</style>\n",
       "<table border=\"1\" class=\"dataframe\">\n",
       "  <thead>\n",
       "    <tr style=\"text-align: right;\">\n",
       "      <th></th>\n",
       "      <th>name</th>\n",
       "      <th>mfr</th>\n",
       "      <th>type</th>\n",
       "      <th>calories</th>\n",
       "      <th>protein</th>\n",
       "      <th>fat</th>\n",
       "      <th>sodium</th>\n",
       "      <th>fiber</th>\n",
       "      <th>carbo</th>\n",
       "      <th>sugars</th>\n",
       "      <th>potass</th>\n",
       "      <th>vitamins</th>\n",
       "      <th>shelf</th>\n",
       "      <th>weight</th>\n",
       "      <th>cups</th>\n",
       "      <th>rating</th>\n",
       "    </tr>\n",
       "  </thead>\n",
       "  <tbody>\n",
       "    <tr>\n",
       "      <th>0</th>\n",
       "      <td>100%_Bran</td>\n",
       "      <td>N</td>\n",
       "      <td>C</td>\n",
       "      <td>70</td>\n",
       "      <td>4</td>\n",
       "      <td>1</td>\n",
       "      <td>130</td>\n",
       "      <td>10.0</td>\n",
       "      <td>5.0</td>\n",
       "      <td>6.0</td>\n",
       "      <td>280.0</td>\n",
       "      <td>25</td>\n",
       "      <td>3</td>\n",
       "      <td>1.0</td>\n",
       "      <td>0.33</td>\n",
       "      <td>68.402973</td>\n",
       "    </tr>\n",
       "    <tr>\n",
       "      <th>1</th>\n",
       "      <td>100%_Natural_Bran</td>\n",
       "      <td>Q</td>\n",
       "      <td>C</td>\n",
       "      <td>120</td>\n",
       "      <td>3</td>\n",
       "      <td>5</td>\n",
       "      <td>15</td>\n",
       "      <td>2.0</td>\n",
       "      <td>8.0</td>\n",
       "      <td>8.0</td>\n",
       "      <td>135.0</td>\n",
       "      <td>0</td>\n",
       "      <td>3</td>\n",
       "      <td>1.0</td>\n",
       "      <td>1.00</td>\n",
       "      <td>33.983679</td>\n",
       "    </tr>\n",
       "    <tr>\n",
       "      <th>2</th>\n",
       "      <td>All-Bran</td>\n",
       "      <td>K</td>\n",
       "      <td>C</td>\n",
       "      <td>70</td>\n",
       "      <td>4</td>\n",
       "      <td>1</td>\n",
       "      <td>260</td>\n",
       "      <td>9.0</td>\n",
       "      <td>7.0</td>\n",
       "      <td>5.0</td>\n",
       "      <td>320.0</td>\n",
       "      <td>25</td>\n",
       "      <td>3</td>\n",
       "      <td>1.0</td>\n",
       "      <td>0.33</td>\n",
       "      <td>59.425505</td>\n",
       "    </tr>\n",
       "    <tr>\n",
       "      <th>3</th>\n",
       "      <td>All-Bran_with_Extra_Fiber</td>\n",
       "      <td>K</td>\n",
       "      <td>C</td>\n",
       "      <td>50</td>\n",
       "      <td>4</td>\n",
       "      <td>0</td>\n",
       "      <td>140</td>\n",
       "      <td>14.0</td>\n",
       "      <td>8.0</td>\n",
       "      <td>0.0</td>\n",
       "      <td>330.0</td>\n",
       "      <td>25</td>\n",
       "      <td>3</td>\n",
       "      <td>1.0</td>\n",
       "      <td>0.50</td>\n",
       "      <td>93.704912</td>\n",
       "    </tr>\n",
       "    <tr>\n",
       "      <th>4</th>\n",
       "      <td>Almond_Delight</td>\n",
       "      <td>R</td>\n",
       "      <td>C</td>\n",
       "      <td>110</td>\n",
       "      <td>2</td>\n",
       "      <td>2</td>\n",
       "      <td>200</td>\n",
       "      <td>1.0</td>\n",
       "      <td>14.0</td>\n",
       "      <td>8.0</td>\n",
       "      <td>NaN</td>\n",
       "      <td>25</td>\n",
       "      <td>3</td>\n",
       "      <td>1.0</td>\n",
       "      <td>0.75</td>\n",
       "      <td>34.384843</td>\n",
       "    </tr>\n",
       "    <tr>\n",
       "      <th>...</th>\n",
       "      <td>...</td>\n",
       "      <td>...</td>\n",
       "      <td>...</td>\n",
       "      <td>...</td>\n",
       "      <td>...</td>\n",
       "      <td>...</td>\n",
       "      <td>...</td>\n",
       "      <td>...</td>\n",
       "      <td>...</td>\n",
       "      <td>...</td>\n",
       "      <td>...</td>\n",
       "      <td>...</td>\n",
       "      <td>...</td>\n",
       "      <td>...</td>\n",
       "      <td>...</td>\n",
       "      <td>...</td>\n",
       "    </tr>\n",
       "    <tr>\n",
       "      <th>72</th>\n",
       "      <td>Triples</td>\n",
       "      <td>G</td>\n",
       "      <td>C</td>\n",
       "      <td>110</td>\n",
       "      <td>2</td>\n",
       "      <td>1</td>\n",
       "      <td>250</td>\n",
       "      <td>0.0</td>\n",
       "      <td>21.0</td>\n",
       "      <td>3.0</td>\n",
       "      <td>60.0</td>\n",
       "      <td>25</td>\n",
       "      <td>3</td>\n",
       "      <td>1.0</td>\n",
       "      <td>0.75</td>\n",
       "      <td>39.106174</td>\n",
       "    </tr>\n",
       "    <tr>\n",
       "      <th>73</th>\n",
       "      <td>Trix</td>\n",
       "      <td>G</td>\n",
       "      <td>C</td>\n",
       "      <td>110</td>\n",
       "      <td>1</td>\n",
       "      <td>1</td>\n",
       "      <td>140</td>\n",
       "      <td>0.0</td>\n",
       "      <td>13.0</td>\n",
       "      <td>12.0</td>\n",
       "      <td>25.0</td>\n",
       "      <td>25</td>\n",
       "      <td>2</td>\n",
       "      <td>1.0</td>\n",
       "      <td>1.00</td>\n",
       "      <td>27.753301</td>\n",
       "    </tr>\n",
       "    <tr>\n",
       "      <th>74</th>\n",
       "      <td>Wheat_Chex</td>\n",
       "      <td>R</td>\n",
       "      <td>C</td>\n",
       "      <td>100</td>\n",
       "      <td>3</td>\n",
       "      <td>1</td>\n",
       "      <td>230</td>\n",
       "      <td>3.0</td>\n",
       "      <td>17.0</td>\n",
       "      <td>3.0</td>\n",
       "      <td>115.0</td>\n",
       "      <td>25</td>\n",
       "      <td>1</td>\n",
       "      <td>1.0</td>\n",
       "      <td>0.67</td>\n",
       "      <td>49.787445</td>\n",
       "    </tr>\n",
       "    <tr>\n",
       "      <th>75</th>\n",
       "      <td>Wheaties</td>\n",
       "      <td>G</td>\n",
       "      <td>C</td>\n",
       "      <td>100</td>\n",
       "      <td>3</td>\n",
       "      <td>1</td>\n",
       "      <td>200</td>\n",
       "      <td>3.0</td>\n",
       "      <td>17.0</td>\n",
       "      <td>3.0</td>\n",
       "      <td>110.0</td>\n",
       "      <td>25</td>\n",
       "      <td>1</td>\n",
       "      <td>1.0</td>\n",
       "      <td>1.00</td>\n",
       "      <td>51.592193</td>\n",
       "    </tr>\n",
       "    <tr>\n",
       "      <th>76</th>\n",
       "      <td>Wheaties_Honey_Gold</td>\n",
       "      <td>G</td>\n",
       "      <td>C</td>\n",
       "      <td>110</td>\n",
       "      <td>2</td>\n",
       "      <td>1</td>\n",
       "      <td>200</td>\n",
       "      <td>1.0</td>\n",
       "      <td>16.0</td>\n",
       "      <td>8.0</td>\n",
       "      <td>60.0</td>\n",
       "      <td>25</td>\n",
       "      <td>1</td>\n",
       "      <td>1.0</td>\n",
       "      <td>0.75</td>\n",
       "      <td>36.187559</td>\n",
       "    </tr>\n",
       "  </tbody>\n",
       "</table>\n",
       "<p>77 rows × 16 columns</p>\n",
       "</div>"
      ],
      "text/plain": [
       "                         name mfr type  calories  protein  fat  sodium  fiber  \\\n",
       "0                   100%_Bran   N    C        70        4    1     130   10.0   \n",
       "1           100%_Natural_Bran   Q    C       120        3    5      15    2.0   \n",
       "2                    All-Bran   K    C        70        4    1     260    9.0   \n",
       "3   All-Bran_with_Extra_Fiber   K    C        50        4    0     140   14.0   \n",
       "4              Almond_Delight   R    C       110        2    2     200    1.0   \n",
       "..                        ...  ..  ...       ...      ...  ...     ...    ...   \n",
       "72                    Triples   G    C       110        2    1     250    0.0   \n",
       "73                       Trix   G    C       110        1    1     140    0.0   \n",
       "74                 Wheat_Chex   R    C       100        3    1     230    3.0   \n",
       "75                   Wheaties   G    C       100        3    1     200    3.0   \n",
       "76        Wheaties_Honey_Gold   G    C       110        2    1     200    1.0   \n",
       "\n",
       "    carbo  sugars  potass  vitamins  shelf  weight  cups     rating  \n",
       "0     5.0     6.0   280.0        25      3     1.0  0.33  68.402973  \n",
       "1     8.0     8.0   135.0         0      3     1.0  1.00  33.983679  \n",
       "2     7.0     5.0   320.0        25      3     1.0  0.33  59.425505  \n",
       "3     8.0     0.0   330.0        25      3     1.0  0.50  93.704912  \n",
       "4    14.0     8.0     NaN        25      3     1.0  0.75  34.384843  \n",
       "..    ...     ...     ...       ...    ...     ...   ...        ...  \n",
       "72   21.0     3.0    60.0        25      3     1.0  0.75  39.106174  \n",
       "73   13.0    12.0    25.0        25      2     1.0  1.00  27.753301  \n",
       "74   17.0     3.0   115.0        25      1     1.0  0.67  49.787445  \n",
       "75   17.0     3.0   110.0        25      1     1.0  1.00  51.592193  \n",
       "76   16.0     8.0    60.0        25      1     1.0  0.75  36.187559  \n",
       "\n",
       "[77 rows x 16 columns]"
      ]
     },
     "execution_count": 65,
     "metadata": {},
     "output_type": "execute_result"
    }
   ],
   "source": [
    "# https://www.kaggle.com/datasets/crawford/80-cereals\n",
    "cereals_df = pd.read_csv('Cereals.csv')\n",
    "cereals_df"
   ]
  },
  {
   "cell_type": "markdown",
   "metadata": {
    "id": "VYwGAFlVgYCp"
   },
   "source": [
    "# **Parte 1**. EDA y preprocesamiento"
   ]
  },
  {
   "cell_type": "markdown",
   "metadata": {
    "id": "OPfTGSQBgw5C"
   },
   "source": [
    "1. Obtén estadísticas descriptivas para todas las variables del dataframe. "
   ]
  },
  {
   "cell_type": "code",
   "execution_count": 66,
   "metadata": {
    "id": "07VOb9HMuAnx"
   },
   "outputs": [
    {
     "name": "stdout",
     "output_type": "stream",
     "text": [
      "---------- Estadisticas descriptivas para variables numéricas ----------\n"
     ]
    },
    {
     "data": {
      "text/html": [
       "<div>\n",
       "<style scoped>\n",
       "    .dataframe tbody tr th:only-of-type {\n",
       "        vertical-align: middle;\n",
       "    }\n",
       "\n",
       "    .dataframe tbody tr th {\n",
       "        vertical-align: top;\n",
       "    }\n",
       "\n",
       "    .dataframe thead th {\n",
       "        text-align: right;\n",
       "    }\n",
       "</style>\n",
       "<table border=\"1\" class=\"dataframe\">\n",
       "  <thead>\n",
       "    <tr style=\"text-align: right;\">\n",
       "      <th></th>\n",
       "      <th>count</th>\n",
       "      <th>mean</th>\n",
       "      <th>std</th>\n",
       "      <th>min</th>\n",
       "      <th>25%</th>\n",
       "      <th>50%</th>\n",
       "      <th>75%</th>\n",
       "      <th>max</th>\n",
       "    </tr>\n",
       "  </thead>\n",
       "  <tbody>\n",
       "    <tr>\n",
       "      <th>calories</th>\n",
       "      <td>77.0</td>\n",
       "      <td>106.883117</td>\n",
       "      <td>19.484119</td>\n",
       "      <td>50.000000</td>\n",
       "      <td>100.000000</td>\n",
       "      <td>110.000000</td>\n",
       "      <td>110.000000</td>\n",
       "      <td>160.000000</td>\n",
       "    </tr>\n",
       "    <tr>\n",
       "      <th>protein</th>\n",
       "      <td>77.0</td>\n",
       "      <td>2.545455</td>\n",
       "      <td>1.094790</td>\n",
       "      <td>1.000000</td>\n",
       "      <td>2.000000</td>\n",
       "      <td>3.000000</td>\n",
       "      <td>3.000000</td>\n",
       "      <td>6.000000</td>\n",
       "    </tr>\n",
       "    <tr>\n",
       "      <th>fat</th>\n",
       "      <td>77.0</td>\n",
       "      <td>1.012987</td>\n",
       "      <td>1.006473</td>\n",
       "      <td>0.000000</td>\n",
       "      <td>0.000000</td>\n",
       "      <td>1.000000</td>\n",
       "      <td>2.000000</td>\n",
       "      <td>5.000000</td>\n",
       "    </tr>\n",
       "    <tr>\n",
       "      <th>sodium</th>\n",
       "      <td>77.0</td>\n",
       "      <td>159.675325</td>\n",
       "      <td>83.832295</td>\n",
       "      <td>0.000000</td>\n",
       "      <td>130.000000</td>\n",
       "      <td>180.000000</td>\n",
       "      <td>210.000000</td>\n",
       "      <td>320.000000</td>\n",
       "    </tr>\n",
       "    <tr>\n",
       "      <th>fiber</th>\n",
       "      <td>77.0</td>\n",
       "      <td>2.151948</td>\n",
       "      <td>2.383364</td>\n",
       "      <td>0.000000</td>\n",
       "      <td>1.000000</td>\n",
       "      <td>2.000000</td>\n",
       "      <td>3.000000</td>\n",
       "      <td>14.000000</td>\n",
       "    </tr>\n",
       "    <tr>\n",
       "      <th>carbo</th>\n",
       "      <td>76.0</td>\n",
       "      <td>14.802632</td>\n",
       "      <td>3.907326</td>\n",
       "      <td>5.000000</td>\n",
       "      <td>12.000000</td>\n",
       "      <td>14.500000</td>\n",
       "      <td>17.000000</td>\n",
       "      <td>23.000000</td>\n",
       "    </tr>\n",
       "    <tr>\n",
       "      <th>sugars</th>\n",
       "      <td>76.0</td>\n",
       "      <td>7.026316</td>\n",
       "      <td>4.378656</td>\n",
       "      <td>0.000000</td>\n",
       "      <td>3.000000</td>\n",
       "      <td>7.000000</td>\n",
       "      <td>11.000000</td>\n",
       "      <td>15.000000</td>\n",
       "    </tr>\n",
       "    <tr>\n",
       "      <th>potass</th>\n",
       "      <td>75.0</td>\n",
       "      <td>98.666667</td>\n",
       "      <td>70.410636</td>\n",
       "      <td>15.000000</td>\n",
       "      <td>42.500000</td>\n",
       "      <td>90.000000</td>\n",
       "      <td>120.000000</td>\n",
       "      <td>330.000000</td>\n",
       "    </tr>\n",
       "    <tr>\n",
       "      <th>vitamins</th>\n",
       "      <td>77.0</td>\n",
       "      <td>28.246753</td>\n",
       "      <td>22.342523</td>\n",
       "      <td>0.000000</td>\n",
       "      <td>25.000000</td>\n",
       "      <td>25.000000</td>\n",
       "      <td>25.000000</td>\n",
       "      <td>100.000000</td>\n",
       "    </tr>\n",
       "    <tr>\n",
       "      <th>shelf</th>\n",
       "      <td>77.0</td>\n",
       "      <td>2.207792</td>\n",
       "      <td>0.832524</td>\n",
       "      <td>1.000000</td>\n",
       "      <td>1.000000</td>\n",
       "      <td>2.000000</td>\n",
       "      <td>3.000000</td>\n",
       "      <td>3.000000</td>\n",
       "    </tr>\n",
       "    <tr>\n",
       "      <th>weight</th>\n",
       "      <td>77.0</td>\n",
       "      <td>1.029610</td>\n",
       "      <td>0.150477</td>\n",
       "      <td>0.500000</td>\n",
       "      <td>1.000000</td>\n",
       "      <td>1.000000</td>\n",
       "      <td>1.000000</td>\n",
       "      <td>1.500000</td>\n",
       "    </tr>\n",
       "    <tr>\n",
       "      <th>cups</th>\n",
       "      <td>77.0</td>\n",
       "      <td>0.821039</td>\n",
       "      <td>0.232716</td>\n",
       "      <td>0.250000</td>\n",
       "      <td>0.670000</td>\n",
       "      <td>0.750000</td>\n",
       "      <td>1.000000</td>\n",
       "      <td>1.500000</td>\n",
       "    </tr>\n",
       "    <tr>\n",
       "      <th>rating</th>\n",
       "      <td>77.0</td>\n",
       "      <td>42.665705</td>\n",
       "      <td>14.047289</td>\n",
       "      <td>18.042851</td>\n",
       "      <td>33.174094</td>\n",
       "      <td>40.400208</td>\n",
       "      <td>50.828392</td>\n",
       "      <td>93.704912</td>\n",
       "    </tr>\n",
       "  </tbody>\n",
       "</table>\n",
       "</div>"
      ],
      "text/plain": [
       "          count        mean        std        min         25%         50%  \\\n",
       "calories   77.0  106.883117  19.484119  50.000000  100.000000  110.000000   \n",
       "protein    77.0    2.545455   1.094790   1.000000    2.000000    3.000000   \n",
       "fat        77.0    1.012987   1.006473   0.000000    0.000000    1.000000   \n",
       "sodium     77.0  159.675325  83.832295   0.000000  130.000000  180.000000   \n",
       "fiber      77.0    2.151948   2.383364   0.000000    1.000000    2.000000   \n",
       "carbo      76.0   14.802632   3.907326   5.000000   12.000000   14.500000   \n",
       "sugars     76.0    7.026316   4.378656   0.000000    3.000000    7.000000   \n",
       "potass     75.0   98.666667  70.410636  15.000000   42.500000   90.000000   \n",
       "vitamins   77.0   28.246753  22.342523   0.000000   25.000000   25.000000   \n",
       "shelf      77.0    2.207792   0.832524   1.000000    1.000000    2.000000   \n",
       "weight     77.0    1.029610   0.150477   0.500000    1.000000    1.000000   \n",
       "cups       77.0    0.821039   0.232716   0.250000    0.670000    0.750000   \n",
       "rating     77.0   42.665705  14.047289  18.042851   33.174094   40.400208   \n",
       "\n",
       "                 75%         max  \n",
       "calories  110.000000  160.000000  \n",
       "protein     3.000000    6.000000  \n",
       "fat         2.000000    5.000000  \n",
       "sodium    210.000000  320.000000  \n",
       "fiber       3.000000   14.000000  \n",
       "carbo      17.000000   23.000000  \n",
       "sugars     11.000000   15.000000  \n",
       "potass    120.000000  330.000000  \n",
       "vitamins   25.000000  100.000000  \n",
       "shelf       3.000000    3.000000  \n",
       "weight      1.000000    1.500000  \n",
       "cups        1.000000    1.500000  \n",
       "rating     50.828392   93.704912  "
      ]
     },
     "execution_count": 66,
     "metadata": {},
     "output_type": "execute_result"
    }
   ],
   "source": [
    "print('-'*10, 'Estadisticas descriptivas para variables numéricas','-'*10)\n",
    "cereals_df.describe(include=\"number\").T\n"
   ]
  },
  {
   "cell_type": "code",
   "execution_count": 67,
   "metadata": {},
   "outputs": [
    {
     "name": "stdout",
     "output_type": "stream",
     "text": [
      "---------- Estadisticas descriptivas para variables categóricas ----------\n"
     ]
    },
    {
     "data": {
      "text/html": [
       "<div>\n",
       "<style scoped>\n",
       "    .dataframe tbody tr th:only-of-type {\n",
       "        vertical-align: middle;\n",
       "    }\n",
       "\n",
       "    .dataframe tbody tr th {\n",
       "        vertical-align: top;\n",
       "    }\n",
       "\n",
       "    .dataframe thead th {\n",
       "        text-align: right;\n",
       "    }\n",
       "</style>\n",
       "<table border=\"1\" class=\"dataframe\">\n",
       "  <thead>\n",
       "    <tr style=\"text-align: right;\">\n",
       "      <th></th>\n",
       "      <th>count</th>\n",
       "      <th>unique</th>\n",
       "      <th>top</th>\n",
       "      <th>freq</th>\n",
       "    </tr>\n",
       "  </thead>\n",
       "  <tbody>\n",
       "    <tr>\n",
       "      <th>name</th>\n",
       "      <td>77</td>\n",
       "      <td>77</td>\n",
       "      <td>100%_Bran</td>\n",
       "      <td>1</td>\n",
       "    </tr>\n",
       "    <tr>\n",
       "      <th>mfr</th>\n",
       "      <td>77</td>\n",
       "      <td>7</td>\n",
       "      <td>K</td>\n",
       "      <td>23</td>\n",
       "    </tr>\n",
       "    <tr>\n",
       "      <th>type</th>\n",
       "      <td>77</td>\n",
       "      <td>2</td>\n",
       "      <td>C</td>\n",
       "      <td>74</td>\n",
       "    </tr>\n",
       "  </tbody>\n",
       "</table>\n",
       "</div>"
      ],
      "text/plain": [
       "     count unique        top freq\n",
       "name    77     77  100%_Bran    1\n",
       "mfr     77      7          K   23\n",
       "type    77      2          C   74"
      ]
     },
     "execution_count": 67,
     "metadata": {},
     "output_type": "execute_result"
    }
   ],
   "source": [
    "print('-'*10, 'Estadisticas descriptivas para variables categóricas','-'*10)\n",
    "cereals_df.describe(include='object').T"
   ]
  },
  {
   "cell_type": "markdown",
   "metadata": {
    "id": "tNciKJBChIJ4"
   },
   "source": [
    "Genera algunos gráficos para familiarizarte con el conjunto de datos. Al menos deberás incluir los que te permitan responder los siguientes cuestionamientos:\n",
    "\n",
    "**Nota.** Debes responder de manera explícita las preguntas, apoyándote de los resultados observados de cada gráfico. \n",
    "\n",
    "2a) ¿Cuál es la frecuencia o conteo de cada categoría para las variables: `mfr` y `shelf` (por separado)? "
   ]
  },
  {
   "cell_type": "code",
   "execution_count": 68,
   "metadata": {
    "id": "WFDaMA9coYXh"
   },
   "outputs": [
    {
     "name": "stdout",
     "output_type": "stream",
     "text": [
      "-------------------- mfr value counts --------------------\n",
      "mfr\n",
      "K    23\n",
      "G    22\n",
      "P     9\n",
      "R     8\n",
      "Q     8\n",
      "N     6\n",
      "A     1\n",
      "Name: count, dtype: int64\n",
      "-------------------- shelf value counts --------------------\n",
      "shelf\n",
      "3    36\n",
      "2    21\n",
      "1    20\n",
      "Name: count, dtype: int64\n"
     ]
    },
    {
     "data": {
      "image/png": "[encoded data removed]",
      "text/plain": [
       "<Figure size 1500x1000 with 2 Axes>"
      ]
     },
     "metadata": {},
     "output_type": "display_data"
    }
   ],
   "source": [
    "columns = ['mfr', 'shelf']\n",
    "\n",
    "fig, axes = plt.subplots(1,2, figsize=(15,10))\n",
    "plt.subplots_adjust(hspace=0.75)\n",
    "axes = axes.ravel()\n",
    "for col, ax in zip(cereals_df[columns], axes):\n",
    "\n",
    "  plot = sns.countplot(x=col, data=cereals_df, ax=ax)\n",
    "  ax.set(title=f'{col}', xlabel=None)\n",
    "  # ax.tick_params(axis='x',rotation=90)\n",
    "\n",
    "  for container in plot.containers:\n",
    "      plot.bar_label(container, label_type='edge', padding=3)\n",
    "\n",
    "for col in columns:\n",
    "   \n",
    "  print(\"-\"*20, f\"{col} value counts\", \"-\"*20)\n",
    "  print(cereals_df[col].value_counts())"
   ]
  },
  {
   "cell_type": "markdown",
   "metadata": {
    "id": "BWsqaT90hajY"
   },
   "source": [
    "2b) Combina los resultados previos para observar, de cada fabricante, cuántos productos tiene en cada estante. "
   ]
  },
  {
   "cell_type": "code",
   "execution_count": 69,
   "metadata": {
    "id": "D8weqIO2oZKb"
   },
   "outputs": [
    {
     "data": {
      "image/png": "[encoded data removed]",
      "text/plain": [
       "<Figure size 1000x600 with 1 Axes>"
      ]
     },
     "metadata": {},
     "output_type": "display_data"
    }
   ],
   "source": [
    "plt.figure(figsize=(10,6))\n",
    "\n",
    "ax = sns.countplot(x=cereals_df['mfr'], hue=cereals_df['shelf'])\n",
    "ax.set(title='Number of products in shelf by manufacturer', xlabel=None)\n",
    "# ax.tick_params(axis='x', rotation=90)\n",
    "\n",
    "for container in ax.containers:\n",
    "      ax.bar_label(container, label_type='edge', padding=3)\n",
    "\n",
    "plt.show()"
   ]
  },
  {
   "cell_type": "code",
   "execution_count": 70,
   "metadata": {},
   "outputs": [
    {
     "data": {
      "text/html": [
       "<div>\n",
       "<style scoped>\n",
       "    .dataframe tbody tr th:only-of-type {\n",
       "        vertical-align: middle;\n",
       "    }\n",
       "\n",
       "    .dataframe tbody tr th {\n",
       "        vertical-align: top;\n",
       "    }\n",
       "\n",
       "    .dataframe thead th {\n",
       "        text-align: right;\n",
       "    }\n",
       "</style>\n",
       "<table border=\"1\" class=\"dataframe\">\n",
       "  <thead>\n",
       "    <tr style=\"text-align: right;\">\n",
       "      <th>shelf</th>\n",
       "      <th>1</th>\n",
       "      <th>2</th>\n",
       "      <th>3</th>\n",
       "    </tr>\n",
       "    <tr>\n",
       "      <th>mfr</th>\n",
       "      <th></th>\n",
       "      <th></th>\n",
       "      <th></th>\n",
       "    </tr>\n",
       "  </thead>\n",
       "  <tbody>\n",
       "    <tr>\n",
       "      <th>A</th>\n",
       "      <td>0</td>\n",
       "      <td>1</td>\n",
       "      <td>0</td>\n",
       "    </tr>\n",
       "    <tr>\n",
       "      <th>G</th>\n",
       "      <td>6</td>\n",
       "      <td>7</td>\n",
       "      <td>9</td>\n",
       "    </tr>\n",
       "    <tr>\n",
       "      <th>K</th>\n",
       "      <td>4</td>\n",
       "      <td>7</td>\n",
       "      <td>12</td>\n",
       "    </tr>\n",
       "    <tr>\n",
       "      <th>N</th>\n",
       "      <td>3</td>\n",
       "      <td>2</td>\n",
       "      <td>1</td>\n",
       "    </tr>\n",
       "    <tr>\n",
       "      <th>P</th>\n",
       "      <td>2</td>\n",
       "      <td>1</td>\n",
       "      <td>6</td>\n",
       "    </tr>\n",
       "    <tr>\n",
       "      <th>Q</th>\n",
       "      <td>1</td>\n",
       "      <td>3</td>\n",
       "      <td>4</td>\n",
       "    </tr>\n",
       "    <tr>\n",
       "      <th>R</th>\n",
       "      <td>4</td>\n",
       "      <td>0</td>\n",
       "      <td>4</td>\n",
       "    </tr>\n",
       "  </tbody>\n",
       "</table>\n",
       "</div>"
      ],
      "text/plain": [
       "shelf  1  2   3\n",
       "mfr            \n",
       "A      0  1   0\n",
       "G      6  7   9\n",
       "K      4  7  12\n",
       "N      3  2   1\n",
       "P      2  1   6\n",
       "Q      1  3   4\n",
       "R      4  0   4"
      ]
     },
     "execution_count": 70,
     "metadata": {},
     "output_type": "execute_result"
    }
   ],
   "source": [
    "pd.crosstab(index=cereals_df['mfr'], columns=cereals_df['shelf'])"
   ]
  },
  {
   "cell_type": "markdown",
   "metadata": {
    "id": "R1iWDKvMhgSF"
   },
   "source": [
    " 3a) ¿Cuál es el rango más frecuente de la variable `rating`?"
   ]
  },
  {
   "cell_type": "code",
   "execution_count": 71,
   "metadata": {},
   "outputs": [
    {
     "name": "stdout",
     "output_type": "stream",
     "text": [
      "Rango más frecuente: (33.175, 40.741]\n",
      "Frecuencia: 22\n"
     ]
    },
    {
     "data": {
      "image/png": "[encoded data removed]",
      "text/plain": [
       "<Figure size 640x480 with 1 Axes>"
      ]
     },
     "metadata": {},
     "output_type": "display_data"
    }
   ],
   "source": [
    "rangos_rating = pd.cut(cereals_df['rating'], bins=10)\n",
    "frecuencias = rangos_rating.value_counts().sort_values(ascending=False)\n",
    "\n",
    "print(\"Rango más frecuente:\", frecuencias.index[0])\n",
    "print(\"Frecuencia:\", frecuencias.iloc[0])\n",
    "\n",
    "sns.histplot(data=cereals_df, x='rating', bins=10, color='skyblue', edgecolor='black')\n",
    "plt.axvspan(frecuencias.index[0].left, frecuencias.index[0].right, color='orange', alpha=0.3)\n",
    "plt.title('Distribución de rating')\n",
    "plt.xlabel('Rating')\n",
    "plt.ylabel('Frecuencia')\n",
    "plt.show()"
   ]
  },
  {
   "cell_type": "markdown",
   "metadata": {},
   "source": [
    "* El rango más frecuente de rating es de 33.18 a 40.74"
   ]
  },
  {
   "cell_type": "markdown",
   "metadata": {
    "id": "dRw4LtNchnLD"
   },
   "source": [
    "3b) ¿Cuáles son los 10 cereales mejor evaluados y a qué fabricante corresponden? "
   ]
  },
  {
   "cell_type": "code",
   "execution_count": 72,
   "metadata": {
    "id": "FtNUjewoobG_"
   },
   "outputs": [
    {
     "name": "stderr",
     "output_type": "stream",
     "text": [
      "C:\\Users\\Erick\\AppData\\Local\\Temp\\ipykernel_27436\\3080432560.py:6: FutureWarning: \n",
      "\n",
      "Passing `palette` without assigning `hue` is deprecated and will be removed in v0.14.0. Assign the `y` variable to `hue` and set `legend=False` for the same effect.\n",
      "\n",
      "  ax = sns.barplot(data=top10, x='rating', y='label', palette='Blues_r')\n"
     ]
    },
    {
     "data": {
      "image/png": "[encoded data removed]",
      "text/plain": [
       "<Figure size 1000x600 with 1 Axes>"
      ]
     },
     "metadata": {},
     "output_type": "display_data"
    }
   ],
   "source": [
    "top10 = cereals_df.nlargest(10, 'rating').copy()\n",
    "\n",
    "top10['label'] = top10['name'] + ' (' + top10['mfr'] + ')'\n",
    "\n",
    "plt.figure(figsize=(10, 6))\n",
    "ax = sns.barplot(data=top10, x='rating', y='label', palette='Blues_r')\n",
    "\n",
    "for container in ax.containers:\n",
    "    ax.bar_label(container, fmt='%.1f', padding=3)\n",
    "\n",
    "ax.set(title='Top 10 Cereals by Rating', xlabel='Rating', ylabel='Cereal (MFR)')\n",
    "plt.show()"
   ]
  },
  {
   "cell_type": "markdown",
   "metadata": {
    "id": "A2wbLHYnhtsp"
   },
   "source": [
    "4a) Compara la distribución de las calorías según el fabricante, por medio de boxplots. "
   ]
  },
  {
   "cell_type": "code",
   "execution_count": 73,
   "metadata": {
    "id": "MvzEDeMUob8s"
   },
   "outputs": [
    {
     "data": {
      "image/png": "[encoded data removed]",
      "text/plain": [
       "<Figure size 1000x600 with 1 Axes>"
      ]
     },
     "metadata": {},
     "output_type": "display_data"
    }
   ],
   "source": [
    "\n",
    "plt.figure(figsize=(10,6))\n",
    "\n",
    "ax = sns.boxplot(x=cereals_df[\"calories\"], hue=cereals_df['mfr'])\n",
    "\n",
    "ax.set(title=f'Calories distribution by manufacturer', xlabel=None)\n",
    "ax.tick_params(axis='x',rotation=90)\n",
    "\n",
    "plt.show()"
   ]
  },
  {
   "cell_type": "markdown",
   "metadata": {
    "id": "NywjiWzIhy9X"
   },
   "source": [
    "4b) ¿Cuáles son las dos variables que tienen mayor correlación con `rating`? "
   ]
  },
  {
   "cell_type": "code",
   "execution_count": 74,
   "metadata": {
    "id": "8f5avPbYoc3r"
   },
   "outputs": [
    {
     "data": {
      "image/png": "[encoded data removed]",
      "text/plain": [
       "<Figure size 1500x1200 with 2 Axes>"
      ]
     },
     "metadata": {},
     "output_type": "display_data"
    }
   ],
   "source": [
    "plt.figure(figsize = (15, 12))\n",
    "sns.heatmap(round(cereals_df.corr(numeric_only=True),2), cmap=\"Blues\", annot = True)\n",
    "plt.show()"
   ]
  },
  {
   "cell_type": "code",
   "execution_count": 75,
   "metadata": {},
   "outputs": [
    {
     "name": "stdout",
     "output_type": "stream",
     "text": [
      "Variables con mayor correlación con 'rating':\n",
      "sugars      0.763902\n",
      "calories    0.689376\n",
      "Name: rating, dtype: float64\n"
     ]
    }
   ],
   "source": [
    "num_cereal = cereals_df.select_dtypes(include='number')\n",
    "correlacion = num_cereal.corr(method='pearson')\n",
    "correlacion_con_rating = correlacion['rating'].drop('rating')  # Excluye la autocorrelación\n",
    "top2 = correlacion_con_rating.abs().sort_values(ascending=False).head(2)\n",
    "\n",
    "print(\"Variables con mayor correlación con 'rating':\")\n",
    "print(top2)"
   ]
  },
  {
   "cell_type": "markdown",
   "metadata": {},
   "source": [
    "* Tanto 'Calories' como 'Sugars' tienen la mayor correlación con 'Rating', a pesar de ser una correlación negativa.\n",
    "\n",
    "* Los que tienen la mayor correlación POSITIVA con 'Rating' son 'Fiber' y 'Protein'"
   ]
  },
  {
   "cell_type": "markdown",
   "metadata": {
    "id": "itJ9anNUiTE5"
   },
   "source": [
    "5. Elimina todos los registros con algún dato faltante y reinicia el índice del dataframe para que quede con valores consecutivos. "
   ]
  },
  {
   "cell_type": "code",
   "execution_count": 76,
   "metadata": {
    "id": "_V__MFtiod9w"
   },
   "outputs": [
    {
     "name": "stdout",
     "output_type": "stream",
     "text": [
      "Dataframe lenght with missing info: 77\n",
      "Dataframe lenght withouth missing info: 74\n"
     ]
    }
   ],
   "source": [
    "print(f\"Dataframe lenght with missing info: {cereals_df.shape[0]}\")\n",
    "\n",
    "cereals_df = cereals_df.dropna().reset_index(drop=True)\n",
    "\n",
    "\n",
    "print(f\"Dataframe lenght withouth missing info: {cereals_df.shape[0]}\")"
   ]
  },
  {
   "cell_type": "markdown",
   "metadata": {
    "id": "S51rfjbMicoY"
   },
   "source": [
    "# **Parte 2**. Ingeniería de características"
   ]
  },
  {
   "cell_type": "markdown",
   "metadata": {
    "id": "-MQjqqisihp5"
   },
   "source": [
    "6. Considerando que `rating` es la variable de salida, almacénala en una variable `y` y separa los predictores **numéricos** en `X`. Escala los valores de `X` y aplica `PCA` para proyectar los datos en el nuevo espacio de vectores. "
   ]
  },
  {
   "cell_type": "code",
   "execution_count": 77,
   "metadata": {},
   "outputs": [],
   "source": [
    "x = cereals_df.select_dtypes(include='number').drop(columns='rating')\n",
    "y = cereals_df['rating']"
   ]
  },
  {
   "cell_type": "code",
   "execution_count": 78,
   "metadata": {},
   "outputs": [],
   "source": [
    "total_components = x.shape[1]"
   ]
  },
  {
   "cell_type": "code",
   "execution_count": 79,
   "metadata": {
    "id": "i3J4lTEpoe5I"
   },
   "outputs": [
    {
     "data": {
      "text/plain": [
       "array([[-1.87865227,  1.3911796 ,  0.        , -0.39369182,  3.25070642,\n",
       "        -2.51720557, -0.25594026,  2.57800107, -0.18308346,  0.94840141,\n",
       "        -0.20220332, -2.09989497],\n",
       "       [ 0.65821393,  0.45529514,  4.        , -1.79257173, -0.0729865 ,\n",
       "        -1.74106718,  0.2060007 ,  0.51828763, -1.31209813,  0.94840141,\n",
       "        -0.20220332,  0.76191901],\n",
       "       [-1.87865227,  1.3911796 ,  0.        ,  1.18765068,  2.8352448 ,\n",
       "        -1.99977998, -0.48691074,  3.14619788, -0.18308346,  0.94840141,\n",
       "        -0.20220332, -2.09989497],\n",
       "       [-2.89339875,  1.3911796 , -1.        , -0.27205009,  4.91255287,\n",
       "        -1.74106718, -1.64176313,  3.28824708, -0.18308346,  0.94840141,\n",
       "        -0.20220332, -1.37376306],\n",
       "       [ 0.15084069, -0.48058932,  1.        ,  0.21451684, -0.28071731,\n",
       "        -1.0942852 ,  0.66794165, -0.40503219, -0.18308346, -1.47165737,\n",
       "        -0.20220332, -0.30592203]])"
      ]
     },
     "execution_count": 79,
     "metadata": {},
     "output_type": "execute_result"
    }
   ],
   "source": [
    "from sklearn.preprocessing import StandardScaler\n",
    "escalar = StandardScaler()\n",
    "x_scaled = escalar.fit_transform(x)\n",
    "x_scaled[0:5]"
   ]
  },
  {
   "cell_type": "code",
   "execution_count": 80,
   "metadata": {},
   "outputs": [
    {
     "data": {
      "text/html": [
       "<div>\n",
       "<style scoped>\n",
       "    .dataframe tbody tr th:only-of-type {\n",
       "        vertical-align: middle;\n",
       "    }\n",
       "\n",
       "    .dataframe tbody tr th {\n",
       "        vertical-align: top;\n",
       "    }\n",
       "\n",
       "    .dataframe thead th {\n",
       "        text-align: right;\n",
       "    }\n",
       "</style>\n",
       "<table border=\"1\" class=\"dataframe\">\n",
       "  <thead>\n",
       "    <tr style=\"text-align: right;\">\n",
       "      <th></th>\n",
       "      <th>0</th>\n",
       "      <th>1</th>\n",
       "      <th>2</th>\n",
       "      <th>3</th>\n",
       "      <th>4</th>\n",
       "      <th>5</th>\n",
       "      <th>6</th>\n",
       "      <th>7</th>\n",
       "      <th>8</th>\n",
       "      <th>9</th>\n",
       "      <th>10</th>\n",
       "      <th>11</th>\n",
       "    </tr>\n",
       "  </thead>\n",
       "  <tbody>\n",
       "    <tr>\n",
       "      <th>0</th>\n",
       "      <td>4.870399</td>\n",
       "      <td>-2.934238</td>\n",
       "      <td>-0.055266</td>\n",
       "      <td>0.244647</td>\n",
       "      <td>-1.102035</td>\n",
       "      <td>0.904575</td>\n",
       "      <td>0.235388</td>\n",
       "      <td>-0.247787</td>\n",
       "      <td>-0.124799</td>\n",
       "      <td>-0.046331</td>\n",
       "      <td>-0.238706</td>\n",
       "      <td>0.021342</td>\n",
       "    </tr>\n",
       "    <tr>\n",
       "      <th>1</th>\n",
       "      <td>1.761110</td>\n",
       "      <td>0.210993</td>\n",
       "      <td>-3.014058</td>\n",
       "      <td>-0.494129</td>\n",
       "      <td>3.275506</td>\n",
       "      <td>1.065041</td>\n",
       "      <td>-0.489640</td>\n",
       "      <td>0.895201</td>\n",
       "      <td>-0.835394</td>\n",
       "      <td>0.595071</td>\n",
       "      <td>-0.069954</td>\n",
       "      <td>-0.089523</td>\n",
       "    </tr>\n",
       "    <tr>\n",
       "      <th>2</th>\n",
       "      <td>4.727161</td>\n",
       "      <td>-2.402254</td>\n",
       "      <td>0.869028</td>\n",
       "      <td>-0.095823</td>\n",
       "      <td>-1.357388</td>\n",
       "      <td>1.393861</td>\n",
       "      <td>1.210340</td>\n",
       "      <td>0.182089</td>\n",
       "      <td>0.139267</td>\n",
       "      <td>-0.090776</td>\n",
       "      <td>0.488302</td>\n",
       "      <td>-0.035570</td>\n",
       "    </tr>\n",
       "    <tr>\n",
       "      <th>3</th>\n",
       "      <td>5.142814</td>\n",
       "      <td>-4.401826</td>\n",
       "      <td>1.883153</td>\n",
       "      <td>0.209854</td>\n",
       "      <td>-1.662387</td>\n",
       "      <td>0.955808</td>\n",
       "      <td>-0.289695</td>\n",
       "      <td>0.865569</td>\n",
       "      <td>-0.682678</td>\n",
       "      <td>-0.099300</td>\n",
       "      <td>-0.708471</td>\n",
       "      <td>0.108198</td>\n",
       "    </tr>\n",
       "    <tr>\n",
       "      <th>4</th>\n",
       "      <td>-0.332394</td>\n",
       "      <td>0.284619</td>\n",
       "      <td>-1.490929</td>\n",
       "      <td>-0.944313</td>\n",
       "      <td>-0.311262</td>\n",
       "      <td>0.828872</td>\n",
       "      <td>0.493652</td>\n",
       "      <td>-0.808361</td>\n",
       "      <td>-0.712896</td>\n",
       "      <td>0.100511</td>\n",
       "      <td>-0.093129</td>\n",
       "      <td>-0.076342</td>\n",
       "    </tr>\n",
       "  </tbody>\n",
       "</table>\n",
       "</div>"
      ],
      "text/plain": [
       "         0         1         2         3         4         5         6   \\\n",
       "0  4.870399 -2.934238 -0.055266  0.244647 -1.102035  0.904575  0.235388   \n",
       "1  1.761110  0.210993 -3.014058 -0.494129  3.275506  1.065041 -0.489640   \n",
       "2  4.727161 -2.402254  0.869028 -0.095823 -1.357388  1.393861  1.210340   \n",
       "3  5.142814 -4.401826  1.883153  0.209854 -1.662387  0.955808 -0.289695   \n",
       "4 -0.332394  0.284619 -1.490929 -0.944313 -0.311262  0.828872  0.493652   \n",
       "\n",
       "         7         8         9         10        11  \n",
       "0 -0.247787 -0.124799 -0.046331 -0.238706  0.021342  \n",
       "1  0.895201 -0.835394  0.595071 -0.069954 -0.089523  \n",
       "2  0.182089  0.139267 -0.090776  0.488302 -0.035570  \n",
       "3  0.865569 -0.682678 -0.099300 -0.708471  0.108198  \n",
       "4 -0.808361 -0.712896  0.100511 -0.093129 -0.076342  "
      ]
     },
     "execution_count": 80,
     "metadata": {},
     "output_type": "execute_result"
    }
   ],
   "source": [
    "from sklearn.decomposition import PCA\n",
    "pca = PCA()\n",
    "x_projected = pca.fit_transform(x_scaled)\n",
    "x_projected = pd.DataFrame(x_projected)\n",
    "x_projected.head(5)"
   ]
  },
  {
   "cell_type": "markdown",
   "metadata": {
    "id": "cYeQ6zwSit8I"
   },
   "source": [
    "7. Obtén la curva del porcentaje de varianza acumulada y determine el número mínimo de componentes principales que explique más del 90% de la varianza. Imprime la información de dichos componentes. "
   ]
  },
  {
   "cell_type": "code",
   "execution_count": 81,
   "metadata": {
    "id": "g0iOZsi7oiEK"
   },
   "outputs": [
    {
     "name": "stdout",
     "output_type": "stream",
     "text": [
      "Número mínimo de componentes que explican más del 90% de la varianza: 7\n"
     ]
    },
    {
     "data": {
      "image/png": "[encoded data removed]",
      "text/plain": [
       "<Figure size 640x480 with 1 Axes>"
      ]
     },
     "metadata": {},
     "output_type": "display_data"
    }
   ],
   "source": [
    "sns.set_style('white')\n",
    "\n",
    "plt.plot(np.cumsum(pca.explained_variance_ratio_)*100)\n",
    "plt.title('PCA Analysis')\n",
    "plt.xlabel('N-th Principal Component')\n",
    "plt.ylabel('% Cumulative Variance Explained')\n",
    "plt.xticks(np.arange(0,total_components,1))\n",
    "\n",
    "labels = np.cumsum(pca.explained_variance_ratio_)*100\n",
    "for i in range(total_components):\n",
    "  plt.text(i,labels[i],str(format(labels[i],'.0f'))+'%')\n",
    "\n",
    "\n",
    "\n",
    "varianza_acumulada = np.cumsum(pca.explained_variance_ratio_)\n",
    "\n",
    "num_componentes = np.argmax(varianza_acumulada >= 0.90) + 1  \n",
    "print(f\"Número mínimo de componentes que explican más del 90% de la varianza: {num_componentes}\")"
   ]
  },
  {
   "cell_type": "markdown",
   "metadata": {},
   "source": [
    "* Se necesitan minimo 7 componentes principales para que se pueda hacer un análisis con más del 90% de la varianza de los datos"
   ]
  },
  {
   "cell_type": "code",
   "execution_count": 82,
   "metadata": {},
   "outputs": [
    {
     "data": {
      "text/html": [
       "<div>\n",
       "<style scoped>\n",
       "    .dataframe tbody tr th:only-of-type {\n",
       "        vertical-align: middle;\n",
       "    }\n",
       "\n",
       "    .dataframe tbody tr th {\n",
       "        vertical-align: top;\n",
       "    }\n",
       "\n",
       "    .dataframe thead th {\n",
       "        text-align: right;\n",
       "    }\n",
       "</style>\n",
       "<table border=\"1\" class=\"dataframe\">\n",
       "  <thead>\n",
       "    <tr style=\"text-align: right;\">\n",
       "      <th></th>\n",
       "      <th>calories</th>\n",
       "      <th>protein</th>\n",
       "      <th>fat</th>\n",
       "      <th>sodium</th>\n",
       "      <th>fiber</th>\n",
       "      <th>carbo</th>\n",
       "      <th>sugars</th>\n",
       "      <th>potass</th>\n",
       "      <th>vitamins</th>\n",
       "      <th>shelf</th>\n",
       "      <th>weight</th>\n",
       "      <th>cups</th>\n",
       "    </tr>\n",
       "  </thead>\n",
       "  <tbody>\n",
       "    <tr>\n",
       "      <th>Principal component 1</th>\n",
       "      <td>0.036594</td>\n",
       "      <td>0.330888</td>\n",
       "      <td>0.212549</td>\n",
       "      <td>0.050894</td>\n",
       "      <td>0.458623</td>\n",
       "      <td>0.268609</td>\n",
       "      <td>0.081440</td>\n",
       "      <td>0.502603</td>\n",
       "      <td>0.018839</td>\n",
       "      <td>0.308929</td>\n",
       "      <td>0.257160</td>\n",
       "      <td>0.371154</td>\n",
       "    </tr>\n",
       "    <tr>\n",
       "      <th>Principal component 2</th>\n",
       "      <td>0.571142</td>\n",
       "      <td>0.045367</td>\n",
       "      <td>0.249143</td>\n",
       "      <td>0.304684</td>\n",
       "      <td>0.201029</td>\n",
       "      <td>0.175660</td>\n",
       "      <td>0.364844</td>\n",
       "      <td>0.070345</td>\n",
       "      <td>0.300574</td>\n",
       "      <td>0.065114</td>\n",
       "      <td>0.448962</td>\n",
       "      <td>0.106553</td>\n",
       "    </tr>\n",
       "    <tr>\n",
       "      <th>Principal component 3</th>\n",
       "      <td>0.077927</td>\n",
       "      <td>0.326405</td>\n",
       "      <td>0.291274</td>\n",
       "      <td>0.343108</td>\n",
       "      <td>0.173912</td>\n",
       "      <td>0.513002</td>\n",
       "      <td>0.495338</td>\n",
       "      <td>0.130460</td>\n",
       "      <td>0.327563</td>\n",
       "      <td>0.000546</td>\n",
       "      <td>0.122030</td>\n",
       "      <td>0.082695</td>\n",
       "    </tr>\n",
       "    <tr>\n",
       "      <th>Principal component 4</th>\n",
       "      <td>0.164032</td>\n",
       "      <td>0.281265</td>\n",
       "      <td>0.124324</td>\n",
       "      <td>0.168916</td>\n",
       "      <td>0.075295</td>\n",
       "      <td>0.071305</td>\n",
       "      <td>0.016033</td>\n",
       "      <td>0.112708</td>\n",
       "      <td>0.594798</td>\n",
       "      <td>0.667703</td>\n",
       "      <td>0.160396</td>\n",
       "      <td>0.030683</td>\n",
       "    </tr>\n",
       "    <tr>\n",
       "      <th>Principal component 5</th>\n",
       "      <td>0.186667</td>\n",
       "      <td>0.372134</td>\n",
       "      <td>0.597422</td>\n",
       "      <td>0.292344</td>\n",
       "      <td>0.229653</td>\n",
       "      <td>0.191830</td>\n",
       "      <td>0.360371</td>\n",
       "      <td>0.124888</td>\n",
       "      <td>0.105582</td>\n",
       "      <td>0.265485</td>\n",
       "      <td>0.232905</td>\n",
       "      <td>0.115826</td>\n",
       "    </tr>\n",
       "    <tr>\n",
       "      <th>Principal component 6</th>\n",
       "      <td>0.196806</td>\n",
       "      <td>0.176822</td>\n",
       "      <td>0.299822</td>\n",
       "      <td>0.462005</td>\n",
       "      <td>0.084635</td>\n",
       "      <td>0.446257</td>\n",
       "      <td>0.061289</td>\n",
       "      <td>0.068499</td>\n",
       "      <td>0.279949</td>\n",
       "      <td>0.133268</td>\n",
       "      <td>0.316544</td>\n",
       "      <td>0.464295</td>\n",
       "    </tr>\n",
       "    <tr>\n",
       "      <th>Principal component 7</th>\n",
       "      <td>0.062276</td>\n",
       "      <td>0.260647</td>\n",
       "      <td>0.247778</td>\n",
       "      <td>0.608269</td>\n",
       "      <td>0.095668</td>\n",
       "      <td>0.026962</td>\n",
       "      <td>0.186843</td>\n",
       "      <td>0.147455</td>\n",
       "      <td>0.168034</td>\n",
       "      <td>0.124162</td>\n",
       "      <td>0.186826</td>\n",
       "      <td>0.593052</td>\n",
       "    </tr>\n",
       "  </tbody>\n",
       "</table>\n",
       "</div>"
      ],
      "text/plain": [
       "                       calories   protein       fat    sodium     fiber  \\\n",
       "Principal component 1  0.036594  0.330888  0.212549  0.050894  0.458623   \n",
       "Principal component 2  0.571142  0.045367  0.249143  0.304684  0.201029   \n",
       "Principal component 3  0.077927  0.326405  0.291274  0.343108  0.173912   \n",
       "Principal component 4  0.164032  0.281265  0.124324  0.168916  0.075295   \n",
       "Principal component 5  0.186667  0.372134  0.597422  0.292344  0.229653   \n",
       "Principal component 6  0.196806  0.176822  0.299822  0.462005  0.084635   \n",
       "Principal component 7  0.062276  0.260647  0.247778  0.608269  0.095668   \n",
       "\n",
       "                          carbo    sugars    potass  vitamins     shelf  \\\n",
       "Principal component 1  0.268609  0.081440  0.502603  0.018839  0.308929   \n",
       "Principal component 2  0.175660  0.364844  0.070345  0.300574  0.065114   \n",
       "Principal component 3  0.513002  0.495338  0.130460  0.327563  0.000546   \n",
       "Principal component 4  0.071305  0.016033  0.112708  0.594798  0.667703   \n",
       "Principal component 5  0.191830  0.360371  0.124888  0.105582  0.265485   \n",
       "Principal component 6  0.446257  0.061289  0.068499  0.279949  0.133268   \n",
       "Principal component 7  0.026962  0.186843  0.147455  0.168034  0.124162   \n",
       "\n",
       "                         weight      cups  \n",
       "Principal component 1  0.257160  0.371154  \n",
       "Principal component 2  0.448962  0.106553  \n",
       "Principal component 3  0.122030  0.082695  \n",
       "Principal component 4  0.160396  0.030683  \n",
       "Principal component 5  0.232905  0.115826  \n",
       "Principal component 6  0.316544  0.464295  \n",
       "Principal component 7  0.186826  0.593052  "
      ]
     },
     "execution_count": 82,
     "metadata": {},
     "output_type": "execute_result"
    }
   ],
   "source": [
    "num_components = 7\n",
    "pc_df = pd.DataFrame(abs(pca.components_[:num_components]), columns = x.columns, index=['Principal component {}'.format(i) for i in range(1, num_components + 1)])\n",
    "pc_df"
   ]
  },
  {
   "cell_type": "markdown",
   "metadata": {
    "id": "dmCLWDJwi3P2"
   },
   "source": [
    "8. ¿Cuáles son las tres variables más importantes en el cálculo del primer componente?\n"
   ]
  },
  {
   "cell_type": "code",
   "execution_count": 83,
   "metadata": {
    "id": "RDHX0DQ6ojB-"
   },
   "outputs": [
    {
     "data": {
      "text/plain": [
       "Text(0, 0.5, 'feature importance for PC1')"
      ]
     },
     "execution_count": 83,
     "metadata": {},
     "output_type": "execute_result"
    },
    {
     "data": {
      "image/png": "[encoded data removed]",
      "text/plain": [
       "<Figure size 640x480 with 1 Axes>"
      ]
     },
     "metadata": {},
     "output_type": "display_data"
    }
   ],
   "source": [
    "#Graphic approax\n",
    "\n",
    "sns.barplot(data=pc_df.iloc[0:1],errorbar=None)\n",
    "plt.xlabel('Features')\n",
    "plt.ylabel('feature importance for PC1')"
   ]
  },
  {
   "cell_type": "code",
   "execution_count": 84,
   "metadata": {},
   "outputs": [
    {
     "name": "stdout",
     "output_type": "stream",
     "text": [
      "potass    0.502603\n",
      "fiber     0.458623\n",
      "cups      0.371154\n",
      "dtype: float64\n"
     ]
    }
   ],
   "source": [
    "#Math approax\n",
    "\n",
    "pc1_weights = pd.Series(pca.components_[0], index=x.columns)\n",
    "print(pc1_weights.abs().sort_values(ascending=False).head(3))"
   ]
  },
  {
   "cell_type": "markdown",
   "metadata": {},
   "source": [
    "* Las tres variables para el cálculo del primer componente son 'potass', 'fiber' y 'cups' respectivamente"
   ]
  },
  {
   "cell_type": "markdown",
   "metadata": {
    "id": "yIUm9oVPjw6Q"
   },
   "source": [
    "9. ¿Todas las variables categóricas son predictores? Aplica una técnica de encoding a las que sí lo sean. Justifica la elección de tu técnica. "
   ]
  },
  {
   "cell_type": "code",
   "execution_count": 85,
   "metadata": {
    "id": "Q4pzwnTiokLs"
   },
   "outputs": [
    {
     "name": "stdout",
     "output_type": "stream",
     "text": [
      "Variables categoricas: Index(['name', 'mfr', 'type'], dtype='object')\n"
     ]
    }
   ],
   "source": [
    "print(f\"Variables categoricas: {cereals_df.select_dtypes(include='object').columns}\")"
   ]
  },
  {
   "cell_type": "markdown",
   "metadata": {},
   "source": [
    "* La variable Name no es predictiva"
   ]
  },
  {
   "cell_type": "markdown",
   "metadata": {},
   "source": [
    "* Se usa OneHot por la baja cardinalidad de las variables"
   ]
  },
  {
   "cell_type": "code",
   "execution_count": 86,
   "metadata": {},
   "outputs": [],
   "source": [
    "onehot_cat = pd.get_dummies(cereals_df[['mfr','type']], drop_first=True)"
   ]
  },
  {
   "cell_type": "markdown",
   "metadata": {
    "id": "kJU_vJExj2Lh"
   },
   "source": [
    "10. Conjunta, en un dataframe, las valores proyectados en los componentes seleccionados (mínimo), las transformaciones obtenidas de las variables categóricas que serán predictores y la variable de salida. Almacena el dataframe resultante en archivo. "
   ]
  },
  {
   "cell_type": "code",
   "execution_count": 87,
   "metadata": {
    "id": "DLcbTOUtolGR"
   },
   "outputs": [
    {
     "data": {
      "text/html": [
       "<div>\n",
       "<style scoped>\n",
       "    .dataframe tbody tr th:only-of-type {\n",
       "        vertical-align: middle;\n",
       "    }\n",
       "\n",
       "    .dataframe tbody tr th {\n",
       "        vertical-align: top;\n",
       "    }\n",
       "\n",
       "    .dataframe thead th {\n",
       "        text-align: right;\n",
       "    }\n",
       "</style>\n",
       "<table border=\"1\" class=\"dataframe\">\n",
       "  <thead>\n",
       "    <tr style=\"text-align: right;\">\n",
       "      <th></th>\n",
       "      <th>PC1</th>\n",
       "      <th>PC2</th>\n",
       "      <th>PC3</th>\n",
       "      <th>PC4</th>\n",
       "      <th>PC5</th>\n",
       "      <th>PC6</th>\n",
       "      <th>PC7</th>\n",
       "      <th>mfr_G</th>\n",
       "      <th>mfr_K</th>\n",
       "      <th>mfr_N</th>\n",
       "      <th>mfr_P</th>\n",
       "      <th>mfr_Q</th>\n",
       "      <th>mfr_R</th>\n",
       "      <th>type_H</th>\n",
       "      <th>rating</th>\n",
       "    </tr>\n",
       "  </thead>\n",
       "  <tbody>\n",
       "    <tr>\n",
       "      <th>0</th>\n",
       "      <td>4.870399</td>\n",
       "      <td>-2.934238</td>\n",
       "      <td>-0.055266</td>\n",
       "      <td>0.244647</td>\n",
       "      <td>-1.102035</td>\n",
       "      <td>0.904575</td>\n",
       "      <td>0.235388</td>\n",
       "      <td>False</td>\n",
       "      <td>False</td>\n",
       "      <td>True</td>\n",
       "      <td>False</td>\n",
       "      <td>False</td>\n",
       "      <td>False</td>\n",
       "      <td>False</td>\n",
       "      <td>68.402973</td>\n",
       "    </tr>\n",
       "    <tr>\n",
       "      <th>1</th>\n",
       "      <td>1.761110</td>\n",
       "      <td>0.210993</td>\n",
       "      <td>-3.014058</td>\n",
       "      <td>-0.494129</td>\n",
       "      <td>3.275506</td>\n",
       "      <td>1.065041</td>\n",
       "      <td>-0.489640</td>\n",
       "      <td>False</td>\n",
       "      <td>False</td>\n",
       "      <td>False</td>\n",
       "      <td>False</td>\n",
       "      <td>True</td>\n",
       "      <td>False</td>\n",
       "      <td>False</td>\n",
       "      <td>33.983679</td>\n",
       "    </tr>\n",
       "    <tr>\n",
       "      <th>2</th>\n",
       "      <td>4.727161</td>\n",
       "      <td>-2.402254</td>\n",
       "      <td>0.869028</td>\n",
       "      <td>-0.095823</td>\n",
       "      <td>-1.357388</td>\n",
       "      <td>1.393861</td>\n",
       "      <td>1.210340</td>\n",
       "      <td>False</td>\n",
       "      <td>True</td>\n",
       "      <td>False</td>\n",
       "      <td>False</td>\n",
       "      <td>False</td>\n",
       "      <td>False</td>\n",
       "      <td>False</td>\n",
       "      <td>59.425505</td>\n",
       "    </tr>\n",
       "    <tr>\n",
       "      <th>3</th>\n",
       "      <td>5.142814</td>\n",
       "      <td>-4.401826</td>\n",
       "      <td>1.883153</td>\n",
       "      <td>0.209854</td>\n",
       "      <td>-1.662387</td>\n",
       "      <td>0.955808</td>\n",
       "      <td>-0.289695</td>\n",
       "      <td>False</td>\n",
       "      <td>True</td>\n",
       "      <td>False</td>\n",
       "      <td>False</td>\n",
       "      <td>False</td>\n",
       "      <td>False</td>\n",
       "      <td>False</td>\n",
       "      <td>93.704912</td>\n",
       "    </tr>\n",
       "    <tr>\n",
       "      <th>4</th>\n",
       "      <td>-0.332394</td>\n",
       "      <td>0.284619</td>\n",
       "      <td>-1.490929</td>\n",
       "      <td>-0.944313</td>\n",
       "      <td>-0.311262</td>\n",
       "      <td>0.828872</td>\n",
       "      <td>0.493652</td>\n",
       "      <td>True</td>\n",
       "      <td>False</td>\n",
       "      <td>False</td>\n",
       "      <td>False</td>\n",
       "      <td>False</td>\n",
       "      <td>False</td>\n",
       "      <td>False</td>\n",
       "      <td>29.509541</td>\n",
       "    </tr>\n",
       "    <tr>\n",
       "      <th>...</th>\n",
       "      <td>...</td>\n",
       "      <td>...</td>\n",
       "      <td>...</td>\n",
       "      <td>...</td>\n",
       "      <td>...</td>\n",
       "      <td>...</td>\n",
       "      <td>...</td>\n",
       "      <td>...</td>\n",
       "      <td>...</td>\n",
       "      <td>...</td>\n",
       "      <td>...</td>\n",
       "      <td>...</td>\n",
       "      <td>...</td>\n",
       "      <td>...</td>\n",
       "      <td>...</td>\n",
       "    </tr>\n",
       "    <tr>\n",
       "      <th>69</th>\n",
       "      <td>-1.059199</td>\n",
       "      <td>0.475067</td>\n",
       "      <td>1.161330</td>\n",
       "      <td>0.495373</td>\n",
       "      <td>0.749484</td>\n",
       "      <td>-0.773891</td>\n",
       "      <td>1.520184</td>\n",
       "      <td>True</td>\n",
       "      <td>False</td>\n",
       "      <td>False</td>\n",
       "      <td>False</td>\n",
       "      <td>False</td>\n",
       "      <td>False</td>\n",
       "      <td>False</td>\n",
       "      <td>39.106174</td>\n",
       "    </tr>\n",
       "    <tr>\n",
       "      <th>70</th>\n",
       "      <td>-1.595568</td>\n",
       "      <td>0.574653</td>\n",
       "      <td>-1.671901</td>\n",
       "      <td>0.380863</td>\n",
       "      <td>-0.489233</td>\n",
       "      <td>0.116453</td>\n",
       "      <td>-0.204196</td>\n",
       "      <td>True</td>\n",
       "      <td>False</td>\n",
       "      <td>False</td>\n",
       "      <td>False</td>\n",
       "      <td>False</td>\n",
       "      <td>False</td>\n",
       "      <td>False</td>\n",
       "      <td>27.753301</td>\n",
       "    </tr>\n",
       "    <tr>\n",
       "      <th>71</th>\n",
       "      <td>-0.134252</td>\n",
       "      <td>-0.612590</td>\n",
       "      <td>1.181098</td>\n",
       "      <td>-1.357046</td>\n",
       "      <td>-0.190222</td>\n",
       "      <td>0.163728</td>\n",
       "      <td>0.799693</td>\n",
       "      <td>False</td>\n",
       "      <td>False</td>\n",
       "      <td>False</td>\n",
       "      <td>False</td>\n",
       "      <td>False</td>\n",
       "      <td>True</td>\n",
       "      <td>False</td>\n",
       "      <td>49.787445</td>\n",
       "    </tr>\n",
       "    <tr>\n",
       "      <th>72</th>\n",
       "      <td>-0.674537</td>\n",
       "      <td>-0.568589</td>\n",
       "      <td>1.163186</td>\n",
       "      <td>-1.330649</td>\n",
       "      <td>0.088594</td>\n",
       "      <td>0.644712</td>\n",
       "      <td>-0.247744</td>\n",
       "      <td>True</td>\n",
       "      <td>False</td>\n",
       "      <td>False</td>\n",
       "      <td>False</td>\n",
       "      <td>False</td>\n",
       "      <td>False</td>\n",
       "      <td>False</td>\n",
       "      <td>51.592193</td>\n",
       "    </tr>\n",
       "    <tr>\n",
       "      <th>73</th>\n",
       "      <td>-1.143818</td>\n",
       "      <td>0.242767</td>\n",
       "      <td>-0.212062</td>\n",
       "      <td>-0.938300</td>\n",
       "      <td>-0.474932</td>\n",
       "      <td>-0.049165</td>\n",
       "      <td>0.559350</td>\n",
       "      <td>True</td>\n",
       "      <td>False</td>\n",
       "      <td>False</td>\n",
       "      <td>False</td>\n",
       "      <td>False</td>\n",
       "      <td>False</td>\n",
       "      <td>False</td>\n",
       "      <td>36.187559</td>\n",
       "    </tr>\n",
       "  </tbody>\n",
       "</table>\n",
       "<p>74 rows × 15 columns</p>\n",
       "</div>"
      ],
      "text/plain": [
       "         PC1       PC2       PC3       PC4       PC5       PC6       PC7  \\\n",
       "0   4.870399 -2.934238 -0.055266  0.244647 -1.102035  0.904575  0.235388   \n",
       "1   1.761110  0.210993 -3.014058 -0.494129  3.275506  1.065041 -0.489640   \n",
       "2   4.727161 -2.402254  0.869028 -0.095823 -1.357388  1.393861  1.210340   \n",
       "3   5.142814 -4.401826  1.883153  0.209854 -1.662387  0.955808 -0.289695   \n",
       "4  -0.332394  0.284619 -1.490929 -0.944313 -0.311262  0.828872  0.493652   \n",
       "..       ...       ...       ...       ...       ...       ...       ...   \n",
       "69 -1.059199  0.475067  1.161330  0.495373  0.749484 -0.773891  1.520184   \n",
       "70 -1.595568  0.574653 -1.671901  0.380863 -0.489233  0.116453 -0.204196   \n",
       "71 -0.134252 -0.612590  1.181098 -1.357046 -0.190222  0.163728  0.799693   \n",
       "72 -0.674537 -0.568589  1.163186 -1.330649  0.088594  0.644712 -0.247744   \n",
       "73 -1.143818  0.242767 -0.212062 -0.938300 -0.474932 -0.049165  0.559350   \n",
       "\n",
       "    mfr_G  mfr_K  mfr_N  mfr_P  mfr_Q  mfr_R  type_H     rating  \n",
       "0   False  False   True  False  False  False   False  68.402973  \n",
       "1   False  False  False  False   True  False   False  33.983679  \n",
       "2   False   True  False  False  False  False   False  59.425505  \n",
       "3   False   True  False  False  False  False   False  93.704912  \n",
       "4    True  False  False  False  False  False   False  29.509541  \n",
       "..    ...    ...    ...    ...    ...    ...     ...        ...  \n",
       "69   True  False  False  False  False  False   False  39.106174  \n",
       "70   True  False  False  False  False  False   False  27.753301  \n",
       "71  False  False  False  False  False   True   False  49.787445  \n",
       "72   True  False  False  False  False  False   False  51.592193  \n",
       "73   True  False  False  False  False  False   False  36.187559  \n",
       "\n",
       "[74 rows x 15 columns]"
      ]
     },
     "execution_count": 87,
     "metadata": {},
     "output_type": "execute_result"
    }
   ],
   "source": [
    "num_components = 7\n",
    "\n",
    "# As the cumulative percentage variance for principal components 1 and 2 is 96%, only their projections will be used in the new dataset\n",
    "new_data = x_projected.iloc[:,0:num_components]\n",
    "# Assign names to projections on components\n",
    "new_data.columns = ['PC{}'.format(i) for i in range(1, num_components + 1)]\n",
    "\n",
    "new_data = pd.concat([new_data, onehot_cat], axis=1)\n",
    "new_data = pd.concat([new_data,y], axis=1)\n",
    "\n",
    "new_data.to_csv(\"Cereals_PCA_Encoded.csv\", index=False)\n",
    "\n",
    "new_data\n"
   ]
  }
 ],
 "metadata": {
  "colab": {
   "provenance": []
  },
  "kernelspec": {
   "display_name": ".venv",
   "language": "python",
   "name": "python3"
  },
  "language_info": {
   "codemirror_mode": {
    "name": "ipython",
    "version": 3
   },
   "file_extension": ".py",
   "mimetype": "text/x-python",
   "name": "python",
   "nbconvert_exporter": "python",
   "pygments_lexer": "ipython3",
   "version": "3.11.9"
  }
 },
 "nbformat": 4,
 "nbformat_minor": 0
}
