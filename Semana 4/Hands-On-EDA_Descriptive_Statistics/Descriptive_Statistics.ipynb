{
 "cells": [
  {
   "cell_type": "markdown",
   "metadata": {
    "id": "P_2k2ZG-bjRK"
   },
   "source": [
    "# Hands-On Exploratory Data Analysis with Python\n",
    "    \n",
    "    AUTHORS: Suresh Kumar Mukhiya, Usman Ahmed\n",
    "\n",
    "### Chapter 5: Descriptive Statistics"
   ]
  },
  {
   "cell_type": "code",
   "execution_count": 1,
   "metadata": {
    "colab": {
     "base_uri": "https://localhost:8080/"
    },
    "executionInfo": {
     "elapsed": 746,
     "status": "ok",
     "timestamp": 1671487068312,
     "user": {
      "displayName": "Grettel Barceló Alonso",
      "userId": "01577411478517144249"
     },
     "user_tz": 360
    },
    "id": "HWIFfpZIdCyC",
    "outputId": "9dc378f5-233c-4f47-a59b-997b07616354"
   },
   "outputs": [],
   "source": [
    "# from google.colab import drive\n",
    "# drive.mount('/content/drive')"
   ]
  },
  {
   "cell_type": "code",
   "execution_count": 4,
   "metadata": {
    "executionInfo": {
     "elapsed": 4,
     "status": "ok",
     "timestamp": 1671487068312,
     "user": {
      "displayName": "Grettel Barceló Alonso",
      "userId": "01577411478517144249"
     },
     "user_tz": 360
    },
    "id": "r_zWSjNXdFSY"
   },
   "outputs": [],
   "source": [
    "import os\n",
    "DIR = \"C:\\Coding\\Masters\\DataScience\\Semana 4\\Hands-On-EDA_Descriptive_Statistics\"\n",
    "os.chdir(DIR)"
   ]
  },
  {
   "cell_type": "code",
   "execution_count": 5,
   "metadata": {
    "colab": {
     "base_uri": "https://localhost:8080/",
     "height": 386
    },
    "executionInfo": {
     "elapsed": 14,
     "status": "ok",
     "timestamp": 1671487068502,
     "user": {
      "displayName": "Grettel Barceló Alonso",
      "userId": "01577411478517144249"
     },
     "user_tz": 360
    },
    "id": "2ccn8bquu4LE",
    "outputId": "db2a30e0-3a4a-4d16-fdfb-e9f482221531"
   },
   "outputs": [
    {
     "data": {
      "text/html": [
       "<div>\n",
       "<style scoped>\n",
       "    .dataframe tbody tr th:only-of-type {\n",
       "        vertical-align: middle;\n",
       "    }\n",
       "\n",
       "    .dataframe tbody tr th {\n",
       "        vertical-align: top;\n",
       "    }\n",
       "\n",
       "    .dataframe thead th {\n",
       "        text-align: right;\n",
       "    }\n",
       "</style>\n",
       "<table border=\"1\" class=\"dataframe\">\n",
       "  <thead>\n",
       "    <tr style=\"text-align: right;\">\n",
       "      <th></th>\n",
       "      <th>symboling</th>\n",
       "      <th>normalized-losses</th>\n",
       "      <th>make</th>\n",
       "      <th>fuel-type</th>\n",
       "      <th>aspiration</th>\n",
       "      <th>num-of-doors</th>\n",
       "      <th>body-style</th>\n",
       "      <th>drive-wheels</th>\n",
       "      <th>engine-location</th>\n",
       "      <th>wheel-base</th>\n",
       "      <th>...</th>\n",
       "      <th>engine-size</th>\n",
       "      <th>fuel-system</th>\n",
       "      <th>bore</th>\n",
       "      <th>stroke</th>\n",
       "      <th>compression-ratio</th>\n",
       "      <th>horsepower</th>\n",
       "      <th>peak-rpm</th>\n",
       "      <th>city-mpg</th>\n",
       "      <th>highway-mpg</th>\n",
       "      <th>price</th>\n",
       "    </tr>\n",
       "  </thead>\n",
       "  <tbody>\n",
       "    <tr>\n",
       "      <th>0</th>\n",
       "      <td>3</td>\n",
       "      <td>164</td>\n",
       "      <td>alfa-romero</td>\n",
       "      <td>gas</td>\n",
       "      <td>std</td>\n",
       "      <td>two</td>\n",
       "      <td>convertible</td>\n",
       "      <td>rwd</td>\n",
       "      <td>front</td>\n",
       "      <td>88.6</td>\n",
       "      <td>...</td>\n",
       "      <td>130</td>\n",
       "      <td>mpfi</td>\n",
       "      <td>3.47</td>\n",
       "      <td>2.68</td>\n",
       "      <td>9.0</td>\n",
       "      <td>111</td>\n",
       "      <td>5000.0</td>\n",
       "      <td>21</td>\n",
       "      <td>27</td>\n",
       "      <td>13495</td>\n",
       "    </tr>\n",
       "    <tr>\n",
       "      <th>1</th>\n",
       "      <td>3</td>\n",
       "      <td>164</td>\n",
       "      <td>alfa-romero</td>\n",
       "      <td>gas</td>\n",
       "      <td>std</td>\n",
       "      <td>two</td>\n",
       "      <td>convertible</td>\n",
       "      <td>rwd</td>\n",
       "      <td>front</td>\n",
       "      <td>88.6</td>\n",
       "      <td>...</td>\n",
       "      <td>130</td>\n",
       "      <td>mpfi</td>\n",
       "      <td>3.47</td>\n",
       "      <td>2.68</td>\n",
       "      <td>9.0</td>\n",
       "      <td>111</td>\n",
       "      <td>5000.0</td>\n",
       "      <td>21</td>\n",
       "      <td>27</td>\n",
       "      <td>16500</td>\n",
       "    </tr>\n",
       "    <tr>\n",
       "      <th>2</th>\n",
       "      <td>1</td>\n",
       "      <td>164</td>\n",
       "      <td>alfa-romero</td>\n",
       "      <td>gas</td>\n",
       "      <td>std</td>\n",
       "      <td>two</td>\n",
       "      <td>hatchback</td>\n",
       "      <td>rwd</td>\n",
       "      <td>front</td>\n",
       "      <td>94.5</td>\n",
       "      <td>...</td>\n",
       "      <td>152</td>\n",
       "      <td>mpfi</td>\n",
       "      <td>2.68</td>\n",
       "      <td>3.47</td>\n",
       "      <td>9.0</td>\n",
       "      <td>154</td>\n",
       "      <td>5000.0</td>\n",
       "      <td>19</td>\n",
       "      <td>26</td>\n",
       "      <td>16500</td>\n",
       "    </tr>\n",
       "    <tr>\n",
       "      <th>3</th>\n",
       "      <td>2</td>\n",
       "      <td>164</td>\n",
       "      <td>audi</td>\n",
       "      <td>gas</td>\n",
       "      <td>std</td>\n",
       "      <td>four</td>\n",
       "      <td>sedan</td>\n",
       "      <td>fwd</td>\n",
       "      <td>front</td>\n",
       "      <td>99.8</td>\n",
       "      <td>...</td>\n",
       "      <td>109</td>\n",
       "      <td>mpfi</td>\n",
       "      <td>3.19</td>\n",
       "      <td>3.40</td>\n",
       "      <td>10.0</td>\n",
       "      <td>102</td>\n",
       "      <td>5500.0</td>\n",
       "      <td>24</td>\n",
       "      <td>30</td>\n",
       "      <td>13950</td>\n",
       "    </tr>\n",
       "    <tr>\n",
       "      <th>4</th>\n",
       "      <td>2</td>\n",
       "      <td>164</td>\n",
       "      <td>audi</td>\n",
       "      <td>gas</td>\n",
       "      <td>std</td>\n",
       "      <td>four</td>\n",
       "      <td>sedan</td>\n",
       "      <td>4wd</td>\n",
       "      <td>front</td>\n",
       "      <td>99.4</td>\n",
       "      <td>...</td>\n",
       "      <td>136</td>\n",
       "      <td>mpfi</td>\n",
       "      <td>3.19</td>\n",
       "      <td>3.40</td>\n",
       "      <td>8.0</td>\n",
       "      <td>115</td>\n",
       "      <td>5500.0</td>\n",
       "      <td>18</td>\n",
       "      <td>22</td>\n",
       "      <td>17450</td>\n",
       "    </tr>\n",
       "  </tbody>\n",
       "</table>\n",
       "<p>5 rows × 26 columns</p>\n",
       "</div>"
      ],
      "text/plain": [
       "   symboling  normalized-losses         make fuel-type aspiration  \\\n",
       "0          3                164  alfa-romero       gas        std   \n",
       "1          3                164  alfa-romero       gas        std   \n",
       "2          1                164  alfa-romero       gas        std   \n",
       "3          2                164         audi       gas        std   \n",
       "4          2                164         audi       gas        std   \n",
       "\n",
       "  num-of-doors   body-style drive-wheels engine-location  wheel-base  ...  \\\n",
       "0          two  convertible          rwd           front        88.6  ...   \n",
       "1          two  convertible          rwd           front        88.6  ...   \n",
       "2          two    hatchback          rwd           front        94.5  ...   \n",
       "3         four        sedan          fwd           front        99.8  ...   \n",
       "4         four        sedan          4wd           front        99.4  ...   \n",
       "\n",
       "   engine-size  fuel-system  bore  stroke compression-ratio horsepower  \\\n",
       "0          130         mpfi  3.47    2.68               9.0        111   \n",
       "1          130         mpfi  3.47    2.68               9.0        111   \n",
       "2          152         mpfi  2.68    3.47               9.0        154   \n",
       "3          109         mpfi  3.19    3.40              10.0        102   \n",
       "4          136         mpfi  3.19    3.40               8.0        115   \n",
       "\n",
       "   peak-rpm city-mpg  highway-mpg  price  \n",
       "0    5000.0       21           27  13495  \n",
       "1    5000.0       21           27  16500  \n",
       "2    5000.0       19           26  16500  \n",
       "3    5500.0       24           30  13950  \n",
       "4    5500.0       18           22  17450  \n",
       "\n",
       "[5 rows x 26 columns]"
      ]
     },
     "execution_count": 5,
     "metadata": {},
     "output_type": "execute_result"
    }
   ],
   "source": [
    "import pandas as pd\n",
    "df = pd.read_csv(\"data.csv\")\n",
    "df.head()"
   ]
  },
  {
   "cell_type": "markdown",
   "metadata": {
    "id": "0TPfXBmqX-hZ"
   },
   "source": [
    "# Measures of central tendency"
   ]
  },
  {
   "cell_type": "markdown",
   "metadata": {
    "id": "QVvsxOBEu6i2"
   },
   "source": [
    "Let's start by computing Measure of central tendency"
   ]
  },
  {
   "cell_type": "code",
   "execution_count": 6,
   "metadata": {
    "colab": {
     "base_uri": "https://localhost:8080/"
    },
    "executionInfo": {
     "elapsed": 11,
     "status": "ok",
     "timestamp": 1671487068502,
     "user": {
      "displayName": "Grettel Barceló Alonso",
      "userId": "01577411478517144249"
     },
     "user_tz": 360
    },
    "id": "xermW08E0_hP",
    "outputId": "055f5318-a163-4a60-da79-47c6a3a73859"
   },
   "outputs": [
    {
     "name": "stdout",
     "output_type": "stream",
     "text": [
      "0      48.8\n",
      "1      48.8\n",
      "2      52.4\n",
      "3      54.3\n",
      "4      54.3\n",
      "       ... \n",
      "198    55.5\n",
      "199    55.5\n",
      "200    55.5\n",
      "201    55.5\n",
      "202    55.5\n",
      "Name: height, Length: 203, dtype: float64\n"
     ]
    }
   ],
   "source": [
    "# get column height from df\n",
    "height = df[\"height\"]\n",
    "print(height)"
   ]
  },
  {
   "cell_type": "code",
   "execution_count": 7,
   "metadata": {
    "colab": {
     "base_uri": "https://localhost:8080/"
    },
    "executionInfo": {
     "elapsed": 9,
     "status": "ok",
     "timestamp": 1671487068503,
     "user": {
      "displayName": "Grettel Barceló Alonso",
      "userId": "01577411478517144249"
     },
     "user_tz": 360
    },
    "id": "1SdC7Vre1ysd",
    "outputId": "ec822a25-0604-43a8-e443-98d5c4f7fa1e"
   },
   "outputs": [
    {
     "name": "stdout",
     "output_type": "stream",
     "text": [
      "53.73152709359606 54.1 0    50.8\n",
      "Name: height, dtype: float64\n"
     ]
    }
   ],
   "source": [
    "# calculate mean, median and mode of dat set height\n",
    "mean = height.mean()\n",
    "median = height.median()\n",
    "mode = height.mode()\n",
    "print(mean, median, mode)"
   ]
  },
  {
   "cell_type": "code",
   "execution_count": 8,
   "metadata": {
    "colab": {
     "base_uri": "https://localhost:8080/",
     "height": 382
    },
    "executionInfo": {
     "elapsed": 117,
     "status": "ok",
     "timestamp": 1671487068612,
     "user": {
      "displayName": "Grettel Barceló Alonso",
      "userId": "01577411478517144249"
     },
     "user_tz": 360
    },
    "id": "wIYBqHbkCrty",
    "outputId": "06aaf7ee-4a1f-43bf-abdd-3c05a99003de"
   },
   "outputs": [
    {
     "data": {
      "text/html": [
       "<div>\n",
       "<style scoped>\n",
       "    .dataframe tbody tr th:only-of-type {\n",
       "        vertical-align: middle;\n",
       "    }\n",
       "\n",
       "    .dataframe tbody tr th {\n",
       "        vertical-align: top;\n",
       "    }\n",
       "\n",
       "    .dataframe thead th {\n",
       "        text-align: right;\n",
       "    }\n",
       "</style>\n",
       "<table border=\"1\" class=\"dataframe\">\n",
       "  <thead>\n",
       "    <tr style=\"text-align: right;\">\n",
       "      <th></th>\n",
       "      <th>symboling</th>\n",
       "      <th>normalized-losses</th>\n",
       "      <th>wheel-base</th>\n",
       "      <th>length</th>\n",
       "      <th>width</th>\n",
       "      <th>height</th>\n",
       "      <th>curb-weight</th>\n",
       "      <th>engine-size</th>\n",
       "      <th>bore</th>\n",
       "      <th>stroke</th>\n",
       "      <th>compression-ratio</th>\n",
       "      <th>horsepower</th>\n",
       "      <th>peak-rpm</th>\n",
       "      <th>city-mpg</th>\n",
       "      <th>highway-mpg</th>\n",
       "      <th>price</th>\n",
       "    </tr>\n",
       "  </thead>\n",
       "  <tbody>\n",
       "    <tr>\n",
       "      <th>count</th>\n",
       "      <td>203.000000</td>\n",
       "      <td>203.000000</td>\n",
       "      <td>203.000000</td>\n",
       "      <td>203.00000</td>\n",
       "      <td>203.000000</td>\n",
       "      <td>203.000000</td>\n",
       "      <td>203.000000</td>\n",
       "      <td>203.000000</td>\n",
       "      <td>199.000000</td>\n",
       "      <td>199.000000</td>\n",
       "      <td>203.000000</td>\n",
       "      <td>203.000000</td>\n",
       "      <td>201.000000</td>\n",
       "      <td>203.000000</td>\n",
       "      <td>203.000000</td>\n",
       "      <td>203.000000</td>\n",
       "    </tr>\n",
       "    <tr>\n",
       "      <th>mean</th>\n",
       "      <td>0.837438</td>\n",
       "      <td>130.147783</td>\n",
       "      <td>98.781281</td>\n",
       "      <td>174.11330</td>\n",
       "      <td>65.915271</td>\n",
       "      <td>53.731527</td>\n",
       "      <td>2557.916256</td>\n",
       "      <td>127.073892</td>\n",
       "      <td>3.330955</td>\n",
       "      <td>3.254070</td>\n",
       "      <td>10.093202</td>\n",
       "      <td>104.463054</td>\n",
       "      <td>5125.870647</td>\n",
       "      <td>25.172414</td>\n",
       "      <td>30.699507</td>\n",
       "      <td>13241.911330</td>\n",
       "    </tr>\n",
       "    <tr>\n",
       "      <th>std</th>\n",
       "      <td>1.250021</td>\n",
       "      <td>35.956490</td>\n",
       "      <td>6.040994</td>\n",
       "      <td>12.33909</td>\n",
       "      <td>2.150274</td>\n",
       "      <td>2.442526</td>\n",
       "      <td>522.557049</td>\n",
       "      <td>41.797123</td>\n",
       "      <td>0.274054</td>\n",
       "      <td>0.318023</td>\n",
       "      <td>3.888216</td>\n",
       "      <td>39.612384</td>\n",
       "      <td>479.820136</td>\n",
       "      <td>6.529812</td>\n",
       "      <td>6.874645</td>\n",
       "      <td>7898.957924</td>\n",
       "    </tr>\n",
       "    <tr>\n",
       "      <th>min</th>\n",
       "      <td>-2.000000</td>\n",
       "      <td>65.000000</td>\n",
       "      <td>86.600000</td>\n",
       "      <td>141.10000</td>\n",
       "      <td>60.300000</td>\n",
       "      <td>47.800000</td>\n",
       "      <td>1488.000000</td>\n",
       "      <td>61.000000</td>\n",
       "      <td>2.540000</td>\n",
       "      <td>2.070000</td>\n",
       "      <td>7.000000</td>\n",
       "      <td>48.000000</td>\n",
       "      <td>4150.000000</td>\n",
       "      <td>13.000000</td>\n",
       "      <td>16.000000</td>\n",
       "      <td>5118.000000</td>\n",
       "    </tr>\n",
       "    <tr>\n",
       "      <th>25%</th>\n",
       "      <td>0.000000</td>\n",
       "      <td>101.000000</td>\n",
       "      <td>94.500000</td>\n",
       "      <td>166.55000</td>\n",
       "      <td>64.100000</td>\n",
       "      <td>52.000000</td>\n",
       "      <td>2145.000000</td>\n",
       "      <td>97.000000</td>\n",
       "      <td>3.150000</td>\n",
       "      <td>3.110000</td>\n",
       "      <td>8.600000</td>\n",
       "      <td>70.000000</td>\n",
       "      <td>4800.000000</td>\n",
       "      <td>19.000000</td>\n",
       "      <td>25.000000</td>\n",
       "      <td>7781.500000</td>\n",
       "    </tr>\n",
       "    <tr>\n",
       "      <th>50%</th>\n",
       "      <td>1.000000</td>\n",
       "      <td>128.000000</td>\n",
       "      <td>97.000000</td>\n",
       "      <td>173.20000</td>\n",
       "      <td>65.500000</td>\n",
       "      <td>54.100000</td>\n",
       "      <td>2414.000000</td>\n",
       "      <td>120.000000</td>\n",
       "      <td>3.310000</td>\n",
       "      <td>3.290000</td>\n",
       "      <td>9.000000</td>\n",
       "      <td>95.000000</td>\n",
       "      <td>5200.000000</td>\n",
       "      <td>24.000000</td>\n",
       "      <td>30.000000</td>\n",
       "      <td>10595.000000</td>\n",
       "    </tr>\n",
       "    <tr>\n",
       "      <th>75%</th>\n",
       "      <td>2.000000</td>\n",
       "      <td>164.000000</td>\n",
       "      <td>102.400000</td>\n",
       "      <td>183.30000</td>\n",
       "      <td>66.900000</td>\n",
       "      <td>55.500000</td>\n",
       "      <td>2943.500000</td>\n",
       "      <td>143.000000</td>\n",
       "      <td>3.590000</td>\n",
       "      <td>3.410000</td>\n",
       "      <td>9.400000</td>\n",
       "      <td>116.000000</td>\n",
       "      <td>5500.000000</td>\n",
       "      <td>30.000000</td>\n",
       "      <td>34.000000</td>\n",
       "      <td>16500.000000</td>\n",
       "    </tr>\n",
       "    <tr>\n",
       "      <th>max</th>\n",
       "      <td>3.000000</td>\n",
       "      <td>256.000000</td>\n",
       "      <td>120.900000</td>\n",
       "      <td>208.10000</td>\n",
       "      <td>72.300000</td>\n",
       "      <td>59.800000</td>\n",
       "      <td>4066.000000</td>\n",
       "      <td>326.000000</td>\n",
       "      <td>3.940000</td>\n",
       "      <td>4.170000</td>\n",
       "      <td>23.000000</td>\n",
       "      <td>288.000000</td>\n",
       "      <td>6600.000000</td>\n",
       "      <td>49.000000</td>\n",
       "      <td>54.000000</td>\n",
       "      <td>45400.000000</td>\n",
       "    </tr>\n",
       "  </tbody>\n",
       "</table>\n",
       "</div>"
      ],
      "text/plain": [
       "        symboling  normalized-losses  wheel-base     length       width  \\\n",
       "count  203.000000         203.000000  203.000000  203.00000  203.000000   \n",
       "mean     0.837438         130.147783   98.781281  174.11330   65.915271   \n",
       "std      1.250021          35.956490    6.040994   12.33909    2.150274   \n",
       "min     -2.000000          65.000000   86.600000  141.10000   60.300000   \n",
       "25%      0.000000         101.000000   94.500000  166.55000   64.100000   \n",
       "50%      1.000000         128.000000   97.000000  173.20000   65.500000   \n",
       "75%      2.000000         164.000000  102.400000  183.30000   66.900000   \n",
       "max      3.000000         256.000000  120.900000  208.10000   72.300000   \n",
       "\n",
       "           height  curb-weight  engine-size        bore      stroke  \\\n",
       "count  203.000000   203.000000   203.000000  199.000000  199.000000   \n",
       "mean    53.731527  2557.916256   127.073892    3.330955    3.254070   \n",
       "std      2.442526   522.557049    41.797123    0.274054    0.318023   \n",
       "min     47.800000  1488.000000    61.000000    2.540000    2.070000   \n",
       "25%     52.000000  2145.000000    97.000000    3.150000    3.110000   \n",
       "50%     54.100000  2414.000000   120.000000    3.310000    3.290000   \n",
       "75%     55.500000  2943.500000   143.000000    3.590000    3.410000   \n",
       "max     59.800000  4066.000000   326.000000    3.940000    4.170000   \n",
       "\n",
       "       compression-ratio  horsepower     peak-rpm    city-mpg  highway-mpg  \\\n",
       "count         203.000000  203.000000   201.000000  203.000000   203.000000   \n",
       "mean           10.093202  104.463054  5125.870647   25.172414    30.699507   \n",
       "std             3.888216   39.612384   479.820136    6.529812     6.874645   \n",
       "min             7.000000   48.000000  4150.000000   13.000000    16.000000   \n",
       "25%             8.600000   70.000000  4800.000000   19.000000    25.000000   \n",
       "50%             9.000000   95.000000  5200.000000   24.000000    30.000000   \n",
       "75%             9.400000  116.000000  5500.000000   30.000000    34.000000   \n",
       "max            23.000000  288.000000  6600.000000   49.000000    54.000000   \n",
       "\n",
       "              price  \n",
       "count    203.000000  \n",
       "mean   13241.911330  \n",
       "std     7898.957924  \n",
       "min     5118.000000  \n",
       "25%     7781.500000  \n",
       "50%    10595.000000  \n",
       "75%    16500.000000  \n",
       "max    45400.000000  "
      ]
     },
     "execution_count": 8,
     "metadata": {},
     "output_type": "execute_result"
    }
   ],
   "source": [
    "df.describe()"
   ]
  },
  {
   "cell_type": "markdown",
   "metadata": {
    "id": "cydMjbLD_g_D"
   },
   "source": [
    "For categorical variables which has discrite values we can summarize the categorical data is by using the function value_counts(). "
   ]
  },
  {
   "cell_type": "code",
   "execution_count": 9,
   "metadata": {
    "colab": {
     "base_uri": "https://localhost:8080/",
     "height": 594
    },
    "executionInfo": {
     "elapsed": 506,
     "status": "ok",
     "timestamp": 1671487069117,
     "user": {
      "displayName": "Grettel Barceló Alonso",
      "userId": "01577411478517144249"
     },
     "user_tz": 360
    },
    "id": "l2GMtsoTOmzL",
    "outputId": "843ab598-0a12-4d15-85ab-6e577aac5987"
   },
   "outputs": [
    {
     "data": {
      "image/png": "[encoded data removed]",
      "text/plain": [
       "<Figure size 1400x800 with 1 Axes>"
      ]
     },
     "metadata": {},
     "output_type": "display_data"
    }
   ],
   "source": [
    "import matplotlib.pyplot as plt\n",
    "\n",
    "df.make.value_counts().nlargest(30).plot(kind='bar', figsize=(14,8))\n",
    "plt.title(\"Number of cars by make\")\n",
    "plt.ylabel('Number of cars')\n",
    "plt.xlabel('Make of the cars');"
   ]
  },
  {
   "cell_type": "markdown",
   "metadata": {
    "id": "a_MdTpnB8Tti"
   },
   "source": [
    "# Measures of dispersion"
   ]
  },
  {
   "cell_type": "code",
   "execution_count": 10,
   "metadata": {
    "colab": {
     "base_uri": "https://localhost:8080/"
    },
    "executionInfo": {
     "elapsed": 4,
     "status": "ok",
     "timestamp": 1671487069117,
     "user": {
      "displayName": "Grettel Barceló Alonso",
      "userId": "01577411478517144249"
     },
     "user_tz": 360
    },
    "id": "bvVTTyil5tKB",
    "outputId": "d28525c0-00ce-4abd-d0a3-b19c5c3a93cc"
   },
   "outputs": [
    {
     "name": "stdout",
     "output_type": "stream",
     "text": [
      "symboling               1.250021\n",
      "normalized-losses      35.956490\n",
      "wheel-base              6.040994\n",
      "length                 12.339090\n",
      "width                   2.150274\n",
      "height                  2.442526\n",
      "curb-weight           522.557049\n",
      "engine-size            41.797123\n",
      "bore                    0.274054\n",
      "stroke                  0.318023\n",
      "compression-ratio       3.888216\n",
      "horsepower             39.612384\n",
      "peak-rpm              479.820136\n",
      "city-mpg                6.529812\n",
      "highway-mpg             6.874645\n",
      "price                7898.957924\n",
      "dtype: float64\n"
     ]
    }
   ],
   "source": [
    "# standard deviation of data set using std() function\n",
    "std_dev = df.std(numeric_only=True)\n",
    "print(std_dev)"
   ]
  },
  {
   "cell_type": "code",
   "execution_count": 12,
   "metadata": {
    "colab": {
     "base_uri": "https://localhost:8080/"
    },
    "executionInfo": {
     "elapsed": 4,
     "status": "ok",
     "timestamp": 1671487069117,
     "user": {
      "displayName": "Grettel Barceló Alonso",
      "userId": "01577411478517144249"
     },
     "user_tz": 360
    },
    "id": "NBjXsAyjX2gU",
    "outputId": "25acc7f1-7251-408f-ac01-2e2df8c0519e"
   },
   "outputs": [
    {
     "name": "stdout",
     "output_type": "stream",
     "text": [
      "2.4425257040318664\n",
      "2.4425257040318664\n"
     ]
    }
   ],
   "source": [
    "# standard deviation of the specific column\n",
    "sv_height = df.loc[:,\"height\"].std()\n",
    "print(sv_height)\n",
    "\n",
    "# or what is the same\n",
    "sv_height = df[\"height\"].std()\n",
    "print(sv_height)"
   ]
  },
  {
   "cell_type": "code",
   "execution_count": 14,
   "metadata": {
    "colab": {
     "base_uri": "https://localhost:8080/"
    },
    "executionInfo": {
     "elapsed": 3,
     "status": "ok",
     "timestamp": 1671487069118,
     "user": {
      "displayName": "Grettel Barceló Alonso",
      "userId": "01577411478517144249"
     },
     "user_tz": 360
    },
    "id": "wyCfxqeBK_Hl",
    "outputId": "cc5d4525-c457-4344-84ba-67dc59c1e896"
   },
   "outputs": [
    {
     "name": "stdout",
     "output_type": "stream",
     "text": [
      "symboling            1.562552e+00\n",
      "normalized-losses    1.292869e+03\n",
      "wheel-base           3.649361e+01\n",
      "length               1.522531e+02\n",
      "width                4.623677e+00\n",
      "height               5.965932e+00\n",
      "curb-weight          2.730659e+05\n",
      "engine-size          1.746999e+03\n",
      "bore                 7.510565e-02\n",
      "stroke               1.011384e-01\n",
      "compression-ratio    1.511822e+01\n",
      "horsepower           1.569141e+03\n",
      "peak-rpm             2.302274e+05\n",
      "city-mpg             4.263844e+01\n",
      "highway-mpg          4.726074e+01\n",
      "price                6.239354e+07\n",
      "dtype: float64\n"
     ]
    }
   ],
   "source": [
    "# variance of data set using var() function\n",
    "variance = df.var(numeric_only=True)\n",
    "print(variance)"
   ]
  },
  {
   "cell_type": "code",
   "execution_count": null,
   "metadata": {
    "colab": {
     "base_uri": "https://localhost:8080/"
    },
    "executionInfo": {
     "elapsed": 3,
     "status": "ok",
     "timestamp": 1671487069118,
     "user": {
      "displayName": "Grettel Barceló Alonso",
      "userId": "01577411478517144249"
     },
     "user_tz": 360
    },
    "id": "WldUDZbOYEAd",
    "outputId": "fa538c03-e2cc-4f41-a9ce-fb4e3464681d"
   },
   "outputs": [
    {
     "name": "stdout",
     "output_type": "stream",
     "text": [
      "5.965931814856364\n"
     ]
    }
   ],
   "source": [
    "# variance of the specific column\n",
    "var_height = df[\"height\"].var()\n",
    "print(var_height)"
   ]
  },
  {
   "cell_type": "code",
   "execution_count": null,
   "metadata": {
    "colab": {
     "base_uri": "https://localhost:8080/"
    },
    "executionInfo": {
     "elapsed": 132,
     "status": "ok",
     "timestamp": 1671487069248,
     "user": {
      "displayName": "Grettel Barceló Alonso",
      "userId": "01577411478517144249"
     },
     "user_tz": 360
    },
    "id": "n6t8NJKCJEWL",
    "outputId": "72ca9c84-169c-4e7c-cc7b-35b32d875a78"
   },
   "outputs": [
    {
     "data": {
      "text/plain": [
       "symboling            0.204275\n",
       "normalized-losses    0.209007\n",
       "wheel-base           1.041170\n",
       "length               0.154086\n",
       "width                0.900685\n",
       "height               0.064134\n",
       "curb-weight          0.668942\n",
       "engine-size          1.934993\n",
       "bore                 0.013419\n",
       "stroke              -0.669515\n",
       "compression-ratio    2.682640\n",
       "horsepower           1.391224\n",
       "peak-rpm             0.073094\n",
       "city-mpg             0.673533\n",
       "highway-mpg          0.549104\n",
       "price                1.812335\n",
       "dtype: float64"
      ]
     },
     "execution_count": 158,
     "metadata": {},
     "output_type": "execute_result"
    }
   ],
   "source": [
    "# skewness of data set using skew() function\n",
    "df.skew(numeric_only=True)"
   ]
  },
  {
   "cell_type": "code",
   "execution_count": null,
   "metadata": {
    "colab": {
     "base_uri": "https://localhost:8080/"
    },
    "executionInfo": {
     "elapsed": 4,
     "status": "ok",
     "timestamp": 1671487069248,
     "user": {
      "displayName": "Grettel Barceló Alonso",
      "userId": "01577411478517144249"
     },
     "user_tz": 360
    },
    "id": "lVUxKXAyZRc3",
    "outputId": "79fd06cc-abcb-40d8-b5fe-597fe0731dc5"
   },
   "outputs": [
    {
     "data": {
      "text/plain": [
       "0.06413448813322854"
      ]
     },
     "execution_count": 159,
     "metadata": {},
     "output_type": "execute_result"
    }
   ],
   "source": [
    "# skewness of the specific column\n",
    "df[\"height\"].skew()"
   ]
  },
  {
   "cell_type": "code",
   "execution_count": null,
   "metadata": {
    "colab": {
     "base_uri": "https://localhost:8080/"
    },
    "executionInfo": {
     "elapsed": 3,
     "status": "ok",
     "timestamp": 1671487069248,
     "user": {
      "displayName": "Grettel Barceló Alonso",
      "userId": "01577411478517144249"
     },
     "user_tz": 360
    },
    "id": "m2GuUXzUsNFX",
    "outputId": "aa582f21-6f15-4023-8260-dd5e9441482e"
   },
   "outputs": [
    {
     "name": "stdout",
     "output_type": "stream",
     "text": [
      "symboling           -0.691709\n",
      "normalized-losses   -0.471235\n",
      "wheel-base           0.986065\n",
      "length              -0.075680\n",
      "width                0.687375\n",
      "height              -0.429298\n",
      "curb-weight         -0.069648\n",
      "engine-size          5.233661\n",
      "bore                -0.830965\n",
      "stroke               2.030592\n",
      "compression-ratio    5.643878\n",
      "horsepower           2.646625\n",
      "peak-rpm             0.068155\n",
      "city-mpg             0.624470\n",
      "highway-mpg          0.479323\n",
      "price                3.287412\n",
      "dtype: float64\n"
     ]
    }
   ],
   "source": [
    "# kurtosis of data in data using kurt() function\n",
    "kurtosis = df.kurt(numeric_only=True)\n",
    "print(kurtosis)"
   ]
  },
  {
   "cell_type": "code",
   "execution_count": null,
   "metadata": {
    "colab": {
     "base_uri": "https://localhost:8080/"
    },
    "executionInfo": {
     "elapsed": 2,
     "status": "ok",
     "timestamp": 1671487069248,
     "user": {
      "displayName": "Grettel Barceló Alonso",
      "userId": "01577411478517144249"
     },
     "user_tz": 360
    },
    "id": "kYB6xkEGPXrF",
    "outputId": "59a47352-b6c4-4aea-a275-1734df26d987"
   },
   "outputs": [
    {
     "name": "stdout",
     "output_type": "stream",
     "text": [
      "-0.4292976016374439\n"
     ]
    }
   ],
   "source": [
    "# kurtosis of the specific column\n",
    "sk_height = df[\"height\"].kurt()\n",
    "print(sk_height)"
   ]
  },
  {
   "cell_type": "code",
   "execution_count": null,
   "metadata": {
    "colab": {
     "base_uri": "https://localhost:8080/"
    },
    "executionInfo": {
     "elapsed": 2,
     "status": "ok",
     "timestamp": 1671487069248,
     "user": {
      "displayName": "Grettel Barceló Alonso",
      "userId": "01577411478517144249"
     },
     "user_tz": 360
    },
    "id": "h1_yVU9kEXoR",
    "outputId": "e7d4cec1-8245-4810-d464-304c8b2c0896"
   },
   "outputs": [
    {
     "name": "stdout",
     "output_type": "stream",
     "text": [
      "54.1\n"
     ]
    }
   ],
   "source": [
    "import numpy as np\n",
    "\n",
    "# calculating 50th percentile of heights in dataset\n",
    "height = df[\"height\"]\n",
    "percentile = np.percentile(height, 50)\n",
    "print(percentile)"
   ]
  },
  {
   "cell_type": "markdown",
   "metadata": {
    "id": "ENzTKt-CJMGS"
   },
   "source": [
    "**Quartiles** \n",
    "\n",
    "A quartile, splits the data into four equal chunks of data, split into 25% values. The quartile, therefore, is really splitting the data into percentiles of 0%, 25%, 50%, and 75%.\n",
    "\n",
    "First quartile = 25th percentile\n",
    "Second quartile = 50th percentile (Median)\n",
    "Third quartile = 75th percentile\n",
    "\n",
    "\n",
    "\n"
   ]
  },
  {
   "cell_type": "code",
   "execution_count": null,
   "metadata": {
    "colab": {
     "base_uri": "https://localhost:8080/"
    },
    "executionInfo": {
     "elapsed": 123,
     "status": "ok",
     "timestamp": 1671487069370,
     "user": {
      "displayName": "Grettel Barceló Alonso",
      "userId": "01577411478517144249"
     },
     "user_tz": 360
    },
    "id": "FmgPL4X7TnN5",
    "outputId": "d659db70-b297-4229-9585-ab7ca1877141"
   },
   "outputs": [
    {
     "data": {
      "text/plain": [
       "54.1"
      ]
     },
     "execution_count": 163,
     "metadata": {},
     "output_type": "execute_result"
    }
   ],
   "source": [
    "# You can also use the quantiles function in pandas to calculate the percentiles\n",
    "df[\"height\"].quantile(0.5)"
   ]
  },
  {
   "cell_type": "markdown",
   "metadata": {
    "id": "pW8XsZgLTvLQ"
   },
   "source": [
    "Based on the quartile, there is a another measure called inter-quartile range that also measures the variability in the dataset. It is defined as:\n",
    "\n",
    "IQR = Q3 - Q1\n",
    "\n",
    "IQR is not affected by the presence of outliers. "
   ]
  },
  {
   "cell_type": "code",
   "execution_count": null,
   "metadata": {
    "colab": {
     "base_uri": "https://localhost:8080/"
    },
    "executionInfo": {
     "elapsed": 3,
     "status": "ok",
     "timestamp": 1671487069370,
     "user": {
      "displayName": "Grettel Barceló Alonso",
      "userId": "01577411478517144249"
     },
     "user_tz": 360
    },
    "id": "A2qJhFB8aKyd",
    "outputId": "1feae017-603a-4092-abcb-c3b4fc60de7f"
   },
   "outputs": [
    {
     "data": {
      "text/plain": [
       "8718.5"
      ]
     },
     "execution_count": 164,
     "metadata": {},
     "output_type": "execute_result"
    }
   ],
   "source": [
    "price = df.price.sort_values()\n",
    "Q1 = np.percentile(price, 25)\n",
    "Q2 = np.percentile(price, 50)\n",
    "Q3 = np.percentile(price, 75)\n",
    "\n",
    "IQR = Q3 - Q1\n",
    "IQR"
   ]
  },
  {
   "cell_type": "code",
   "execution_count": null,
   "metadata": {
    "colab": {
     "base_uri": "https://localhost:8080/"
    },
    "executionInfo": {
     "elapsed": 2,
     "status": "ok",
     "timestamp": 1671487069370,
     "user": {
      "displayName": "Grettel Barceló Alonso",
      "userId": "01577411478517144249"
     },
     "user_tz": 360
    },
    "id": "nC4lYl_YRdfX",
    "outputId": "eba4cc32-9b0c-4345-8376-0ab7f55e41cc"
   },
   "outputs": [
    {
     "data": {
      "text/plain": [
       "8718.5"
      ]
     },
     "execution_count": 165,
     "metadata": {},
     "output_type": "execute_result"
    }
   ],
   "source": [
    "# With pandas code\n",
    "IQR = df[\"price\"].quantile(0.75) - df[\"price\"].quantile(0.25)\n",
    "IQR"
   ]
  },
  {
   "cell_type": "code",
   "execution_count": null,
   "metadata": {
    "executionInfo": {
     "elapsed": 2,
     "status": "ok",
     "timestamp": 1671487069370,
     "user": {
      "displayName": "Grettel Barceló Alonso",
      "userId": "01577411478517144249"
     },
     "user_tz": 360
    },
    "id": "nsNBWFzjZzOO"
   },
   "outputs": [],
   "source": [
    "scorePhysics = [34,35,35,35,35,35,36,36,37,37,37,37,37,38,38,38,39,39,\n",
    "              40,40,40,40,40,41,42,42,42,42,42,42,42,42,43,43,43,43,44,44,44,44,44,44,45,\n",
    "              45,45,45,45,46,46,46,46,46,46,47,47,47,47,47,47,48,48,48,48,48,49,49,49,49,\n",
    "              49,49,49,49,52,52,52,53,53,53,53,53,53,53,53,54,54,\n",
    "              54,54,54,54,54,55,55,55,55,55,56,56,56,56,56,56,57,57,57,58,58,59,59,59,59,\n",
    "              59,59,59,60,60,60,60,60,60,60,61,61,61,61,61,62,62,63,63,63,63,63,64,64,64,\n",
    "              64,64,64,64,65,65,65,66,66,67,67,68,68,68,68,68,68,68,69,70,71,71,71,72,72,\n",
    "              72,72,73,73,74,75,76,76,76,76,77,77,78,79,79,80,80,81,84,84,85,85,87,87,88]\n",
    "            \n",
    "scoreLiterature = [49,49,50,51,51,52,52,52,52,53,54,54,55,55,55,55,56,\n",
    "                 56,56,56,56,57,57,57,58,58,58,59,59,59,60,60,60,60,60,60,60,61,61,61,62,\n",
    "                 62,62,62,63,63,67,67,68,68,68,68,68,68,69,69,69,69,69,69,\n",
    "                 70,71,71,71,71,72,72,72,72,73,73,73,73,74,74,74,74,74,75,75,75,76,76,76,\n",
    "                 77,77,78,78,78,79,79,79,80,80,82,83,85,88]\n",
    "                 \n",
    "scoreComputer = [56,57,58,58,58,60,60,61,61,61,61,61,61,62,62,62,62,\n",
    "                63,63,63,63,63,64,64,64,64,65,65,66,66,67,67,67,67,67,67,67,68,68,68,69,\n",
    "                69,70,70,70,71,71,71,73,73,74,75,75,76,76,77,77,77,78,78,81,82,\n",
    "                84,89,90]\n",
    "\n",
    "scores=np.array([scorePhysics, scoreLiterature, scoreComputer], dtype=object)"
   ]
  },
  {
   "cell_type": "code",
   "execution_count": null,
   "metadata": {
    "colab": {
     "base_uri": "https://localhost:8080/",
     "height": 516
    },
    "executionInfo": {
     "elapsed": 240,
     "status": "ok",
     "timestamp": 1671487069608,
     "user": {
      "displayName": "Grettel Barceló Alonso",
      "userId": "01577411478517144249"
     },
     "user_tz": 360
    },
    "id": "raNhXPgbU1Dd",
    "outputId": "9072f00e-9577-49b2-ad75-28c2e54b967f"
   },
   "outputs": [
    {
     "data": {
      "text/plain": [
       "{'whiskers': [<matplotlib.lines.Line2D at 0x7f54d764fc10>,\n",
       "  <matplotlib.lines.Line2D at 0x7f54d764ff70>],\n",
       " 'caps': [<matplotlib.lines.Line2D at 0x7f54d765c310>,\n",
       "  <matplotlib.lines.Line2D at 0x7f54d765c6a0>],\n",
       " 'boxes': [<matplotlib.lines.Line2D at 0x7f54d764f8b0>],\n",
       " 'medians': [<matplotlib.lines.Line2D at 0x7f54d765c9d0>],\n",
       " 'fliers': [<matplotlib.lines.Line2D at 0x7f54d7669070>],\n",
       " 'means': [<matplotlib.lines.Line2D at 0x7f54d765ccd0>]}"
      ]
     },
     "execution_count": 167,
     "metadata": {},
     "output_type": "execute_result"
    },
    {
     "data": {
      "image/png": "[encoded data removed]",
      "text/plain": [
       "<Figure size 720x432 with 1 Axes>"
      ]
     },
     "metadata": {},
     "output_type": "display_data"
    }
   ],
   "source": [
    "plt.boxplot(scoreComputer, showmeans=True, whis = 99)"
   ]
  },
  {
   "cell_type": "code",
   "execution_count": null,
   "metadata": {
    "colab": {
     "base_uri": "https://localhost:8080/",
     "height": 466
    },
    "executionInfo": {
     "elapsed": 374,
     "status": "ok",
     "timestamp": 1671487069979,
     "user": {
      "displayName": "Grettel Barceló Alonso",
      "userId": "01577411478517144249"
     },
     "user_tz": 360
    },
    "id": "98qewxJdO91s",
    "outputId": "9f044940-cda3-45d6-faff-fce258052d14"
   },
   "outputs": [
    {
     "data": {
      "text/plain": [
       "([<matplotlib.axis.XTick at 0x7f54d7616bb0>,\n",
       "  <matplotlib.axis.XTick at 0x7f54d7616b80>,\n",
       "  <matplotlib.axis.XTick at 0x7f54d76410a0>],\n",
       " [Text(0, 0, 'Physics'), Text(0, 0, 'Literature'), Text(0, 0, 'Computer')])"
      ]
     },
     "execution_count": 168,
     "metadata": {},
     "output_type": "execute_result"
    },
    {
     "data": {
      "image/png": "[encoded data removed]",
      "text/plain": [
       "<Figure size 720x432 with 1 Axes>"
      ]
     },
     "metadata": {},
     "output_type": "display_data"
    }
   ],
   "source": [
    "box = plt.boxplot(scores, showmeans=True, whis=99)\n",
    "\n",
    "plt.setp(box['boxes'][0], color='blue')\n",
    "plt.setp(box['caps'][0], color='blue')\n",
    "plt.setp(box['caps'][1], color='blue')\n",
    "plt.setp(box['whiskers'][0], color='blue')\n",
    "plt.setp(box['whiskers'][1], color='blue')\n",
    "\n",
    "plt.setp(box['boxes'][1], color='red')\n",
    "plt.setp(box['caps'][2], color='red')\n",
    "plt.setp(box['caps'][3], color='red')\n",
    "plt.setp(box['whiskers'][2], color='red')\n",
    "plt.setp(box['whiskers'][3], color='red')\n",
    "\n",
    "plt.ylim([20, 95]) \n",
    "plt.grid(True, axis='y')  \n",
    "plt.title('Distribution of the scores in three subjects', fontsize=18) \n",
    "plt.ylabel('Total score in that subject')            \n",
    "plt.xticks([1,2,3], ['Physics','Literature','Computer'])"
   ]
  }
 ],
 "metadata": {
  "colab": {
   "provenance": []
  },
  "kernelspec": {
   "display_name": ".venv",
   "language": "python",
   "name": "python3"
  },
  "language_info": {
   "codemirror_mode": {
    "name": "ipython",
    "version": 3
   },
   "file_extension": ".py",
   "mimetype": "text/x-python",
   "name": "python",
   "nbconvert_exporter": "python",
   "pygments_lexer": "ipython3",
   "version": "3.11.9"
  }
 },
 "nbformat": 4,
 "nbformat_minor": 0
}
