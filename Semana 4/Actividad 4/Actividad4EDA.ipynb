{
  "cells": [
    {
      "cell_type": "markdown",
      "metadata": {
        "id": "d-KgdgaNrtF6"
      },
      "source": [
        "**MAESTRÍA EN INTELIGENCIA ARTIFICIAL APLICADA**\n",
        "\n",
        "**Curso: TC4029 - Ciencia y analítica de datos**\n",
        "\n",
        "Tecnológico de Monterrey\n",
        "\n",
        "Prof Grettel Barceló Alonso\n",
        "\n",
        "**Semana 4**\n",
        "Exploración de datos\n",
        "\n",
        "---"
      ]
    },
    {
      "cell_type": "markdown",
      "metadata": {
        "id": "ri1bEjiZr5xo"
      },
      "source": [
        "*   NOMBRE: ERICK ALAN CUELLAR QUINTANILLA\n",
        "*   MATRÍCULA: A01383577"
      ]
    },
    {
      "cell_type": "code",
      "execution_count": 66,
      "metadata": {
        "colab": {
          "base_uri": "https://localhost:8080/"
        },
        "id": "TcdR-TK0QMY1",
        "outputId": "f57f7403-b5db-4cd0-e1c7-8991813ef6dd"
      },
      "outputs": [],
      "source": [
        "# from google.colab import drive\n",
        "# drive.mount('/content/drive')"
      ]
    },
    {
      "cell_type": "code",
      "execution_count": 67,
      "metadata": {
        "id": "zW0TskfKQOin"
      },
      "outputs": [],
      "source": [
        "import os\n",
        "DIR = \"C:\\Coding\\Masters\\DataScience\\Semana 4\\Actividad 4\"\n",
        "os.chdir(DIR)"
      ]
    },
    {
      "cell_type": "code",
      "execution_count": 68,
      "metadata": {
        "execution": {
          "iopub.execute_input": "2022-06-19T15:21:55.733067Z",
          "iopub.status.busy": "2022-06-19T15:21:55.732322Z",
          "iopub.status.idle": "2022-06-19T15:21:59.957026Z",
          "shell.execute_reply": "2022-06-19T15:21:59.955946Z",
          "shell.execute_reply.started": "2022-06-19T15:21:55.732954Z"
        },
        "id": "xDh93eMJPtkK",
        "trusted": true
      },
      "outputs": [],
      "source": [
        "import pandas as pd\n",
        "import numpy as np\n",
        "import matplotlib.pyplot as plt\n",
        "import seaborn as sns"
      ]
    },
    {
      "cell_type": "code",
      "execution_count": 69,
      "metadata": {
        "colab": {
          "base_uri": "https://localhost:8080/",
          "height": 488
        },
        "execution": {
          "iopub.execute_input": "2022-06-19T15:22:02.00629Z",
          "iopub.status.busy": "2022-06-19T15:22:02.005801Z",
          "iopub.status.idle": "2022-06-19T15:22:02.152264Z",
          "shell.execute_reply": "2022-06-19T15:22:02.151081Z",
          "shell.execute_reply.started": "2022-06-19T15:22:02.006254Z"
        },
        "id": "WqK8jBGIPtkM",
        "outputId": "98e37277-520f-42f6-ab32-88a261435580",
        "trusted": true
      },
      "outputs": [
        {
          "data": {
            "text/html": [
              "<div>\n",
              "<style scoped>\n",
              "    .dataframe tbody tr th:only-of-type {\n",
              "        vertical-align: middle;\n",
              "    }\n",
              "\n",
              "    .dataframe tbody tr th {\n",
              "        vertical-align: top;\n",
              "    }\n",
              "\n",
              "    .dataframe thead th {\n",
              "        text-align: right;\n",
              "    }\n",
              "</style>\n",
              "<table border=\"1\" class=\"dataframe\">\n",
              "  <thead>\n",
              "    <tr style=\"text-align: right;\">\n",
              "      <th></th>\n",
              "      <th>person_age</th>\n",
              "      <th>person_income</th>\n",
              "      <th>person_home_ownership</th>\n",
              "      <th>person_emp_length</th>\n",
              "      <th>loan_intent</th>\n",
              "      <th>loan_grade</th>\n",
              "      <th>loan_amnt</th>\n",
              "      <th>loan_int_rate</th>\n",
              "      <th>loan_status</th>\n",
              "      <th>loan_percent_income</th>\n",
              "      <th>cb_person_default_on_file</th>\n",
              "      <th>cb_person_cred_hist_length</th>\n",
              "    </tr>\n",
              "  </thead>\n",
              "  <tbody>\n",
              "    <tr>\n",
              "      <th>0</th>\n",
              "      <td>22</td>\n",
              "      <td>59000</td>\n",
              "      <td>RENT</td>\n",
              "      <td>123.0</td>\n",
              "      <td>PERSONAL</td>\n",
              "      <td>D</td>\n",
              "      <td>35000</td>\n",
              "      <td>16.02</td>\n",
              "      <td>1</td>\n",
              "      <td>0.59</td>\n",
              "      <td>Y</td>\n",
              "      <td>3</td>\n",
              "    </tr>\n",
              "    <tr>\n",
              "      <th>1</th>\n",
              "      <td>21</td>\n",
              "      <td>9600</td>\n",
              "      <td>OWN</td>\n",
              "      <td>5.0</td>\n",
              "      <td>EDUCATION</td>\n",
              "      <td>B</td>\n",
              "      <td>1000</td>\n",
              "      <td>11.14</td>\n",
              "      <td>0</td>\n",
              "      <td>0.10</td>\n",
              "      <td>N</td>\n",
              "      <td>2</td>\n",
              "    </tr>\n",
              "    <tr>\n",
              "      <th>2</th>\n",
              "      <td>25</td>\n",
              "      <td>9600</td>\n",
              "      <td>MORTGAGE</td>\n",
              "      <td>1.0</td>\n",
              "      <td>MEDICAL</td>\n",
              "      <td>C</td>\n",
              "      <td>5500</td>\n",
              "      <td>12.87</td>\n",
              "      <td>1</td>\n",
              "      <td>0.57</td>\n",
              "      <td>N</td>\n",
              "      <td>3</td>\n",
              "    </tr>\n",
              "    <tr>\n",
              "      <th>3</th>\n",
              "      <td>23</td>\n",
              "      <td>65500</td>\n",
              "      <td>RENT</td>\n",
              "      <td>4.0</td>\n",
              "      <td>MEDICAL</td>\n",
              "      <td>C</td>\n",
              "      <td>35000</td>\n",
              "      <td>15.23</td>\n",
              "      <td>1</td>\n",
              "      <td>0.53</td>\n",
              "      <td>N</td>\n",
              "      <td>2</td>\n",
              "    </tr>\n",
              "    <tr>\n",
              "      <th>4</th>\n",
              "      <td>24</td>\n",
              "      <td>54400</td>\n",
              "      <td>RENT</td>\n",
              "      <td>8.0</td>\n",
              "      <td>MEDICAL</td>\n",
              "      <td>C</td>\n",
              "      <td>35000</td>\n",
              "      <td>14.27</td>\n",
              "      <td>1</td>\n",
              "      <td>0.55</td>\n",
              "      <td>Y</td>\n",
              "      <td>4</td>\n",
              "    </tr>\n",
              "    <tr>\n",
              "      <th>...</th>\n",
              "      <td>...</td>\n",
              "      <td>...</td>\n",
              "      <td>...</td>\n",
              "      <td>...</td>\n",
              "      <td>...</td>\n",
              "      <td>...</td>\n",
              "      <td>...</td>\n",
              "      <td>...</td>\n",
              "      <td>...</td>\n",
              "      <td>...</td>\n",
              "      <td>...</td>\n",
              "      <td>...</td>\n",
              "    </tr>\n",
              "    <tr>\n",
              "      <th>32576</th>\n",
              "      <td>57</td>\n",
              "      <td>53000</td>\n",
              "      <td>MORTGAGE</td>\n",
              "      <td>1.0</td>\n",
              "      <td>PERSONAL</td>\n",
              "      <td>C</td>\n",
              "      <td>5800</td>\n",
              "      <td>13.16</td>\n",
              "      <td>0</td>\n",
              "      <td>0.11</td>\n",
              "      <td>N</td>\n",
              "      <td>30</td>\n",
              "    </tr>\n",
              "    <tr>\n",
              "      <th>32577</th>\n",
              "      <td>54</td>\n",
              "      <td>120000</td>\n",
              "      <td>MORTGAGE</td>\n",
              "      <td>4.0</td>\n",
              "      <td>PERSONAL</td>\n",
              "      <td>A</td>\n",
              "      <td>17625</td>\n",
              "      <td>7.49</td>\n",
              "      <td>0</td>\n",
              "      <td>0.15</td>\n",
              "      <td>N</td>\n",
              "      <td>19</td>\n",
              "    </tr>\n",
              "    <tr>\n",
              "      <th>32578</th>\n",
              "      <td>65</td>\n",
              "      <td>76000</td>\n",
              "      <td>RENT</td>\n",
              "      <td>3.0</td>\n",
              "      <td>HOMEIMPROVEMENT</td>\n",
              "      <td>B</td>\n",
              "      <td>35000</td>\n",
              "      <td>10.99</td>\n",
              "      <td>1</td>\n",
              "      <td>0.46</td>\n",
              "      <td>N</td>\n",
              "      <td>28</td>\n",
              "    </tr>\n",
              "    <tr>\n",
              "      <th>32579</th>\n",
              "      <td>56</td>\n",
              "      <td>150000</td>\n",
              "      <td>MORTGAGE</td>\n",
              "      <td>5.0</td>\n",
              "      <td>PERSONAL</td>\n",
              "      <td>B</td>\n",
              "      <td>15000</td>\n",
              "      <td>11.48</td>\n",
              "      <td>0</td>\n",
              "      <td>0.10</td>\n",
              "      <td>N</td>\n",
              "      <td>26</td>\n",
              "    </tr>\n",
              "    <tr>\n",
              "      <th>32580</th>\n",
              "      <td>66</td>\n",
              "      <td>42000</td>\n",
              "      <td>RENT</td>\n",
              "      <td>2.0</td>\n",
              "      <td>MEDICAL</td>\n",
              "      <td>B</td>\n",
              "      <td>6475</td>\n",
              "      <td>9.99</td>\n",
              "      <td>0</td>\n",
              "      <td>0.15</td>\n",
              "      <td>N</td>\n",
              "      <td>30</td>\n",
              "    </tr>\n",
              "  </tbody>\n",
              "</table>\n",
              "<p>32581 rows × 12 columns</p>\n",
              "</div>"
            ],
            "text/plain": [
              "       person_age  person_income person_home_ownership  person_emp_length  \\\n",
              "0              22          59000                  RENT              123.0   \n",
              "1              21           9600                   OWN                5.0   \n",
              "2              25           9600              MORTGAGE                1.0   \n",
              "3              23          65500                  RENT                4.0   \n",
              "4              24          54400                  RENT                8.0   \n",
              "...           ...            ...                   ...                ...   \n",
              "32576          57          53000              MORTGAGE                1.0   \n",
              "32577          54         120000              MORTGAGE                4.0   \n",
              "32578          65          76000                  RENT                3.0   \n",
              "32579          56         150000              MORTGAGE                5.0   \n",
              "32580          66          42000                  RENT                2.0   \n",
              "\n",
              "           loan_intent loan_grade  loan_amnt  loan_int_rate  loan_status  \\\n",
              "0             PERSONAL          D      35000          16.02            1   \n",
              "1            EDUCATION          B       1000          11.14            0   \n",
              "2              MEDICAL          C       5500          12.87            1   \n",
              "3              MEDICAL          C      35000          15.23            1   \n",
              "4              MEDICAL          C      35000          14.27            1   \n",
              "...                ...        ...        ...            ...          ...   \n",
              "32576         PERSONAL          C       5800          13.16            0   \n",
              "32577         PERSONAL          A      17625           7.49            0   \n",
              "32578  HOMEIMPROVEMENT          B      35000          10.99            1   \n",
              "32579         PERSONAL          B      15000          11.48            0   \n",
              "32580          MEDICAL          B       6475           9.99            0   \n",
              "\n",
              "       loan_percent_income cb_person_default_on_file  \\\n",
              "0                     0.59                         Y   \n",
              "1                     0.10                         N   \n",
              "2                     0.57                         N   \n",
              "3                     0.53                         N   \n",
              "4                     0.55                         Y   \n",
              "...                    ...                       ...   \n",
              "32576                 0.11                         N   \n",
              "32577                 0.15                         N   \n",
              "32578                 0.46                         N   \n",
              "32579                 0.10                         N   \n",
              "32580                 0.15                         N   \n",
              "\n",
              "       cb_person_cred_hist_length  \n",
              "0                               3  \n",
              "1                               2  \n",
              "2                               3  \n",
              "3                               2  \n",
              "4                               4  \n",
              "...                           ...  \n",
              "32576                          30  \n",
              "32577                          19  \n",
              "32578                          28  \n",
              "32579                          26  \n",
              "32580                          30  \n",
              "\n",
              "[32581 rows x 12 columns]"
            ]
          },
          "execution_count": 69,
          "metadata": {},
          "output_type": "execute_result"
        }
      ],
      "source": [
        "df = pd.read_csv(\"credit_risk_dataset.csv\")\n",
        "df"
      ]
    },
    {
      "cell_type": "markdown",
      "metadata": {
        "id": "4Pb958dzsJX7"
      },
      "source": [
        "# **Parte 1**. Análisis descriptivo (univariante)"
      ]
    },
    {
      "cell_type": "markdown",
      "metadata": {
        "id": "gJOy6E-fsjJ2"
      },
      "source": [
        "1. Utiliza el método `info()` del dataframe, para obtener el resumen de los tipos de datos. ¿Cuántas columnas son numéricas y cuántas cualitativas?"
      ]
    },
    {
      "cell_type": "code",
      "execution_count": 70,
      "metadata": {
        "id": "xNJdWRXoTjEq"
      },
      "outputs": [
        {
          "name": "stdout",
          "output_type": "stream",
          "text": [
            "---------- Método info() ----------\n",
            "<class 'pandas.core.frame.DataFrame'>\n",
            "RangeIndex: 32581 entries, 0 to 32580\n",
            "Data columns (total 12 columns):\n",
            " #   Column                      Non-Null Count  Dtype  \n",
            "---  ------                      --------------  -----  \n",
            " 0   person_age                  32581 non-null  int64  \n",
            " 1   person_income               32581 non-null  int64  \n",
            " 2   person_home_ownership       32581 non-null  object \n",
            " 3   person_emp_length           31686 non-null  float64\n",
            " 4   loan_intent                 32581 non-null  object \n",
            " 5   loan_grade                  32581 non-null  object \n",
            " 6   loan_amnt                   32581 non-null  int64  \n",
            " 7   loan_int_rate               29465 non-null  float64\n",
            " 8   loan_status                 32581 non-null  int64  \n",
            " 9   loan_percent_income         32581 non-null  float64\n",
            " 10  cb_person_default_on_file   32581 non-null  object \n",
            " 11  cb_person_cred_hist_length  32581 non-null  int64  \n",
            "dtypes: float64(3), int64(5), object(4)\n",
            "memory usage: 3.0+ MB\n",
            "None\n"
          ]
        }
      ],
      "source": [
        "print('-'*10, 'Método info()','-'*10)\n",
        "print(df.info())"
      ]
    },
    {
      "cell_type": "markdown",
      "metadata": {},
      "source": [
        "* Hay 8 columnas numéricas (5 enteras y 3 flotantes)\n",
        "* Hay 4 columnas cualitativas"
      ]
    },
    {
      "cell_type": "markdown",
      "metadata": {
        "id": "5E5dc4kEsySz"
      },
      "source": [
        " 2. Determina el porcentaje de valores faltantes por columna."
      ]
    },
    {
      "cell_type": "code",
      "execution_count": 71,
      "metadata": {
        "id": "P2yQ1Q1GTkDR"
      },
      "outputs": [
        {
          "name": "stdout",
          "output_type": "stream",
          "text": [
            "---------- % DE VALORES FALTANTES ----------\n",
            "person_age                    0.000000\n",
            "person_income                 0.000000\n",
            "person_home_ownership         0.000000\n",
            "person_emp_length             2.747000\n",
            "loan_intent                   0.000000\n",
            "loan_grade                    0.000000\n",
            "loan_amnt                     0.000000\n",
            "loan_int_rate                 9.563856\n",
            "loan_status                   0.000000\n",
            "loan_percent_income           0.000000\n",
            "cb_person_default_on_file     0.000000\n",
            "cb_person_cred_hist_length    0.000000\n",
            "dtype: float64\n"
          ]
        }
      ],
      "source": [
        "\n",
        "print('-'*10, '% DE VALORES FALTANTES','-'*10)\n",
        "print(df.isna().sum() * 100 / len(df))\n"
      ]
    },
    {
      "cell_type": "markdown",
      "metadata": {
        "id": "WTpT5cHas1qr"
      },
      "source": [
        "# Análisis de variables numéricas"
      ]
    },
    {
      "cell_type": "markdown",
      "metadata": {
        "id": "vlyZuZS4tAQn"
      },
      "source": [
        "3. Obtén las siguientes estadísticas descriptivas para todas las variables numéricas:\n",
        "*   Tendencia central (media, mediana)\n",
        "*   Dispersión o variabilidad (min, max, desviación estándar, cuartiles)\n",
        "*   Forma (asimetría y curtosis)\n",
        "*   Clasifica las variables `person_age` y `loan_int_rate` según los valores observados de asimetría y curtosis\n",
        "\n",
        "**NOTA**. Recuerda que muchas de estas estadísticas, puedes obtenerlas utilizando la función `describe()` y que la mediana está representada en el 2do cuartil (50%)"
      ]
    },
    {
      "cell_type": "code",
      "execution_count": 72,
      "metadata": {
        "id": "sq1cYqFpTng1"
      },
      "outputs": [
        {
          "name": "stdout",
          "output_type": "stream",
          "text": [
            "---------- MEDIA ----------\n",
            "person_age                       27.734600\n",
            "person_income                 66074.848470\n",
            "person_emp_length                 4.789686\n",
            "loan_amnt                      9589.371106\n",
            "loan_int_rate                    11.011695\n",
            "loan_status                       0.218164\n",
            "loan_percent_income               0.170203\n",
            "cb_person_cred_hist_length        5.804211\n",
            "dtype: float64\n"
          ]
        }
      ],
      "source": [
        "print('-'*10, 'MEDIA','-'*10)\n",
        "print(df.mean(numeric_only=True))"
      ]
    },
    {
      "cell_type": "code",
      "execution_count": 73,
      "metadata": {},
      "outputs": [
        {
          "name": "stdout",
          "output_type": "stream",
          "text": [
            "---------- MEDIANA ----------\n",
            "person_age                       26.00\n",
            "person_income                 55000.00\n",
            "person_emp_length                 4.00\n",
            "loan_amnt                      8000.00\n",
            "loan_int_rate                    10.99\n",
            "loan_status                       0.00\n",
            "loan_percent_income               0.15\n",
            "cb_person_cred_hist_length        4.00\n",
            "dtype: float64\n"
          ]
        }
      ],
      "source": [
        "print('-'*10, 'MEDIANA','-'*10)\n",
        "print(df.median(numeric_only=True))"
      ]
    },
    {
      "cell_type": "code",
      "execution_count": 74,
      "metadata": {},
      "outputs": [
        {
          "name": "stdout",
          "output_type": "stream",
          "text": [
            "---------- MÁXIMOS ----------\n",
            "person_age                        144.00\n",
            "person_income                 6000000.00\n",
            "person_emp_length                 123.00\n",
            "loan_amnt                       35000.00\n",
            "loan_int_rate                      23.22\n",
            "loan_status                         1.00\n",
            "loan_percent_income                 0.83\n",
            "cb_person_cred_hist_length         30.00\n",
            "dtype: float64\n"
          ]
        }
      ],
      "source": [
        "print('-'*10, 'MÁXIMOS','-'*10)\n",
        "print(df.max(numeric_only=True))"
      ]
    },
    {
      "cell_type": "code",
      "execution_count": 75,
      "metadata": {},
      "outputs": [
        {
          "name": "stdout",
          "output_type": "stream",
          "text": [
            "---------- MÍNIMOS ----------\n",
            "person_age                      20.00\n",
            "person_income                 4000.00\n",
            "person_emp_length                0.00\n",
            "loan_amnt                      500.00\n",
            "loan_int_rate                    5.42\n",
            "loan_status                      0.00\n",
            "loan_percent_income              0.00\n",
            "cb_person_cred_hist_length       2.00\n",
            "dtype: float64\n"
          ]
        }
      ],
      "source": [
        "print('-'*10, 'MÍNIMOS','-'*10)\n",
        "print(df.min(numeric_only=True))"
      ]
    },
    {
      "cell_type": "code",
      "execution_count": 76,
      "metadata": {},
      "outputs": [
        {
          "name": "stdout",
          "output_type": "stream",
          "text": [
            "---------- DESVIACIÓN ESTÁNDAR ----------\n",
            "person_age                        6.348078\n",
            "person_income                 61983.119168\n",
            "person_emp_length                 4.142630\n",
            "loan_amnt                      6322.086646\n",
            "loan_int_rate                     3.240459\n",
            "loan_status                       0.413006\n",
            "loan_percent_income               0.106782\n",
            "cb_person_cred_hist_length        4.055001\n",
            "dtype: float64\n"
          ]
        }
      ],
      "source": [
        "print('-'*10, 'DESVIACIÓN ESTÁNDAR','-'*10)\n",
        "print(df.std(numeric_only=True))"
      ]
    },
    {
      "cell_type": "code",
      "execution_count": 77,
      "metadata": {},
      "outputs": [
        {
          "name": "stdout",
          "output_type": "stream",
          "text": [
            "---------- PRIMER CUARTIL ----------\n",
            "person_age                       23.00\n",
            "person_income                 38500.00\n",
            "person_emp_length                 2.00\n",
            "loan_amnt                      5000.00\n",
            "loan_int_rate                     7.90\n",
            "loan_status                       0.00\n",
            "loan_percent_income               0.09\n",
            "cb_person_cred_hist_length        3.00\n",
            "Name: 0.25, dtype: float64\n"
          ]
        }
      ],
      "source": [
        "print('-'*10, 'PRIMER CUARTIL','-'*10)\n",
        "print(df.quantile(.25, numeric_only=True))"
      ]
    },
    {
      "cell_type": "code",
      "execution_count": 78,
      "metadata": {},
      "outputs": [
        {
          "name": "stdout",
          "output_type": "stream",
          "text": [
            "---------- SEGUNDO CUARTIL ----------\n",
            "person_age                       26.00\n",
            "person_income                 55000.00\n",
            "person_emp_length                 4.00\n",
            "loan_amnt                      8000.00\n",
            "loan_int_rate                    10.99\n",
            "loan_status                       0.00\n",
            "loan_percent_income               0.15\n",
            "cb_person_cred_hist_length        4.00\n",
            "Name: 0.5, dtype: float64\n"
          ]
        }
      ],
      "source": [
        "print('-'*10, 'SEGUNDO CUARTIL','-'*10)\n",
        "print(df.quantile(.5, numeric_only=True))"
      ]
    },
    {
      "cell_type": "code",
      "execution_count": 79,
      "metadata": {},
      "outputs": [
        {
          "name": "stdout",
          "output_type": "stream",
          "text": [
            "---------- TERCER CUARTIL ----------\n",
            "person_age                       30.00\n",
            "person_income                 79200.00\n",
            "person_emp_length                 7.00\n",
            "loan_amnt                     12200.00\n",
            "loan_int_rate                    13.47\n",
            "loan_status                       0.00\n",
            "loan_percent_income               0.23\n",
            "cb_person_cred_hist_length        8.00\n",
            "Name: 0.75, dtype: float64\n"
          ]
        }
      ],
      "source": [
        "print('-'*10, 'TERCER CUARTIL','-'*10)\n",
        "print(df.quantile(.75, numeric_only=True))"
      ]
    },
    {
      "cell_type": "code",
      "execution_count": 80,
      "metadata": {},
      "outputs": [
        {
          "name": "stdout",
          "output_type": "stream",
          "text": [
            "---------- CUARTO CUARTIL ----------\n",
            "person_age                        144.00\n",
            "person_income                 6000000.00\n",
            "person_emp_length                 123.00\n",
            "loan_amnt                       35000.00\n",
            "loan_int_rate                      23.22\n",
            "loan_status                         1.00\n",
            "loan_percent_income                 0.83\n",
            "cb_person_cred_hist_length         30.00\n",
            "Name: 1.0, dtype: float64\n"
          ]
        }
      ],
      "source": [
        "print('-'*10, 'CUARTO CUARTIL','-'*10)\n",
        "print(df.quantile(1, numeric_only=True))"
      ]
    },
    {
      "cell_type": "code",
      "execution_count": 81,
      "metadata": {},
      "outputs": [
        {
          "name": "stdout",
          "output_type": "stream",
          "text": [
            "---------- ASIMETRÍA ----------\n",
            "person_age                     2.581393\n",
            "person_income                 32.865349\n",
            "person_emp_length              2.614455\n",
            "loan_amnt                      1.192477\n",
            "loan_int_rate                  0.208550\n",
            "loan_status                    1.364888\n",
            "loan_percent_income            1.064669\n",
            "cb_person_cred_hist_length     1.661790\n",
            "dtype: float64\n"
          ]
        }
      ],
      "source": [
        "print('-'*10, 'ASIMETRÍA','-'*10)\n",
        "print(df.skew(numeric_only=True))"
      ]
    },
    {
      "cell_type": "code",
      "execution_count": 82,
      "metadata": {},
      "outputs": [
        {
          "name": "stdout",
          "output_type": "stream",
          "text": [
            "---------- CURTOSIS ----------\n",
            "person_age                      18.560825\n",
            "person_income                 2693.272776\n",
            "person_emp_length               43.722338\n",
            "loan_amnt                        1.423565\n",
            "loan_int_rate                   -0.671609\n",
            "loan_status                     -0.137088\n",
            "loan_percent_income              1.223687\n",
            "cb_person_cred_hist_length       3.716194\n",
            "dtype: float64\n"
          ]
        }
      ],
      "source": [
        "print('-'*10, 'CURTOSIS','-'*10)\n",
        "print(df.kurt(numeric_only=True))"
      ]
    },
    {
      "cell_type": "markdown",
      "metadata": {},
      "source": [
        "* MISSING POINT"
      ]
    },
    {
      "cell_type": "markdown",
      "metadata": {
        "id": "S8-KT97Rtbfe"
      },
      "source": [
        "4. Utiliza histogramas para determinar la distribución de los valores representados en cada variable.\n",
        "*   ¿Se corresponde con lo obtenido en el cálculo de asimetría? Como verás, los datos reales son más complejos que la teoría. Por esta razón, recuerda siempre acompañar el análisis de la asimetría con algún gráfico como un histograma.\n",
        "\n",
        "**NOTA**. Para esto también puedes ocupar los gráficos `kde` ([kernel density estimation](https://www.cienciadedatos.net/documentos/pystats02-kernel-density-estimation-kde-python.html)) que crean una curva continua y suave expandiendo la idea del histograma."
      ]
    },
    {
      "cell_type": "code",
      "execution_count": 91,
      "metadata": {
        "id": "s2p_NMxoTzu7"
      },
      "outputs": [
        {
          "data": {
            "text/plain": [
              "(array([17833.,  5639.,  5647.,  1391.,   929.,   877.,    72.,    74.,\n",
              "           56.,    63.]),\n",
              " array([ 2. ,  4.8,  7.6, 10.4, 13.2, 16. , 18.8, 21.6, 24.4, 27.2, 30. ]),\n",
              " <BarContainer object of 10 artists>)"
            ]
          },
          "execution_count": 91,
          "metadata": {},
          "output_type": "execute_result"
        },
        {
          "data": {
            "image/png": "[encoded data removed]",
            "text/plain": [
              "<Figure size 640x480 with 8 Axes>"
            ]
          },
          "metadata": {},
          "output_type": "display_data"
        }
      ],
      "source": [
        "\n",
        "fig = plt.figure()\n",
        "ax1 = fig.add_subplot(2, 4, 1)\n",
        "ax2 = fig.add_subplot(2, 4, 2)\n",
        "ax3 = fig.add_subplot(2, 4, 3)\n",
        "ax4 = fig.add_subplot(2, 4, 4)\n",
        "ax5 = fig.add_subplot(2, 4, 5)\n",
        "ax6 = fig.add_subplot(2, 4, 6)\n",
        "ax7 = fig.add_subplot(2, 4, 7)\n",
        "ax8 = fig.add_subplot(2, 4, 8)\n",
        "ax1.hist(df['person_age'])\n",
        "ax2.hist(df['person_emp_length'])\n",
        "ax3.hist(df['loan_amnt'])\n",
        "ax4.hist(df['loan_int_rate'])\n",
        "ax5.hist(df['loan_int_rate'])\n",
        "ax6.hist(df['loan_status'])\n",
        "ax7.hist(df['loan_percent_income'])\n",
        "ax8.hist(df['cb_person_cred_hist_length'])\n"
      ]
    },
    {
      "cell_type": "markdown",
      "metadata": {
        "id": "IOs8B6xv7E27"
      },
      "source": [
        "5. Emplea boxplots para mostrar la distribución de los datos a través de sus cuartiles."
      ]
    },
    {
      "cell_type": "code",
      "execution_count": null,
      "metadata": {
        "id": "q3q7Zwr5T04j"
      },
      "outputs": [],
      "source": []
    },
    {
      "cell_type": "markdown",
      "metadata": {
        "id": "oLhS0w1y7LKA"
      },
      "source": [
        "*   Como podrás observar hay valores atípicos en todas las variables. Ejecuta el siguiente código para identificar los valores atípicos en la variable `person_age`"
      ]
    },
    {
      "cell_type": "code",
      "execution_count": 83,
      "metadata": {
        "id": "N-TXJcDvQFc2"
      },
      "outputs": [
        {
          "data": {
            "text/html": [
              "<div>\n",
              "<style scoped>\n",
              "    .dataframe tbody tr th:only-of-type {\n",
              "        vertical-align: middle;\n",
              "    }\n",
              "\n",
              "    .dataframe tbody tr th {\n",
              "        vertical-align: top;\n",
              "    }\n",
              "\n",
              "    .dataframe thead th {\n",
              "        text-align: right;\n",
              "    }\n",
              "</style>\n",
              "<table border=\"1\" class=\"dataframe\">\n",
              "  <thead>\n",
              "    <tr style=\"text-align: right;\">\n",
              "      <th></th>\n",
              "      <th>person_age</th>\n",
              "      <th>person_income</th>\n",
              "      <th>person_home_ownership</th>\n",
              "      <th>person_emp_length</th>\n",
              "      <th>loan_intent</th>\n",
              "      <th>loan_grade</th>\n",
              "      <th>loan_amnt</th>\n",
              "      <th>loan_int_rate</th>\n",
              "      <th>loan_status</th>\n",
              "      <th>loan_percent_income</th>\n",
              "      <th>cb_person_default_on_file</th>\n",
              "      <th>cb_person_cred_hist_length</th>\n",
              "    </tr>\n",
              "  </thead>\n",
              "  <tbody>\n",
              "    <tr>\n",
              "      <th>81</th>\n",
              "      <td>144</td>\n",
              "      <td>250000</td>\n",
              "      <td>RENT</td>\n",
              "      <td>4.0</td>\n",
              "      <td>VENTURE</td>\n",
              "      <td>C</td>\n",
              "      <td>4800</td>\n",
              "      <td>13.57</td>\n",
              "      <td>0</td>\n",
              "      <td>0.02</td>\n",
              "      <td>N</td>\n",
              "      <td>3</td>\n",
              "    </tr>\n",
              "    <tr>\n",
              "      <th>183</th>\n",
              "      <td>144</td>\n",
              "      <td>200000</td>\n",
              "      <td>MORTGAGE</td>\n",
              "      <td>4.0</td>\n",
              "      <td>EDUCATION</td>\n",
              "      <td>B</td>\n",
              "      <td>6000</td>\n",
              "      <td>11.86</td>\n",
              "      <td>0</td>\n",
              "      <td>0.03</td>\n",
              "      <td>N</td>\n",
              "      <td>2</td>\n",
              "    </tr>\n",
              "    <tr>\n",
              "      <th>575</th>\n",
              "      <td>123</td>\n",
              "      <td>80004</td>\n",
              "      <td>RENT</td>\n",
              "      <td>2.0</td>\n",
              "      <td>EDUCATION</td>\n",
              "      <td>B</td>\n",
              "      <td>20400</td>\n",
              "      <td>10.25</td>\n",
              "      <td>0</td>\n",
              "      <td>0.25</td>\n",
              "      <td>N</td>\n",
              "      <td>3</td>\n",
              "    </tr>\n",
              "    <tr>\n",
              "      <th>747</th>\n",
              "      <td>123</td>\n",
              "      <td>78000</td>\n",
              "      <td>RENT</td>\n",
              "      <td>7.0</td>\n",
              "      <td>VENTURE</td>\n",
              "      <td>B</td>\n",
              "      <td>20000</td>\n",
              "      <td>NaN</td>\n",
              "      <td>0</td>\n",
              "      <td>0.26</td>\n",
              "      <td>N</td>\n",
              "      <td>4</td>\n",
              "    </tr>\n",
              "    <tr>\n",
              "      <th>29121</th>\n",
              "      <td>50</td>\n",
              "      <td>900000</td>\n",
              "      <td>MORTGAGE</td>\n",
              "      <td>11.0</td>\n",
              "      <td>DEBTCONSOLIDATION</td>\n",
              "      <td>B</td>\n",
              "      <td>30000</td>\n",
              "      <td>12.69</td>\n",
              "      <td>0</td>\n",
              "      <td>0.03</td>\n",
              "      <td>N</td>\n",
              "      <td>15</td>\n",
              "    </tr>\n",
              "    <tr>\n",
              "      <th>...</th>\n",
              "      <td>...</td>\n",
              "      <td>...</td>\n",
              "      <td>...</td>\n",
              "      <td>...</td>\n",
              "      <td>...</td>\n",
              "      <td>...</td>\n",
              "      <td>...</td>\n",
              "      <td>...</td>\n",
              "      <td>...</td>\n",
              "      <td>...</td>\n",
              "      <td>...</td>\n",
              "      <td>...</td>\n",
              "    </tr>\n",
              "    <tr>\n",
              "      <th>32576</th>\n",
              "      <td>57</td>\n",
              "      <td>53000</td>\n",
              "      <td>MORTGAGE</td>\n",
              "      <td>1.0</td>\n",
              "      <td>PERSONAL</td>\n",
              "      <td>C</td>\n",
              "      <td>5800</td>\n",
              "      <td>13.16</td>\n",
              "      <td>0</td>\n",
              "      <td>0.11</td>\n",
              "      <td>N</td>\n",
              "      <td>30</td>\n",
              "    </tr>\n",
              "    <tr>\n",
              "      <th>32577</th>\n",
              "      <td>54</td>\n",
              "      <td>120000</td>\n",
              "      <td>MORTGAGE</td>\n",
              "      <td>4.0</td>\n",
              "      <td>PERSONAL</td>\n",
              "      <td>A</td>\n",
              "      <td>17625</td>\n",
              "      <td>7.49</td>\n",
              "      <td>0</td>\n",
              "      <td>0.15</td>\n",
              "      <td>N</td>\n",
              "      <td>19</td>\n",
              "    </tr>\n",
              "    <tr>\n",
              "      <th>32578</th>\n",
              "      <td>65</td>\n",
              "      <td>76000</td>\n",
              "      <td>RENT</td>\n",
              "      <td>3.0</td>\n",
              "      <td>HOMEIMPROVEMENT</td>\n",
              "      <td>B</td>\n",
              "      <td>35000</td>\n",
              "      <td>10.99</td>\n",
              "      <td>1</td>\n",
              "      <td>0.46</td>\n",
              "      <td>N</td>\n",
              "      <td>28</td>\n",
              "    </tr>\n",
              "    <tr>\n",
              "      <th>32579</th>\n",
              "      <td>56</td>\n",
              "      <td>150000</td>\n",
              "      <td>MORTGAGE</td>\n",
              "      <td>5.0</td>\n",
              "      <td>PERSONAL</td>\n",
              "      <td>B</td>\n",
              "      <td>15000</td>\n",
              "      <td>11.48</td>\n",
              "      <td>0</td>\n",
              "      <td>0.10</td>\n",
              "      <td>N</td>\n",
              "      <td>26</td>\n",
              "    </tr>\n",
              "    <tr>\n",
              "      <th>32580</th>\n",
              "      <td>66</td>\n",
              "      <td>42000</td>\n",
              "      <td>RENT</td>\n",
              "      <td>2.0</td>\n",
              "      <td>MEDICAL</td>\n",
              "      <td>B</td>\n",
              "      <td>6475</td>\n",
              "      <td>9.99</td>\n",
              "      <td>0</td>\n",
              "      <td>0.15</td>\n",
              "      <td>N</td>\n",
              "      <td>30</td>\n",
              "    </tr>\n",
              "  </tbody>\n",
              "</table>\n",
              "<p>1494 rows × 12 columns</p>\n",
              "</div>"
            ],
            "text/plain": [
              "       person_age  person_income person_home_ownership  person_emp_length  \\\n",
              "81            144         250000                  RENT                4.0   \n",
              "183           144         200000              MORTGAGE                4.0   \n",
              "575           123          80004                  RENT                2.0   \n",
              "747           123          78000                  RENT                7.0   \n",
              "29121          50         900000              MORTGAGE               11.0   \n",
              "...           ...            ...                   ...                ...   \n",
              "32576          57          53000              MORTGAGE                1.0   \n",
              "32577          54         120000              MORTGAGE                4.0   \n",
              "32578          65          76000                  RENT                3.0   \n",
              "32579          56         150000              MORTGAGE                5.0   \n",
              "32580          66          42000                  RENT                2.0   \n",
              "\n",
              "             loan_intent loan_grade  loan_amnt  loan_int_rate  loan_status  \\\n",
              "81               VENTURE          C       4800          13.57            0   \n",
              "183            EDUCATION          B       6000          11.86            0   \n",
              "575            EDUCATION          B      20400          10.25            0   \n",
              "747              VENTURE          B      20000            NaN            0   \n",
              "29121  DEBTCONSOLIDATION          B      30000          12.69            0   \n",
              "...                  ...        ...        ...            ...          ...   \n",
              "32576           PERSONAL          C       5800          13.16            0   \n",
              "32577           PERSONAL          A      17625           7.49            0   \n",
              "32578    HOMEIMPROVEMENT          B      35000          10.99            1   \n",
              "32579           PERSONAL          B      15000          11.48            0   \n",
              "32580            MEDICAL          B       6475           9.99            0   \n",
              "\n",
              "       loan_percent_income cb_person_default_on_file  \\\n",
              "81                    0.02                         N   \n",
              "183                   0.03                         N   \n",
              "575                   0.25                         N   \n",
              "747                   0.26                         N   \n",
              "29121                 0.03                         N   \n",
              "...                    ...                       ...   \n",
              "32576                 0.11                         N   \n",
              "32577                 0.15                         N   \n",
              "32578                 0.46                         N   \n",
              "32579                 0.10                         N   \n",
              "32580                 0.15                         N   \n",
              "\n",
              "       cb_person_cred_hist_length  \n",
              "81                              3  \n",
              "183                             2  \n",
              "575                             3  \n",
              "747                             4  \n",
              "29121                          15  \n",
              "...                           ...  \n",
              "32576                          30  \n",
              "32577                          19  \n",
              "32578                          28  \n",
              "32579                          26  \n",
              "32580                          30  \n",
              "\n",
              "[1494 rows x 12 columns]"
            ]
          },
          "execution_count": 83,
          "metadata": {},
          "output_type": "execute_result"
        }
      ],
      "source": [
        "percentile_25 = df[\"person_age\"].quantile(0.25)\n",
        "percentile_75 = df[\"person_age\"].quantile(0.75)\n",
        "iqr = percentile_75 - percentile_25\n",
        "upper_limit = percentile_75 + 1.5 * iqr\n",
        "lower_limit = percentile_25 - 1.5 * iqr\n",
        "IQR_outliers = df[(df[\"person_age\"] < lower_limit) | (df[\"person_age\"] > upper_limit)]\n",
        "IQR_outliers"
      ]
    },
    {
      "cell_type": "markdown",
      "metadata": {
        "id": "-NdS0_U67kU4"
      },
      "source": [
        "# Análisis de variables de texto"
      ]
    },
    {
      "cell_type": "markdown",
      "metadata": {
        "id": "jIOEB8QL8RDY"
      },
      "source": [
        " 6. Obtén las siguientes estadísticas descriptivas para todas las variables de texto:\n",
        "*   Tendencia central (moda)\n",
        "*   Cardinalidad (cantidad de valores únicos)\n",
        "*   Recuentos únicos (número de ocurrencias para cada valor único)\n",
        "\n",
        "**NOTA**. Un resumen de estas estadísticas, puedes obtenerlas indicando en la función `describe()` que se incluirán sólo las variables de tipo object: `describe(include = 'object')`. Para los recuentos utiliza la función `df['columna'].value_counts()`"
      ]
    },
    {
      "cell_type": "code",
      "execution_count": null,
      "metadata": {
        "id": "2B_fTyVHT5_Q"
      },
      "outputs": [],
      "source": []
    },
    {
      "cell_type": "markdown",
      "metadata": {
        "id": "xowqjxyp_-0n"
      },
      "source": [
        "7. Utiliza gráficos de barras por variable para representar la frecuencia de cada categoría.\n",
        "\n",
        "**NOTA**. seaborn posee un gráfico de recuento, para variables de tipo object, que calcula la frecuencia de cada categoría sin necesidad de utilizar la función `value_counts()`. Para generarlo debes indicar la columna: `sns.countplot(x='columna', data=df) `"
      ]
    },
    {
      "cell_type": "code",
      "execution_count": null,
      "metadata": {
        "id": "Uaf9oZZFT7Di"
      },
      "outputs": [],
      "source": []
    },
    {
      "cell_type": "markdown",
      "metadata": {
        "id": "p_KV6jjEAO2r"
      },
      "source": [
        "# **Parte 2**. Análisis de correlación (bivariante y multivariante)"
      ]
    },
    {
      "cell_type": "markdown",
      "metadata": {
        "id": "ff-y1jpREnkt"
      },
      "source": [
        "La variable `loan_status` será la variable de salida (o a predecir en un modelo de ML). Analiza su relación con el resto de las variables a través de los siguientes gráficos:\n",
        "\n",
        "8. Un box plot para visualizar la distribución de `loan_percent_income` según el `loan_status`. Interpreta el resultado."
      ]
    },
    {
      "cell_type": "code",
      "execution_count": null,
      "metadata": {
        "id": "1VPAd39ET8R3"
      },
      "outputs": [],
      "source": []
    },
    {
      "cell_type": "markdown",
      "metadata": {
        "id": "rdm3pENVHSSp"
      },
      "source": [
        " 9. En los gráficos de barras que obtuviste en el ejercicio 7, separa el conteo según el `loan_status`, utilizando el parámetro `hue`."
      ]
    },
    {
      "cell_type": "code",
      "execution_count": null,
      "metadata": {
        "id": "rJTgZkB8T9JN"
      },
      "outputs": [],
      "source": []
    },
    {
      "cell_type": "markdown",
      "metadata": {
        "id": "KAehbbQnIyjn"
      },
      "source": [
        "10. Un mapa de calor con los valores de correlación de todas las variables del dataframe.\n",
        "*   ¿Qué variable tiene mayor correlación con `loan_status`?"
      ]
    },
    {
      "cell_type": "code",
      "execution_count": null,
      "metadata": {
        "id": "glO0U50bT-Rn"
      },
      "outputs": [],
      "source": []
    }
  ],
  "metadata": {
    "colab": {
      "provenance": []
    },
    "kernelspec": {
      "display_name": ".venv",
      "language": "python",
      "name": "python3"
    },
    "language_info": {
      "codemirror_mode": {
        "name": "ipython",
        "version": 3
      },
      "file_extension": ".py",
      "mimetype": "text/x-python",
      "name": "python",
      "nbconvert_exporter": "python",
      "pygments_lexer": "ipython3",
      "version": "3.11.9"
    }
  },
  "nbformat": 4,
  "nbformat_minor": 0
}
